{
  "nbformat": 4,
  "nbformat_minor": 0,
  "metadata": {
    "colab": {
      "name": "Restaurant.ipynb",
      "provenance": [],
      "collapsed_sections": []
    },
    "kernelspec": {
      "name": "python3",
      "display_name": "Python 3"
    },
    "language_info": {
      "name": "python"
    },
    "accelerator": "GPU"
  },
  "cells": [
    {
      "cell_type": "code",
      "metadata": {
        "colab": {
          "base_uri": "https://localhost:8080/"
        },
        "id": "YSEtmVFaZyCS",
        "outputId": "afc3241a-65a4-407b-ad75-2ba62a48dfb0"
      },
      "source": [
        "# INSTALLING CONDA ON GOOGLE COLAB FOR GEOSPATIAL DATA ANALYSIS\n",
        "! wget https://repo.anaconda.com/miniconda/Miniconda3-py37_4.8.2-Linux-x86_64.sh\n",
        "! chmod +x Miniconda3-py37_4.8.2-Linux-x86_64.sh\n",
        "! bash ./Miniconda3-py37_4.8.2-Linux-x86_64.sh -b -f -p /usr/local\n",
        "import sys\n",
        "sys.path.append('/usr/local/lib/python3.7/site-packages/')"
      ],
      "execution_count": 1,
      "outputs": [
        {
          "output_type": "stream",
          "name": "stdout",
          "text": [
            "--2021-10-13 15:35:32--  https://repo.anaconda.com/miniconda/Miniconda3-py37_4.8.2-Linux-x86_64.sh\n",
            "Resolving repo.anaconda.com (repo.anaconda.com)... 104.16.130.3, 104.16.131.3, 2606:4700::6810:8303, ...\n",
            "Connecting to repo.anaconda.com (repo.anaconda.com)|104.16.130.3|:443... connected.\n",
            "HTTP request sent, awaiting response... 200 OK\n",
            "Length: 85055499 (81M) [application/x-sh]\n",
            "Saving to: ‘Miniconda3-py37_4.8.2-Linux-x86_64.sh’\n",
            "\n",
            "Miniconda3-py37_4.8 100%[===================>]  81.12M   148MB/s    in 0.5s    \n",
            "\n",
            "2021-10-13 15:35:33 (148 MB/s) - ‘Miniconda3-py37_4.8.2-Linux-x86_64.sh’ saved [85055499/85055499]\n",
            "\n",
            "PREFIX=/usr/local\n",
            "Unpacking payload ...\n",
            "Collecting package metadata (current_repodata.json): - \b\b\\ \b\b| \b\bdone\n",
            "Solving environment: - \b\b\\ \b\bdone\n",
            "\n",
            "## Package Plan ##\n",
            "\n",
            "  environment location: /usr/local\n",
            "\n",
            "  added / updated specs:\n",
            "    - _libgcc_mutex==0.1=main\n",
            "    - asn1crypto==1.3.0=py37_0\n",
            "    - ca-certificates==2020.1.1=0\n",
            "    - certifi==2019.11.28=py37_0\n",
            "    - cffi==1.14.0=py37h2e261b9_0\n",
            "    - chardet==3.0.4=py37_1003\n",
            "    - conda-package-handling==1.6.0=py37h7b6447c_0\n",
            "    - conda==4.8.2=py37_0\n",
            "    - cryptography==2.8=py37h1ba5d50_0\n",
            "    - idna==2.8=py37_0\n",
            "    - ld_impl_linux-64==2.33.1=h53a641e_7\n",
            "    - libedit==3.1.20181209=hc058e9b_0\n",
            "    - libffi==3.2.1=hd88cf55_4\n",
            "    - libgcc-ng==9.1.0=hdf63c60_0\n",
            "    - libstdcxx-ng==9.1.0=hdf63c60_0\n",
            "    - ncurses==6.2=he6710b0_0\n",
            "    - openssl==1.1.1d=h7b6447c_4\n",
            "    - pip==20.0.2=py37_1\n",
            "    - pycosat==0.6.3=py37h7b6447c_0\n",
            "    - pycparser==2.19=py37_0\n",
            "    - pyopenssl==19.1.0=py37_0\n",
            "    - pysocks==1.7.1=py37_0\n",
            "    - python==3.7.6=h0371630_2\n",
            "    - readline==7.0=h7b6447c_5\n",
            "    - requests==2.22.0=py37_1\n",
            "    - ruamel_yaml==0.15.87=py37h7b6447c_0\n",
            "    - setuptools==45.2.0=py37_0\n",
            "    - six==1.14.0=py37_0\n",
            "    - sqlite==3.31.1=h7b6447c_0\n",
            "    - tk==8.6.8=hbc83047_0\n",
            "    - tqdm==4.42.1=py_0\n",
            "    - urllib3==1.25.8=py37_0\n",
            "    - wheel==0.34.2=py37_0\n",
            "    - xz==5.2.4=h14c3975_4\n",
            "    - yaml==0.1.7=had09818_2\n",
            "    - zlib==1.2.11=h7b6447c_3\n",
            "\n",
            "\n",
            "The following NEW packages will be INSTALLED:\n",
            "\n",
            "  _libgcc_mutex      pkgs/main/linux-64::_libgcc_mutex-0.1-main\n",
            "  asn1crypto         pkgs/main/linux-64::asn1crypto-1.3.0-py37_0\n",
            "  ca-certificates    pkgs/main/linux-64::ca-certificates-2020.1.1-0\n",
            "  certifi            pkgs/main/linux-64::certifi-2019.11.28-py37_0\n",
            "  cffi               pkgs/main/linux-64::cffi-1.14.0-py37h2e261b9_0\n",
            "  chardet            pkgs/main/linux-64::chardet-3.0.4-py37_1003\n",
            "  conda              pkgs/main/linux-64::conda-4.8.2-py37_0\n",
            "  conda-package-han~ pkgs/main/linux-64::conda-package-handling-1.6.0-py37h7b6447c_0\n",
            "  cryptography       pkgs/main/linux-64::cryptography-2.8-py37h1ba5d50_0\n",
            "  idna               pkgs/main/linux-64::idna-2.8-py37_0\n",
            "  ld_impl_linux-64   pkgs/main/linux-64::ld_impl_linux-64-2.33.1-h53a641e_7\n",
            "  libedit            pkgs/main/linux-64::libedit-3.1.20181209-hc058e9b_0\n",
            "  libffi             pkgs/main/linux-64::libffi-3.2.1-hd88cf55_4\n",
            "  libgcc-ng          pkgs/main/linux-64::libgcc-ng-9.1.0-hdf63c60_0\n",
            "  libstdcxx-ng       pkgs/main/linux-64::libstdcxx-ng-9.1.0-hdf63c60_0\n",
            "  ncurses            pkgs/main/linux-64::ncurses-6.2-he6710b0_0\n",
            "  openssl            pkgs/main/linux-64::openssl-1.1.1d-h7b6447c_4\n",
            "  pip                pkgs/main/linux-64::pip-20.0.2-py37_1\n",
            "  pycosat            pkgs/main/linux-64::pycosat-0.6.3-py37h7b6447c_0\n",
            "  pycparser          pkgs/main/linux-64::pycparser-2.19-py37_0\n",
            "  pyopenssl          pkgs/main/linux-64::pyopenssl-19.1.0-py37_0\n",
            "  pysocks            pkgs/main/linux-64::pysocks-1.7.1-py37_0\n",
            "  python             pkgs/main/linux-64::python-3.7.6-h0371630_2\n",
            "  readline           pkgs/main/linux-64::readline-7.0-h7b6447c_5\n",
            "  requests           pkgs/main/linux-64::requests-2.22.0-py37_1\n",
            "  ruamel_yaml        pkgs/main/linux-64::ruamel_yaml-0.15.87-py37h7b6447c_0\n",
            "  setuptools         pkgs/main/linux-64::setuptools-45.2.0-py37_0\n",
            "  six                pkgs/main/linux-64::six-1.14.0-py37_0\n",
            "  sqlite             pkgs/main/linux-64::sqlite-3.31.1-h7b6447c_0\n",
            "  tk                 pkgs/main/linux-64::tk-8.6.8-hbc83047_0\n",
            "  tqdm               pkgs/main/noarch::tqdm-4.42.1-py_0\n",
            "  urllib3            pkgs/main/linux-64::urllib3-1.25.8-py37_0\n",
            "  wheel              pkgs/main/linux-64::wheel-0.34.2-py37_0\n",
            "  xz                 pkgs/main/linux-64::xz-5.2.4-h14c3975_4\n",
            "  yaml               pkgs/main/linux-64::yaml-0.1.7-had09818_2\n",
            "  zlib               pkgs/main/linux-64::zlib-1.2.11-h7b6447c_3\n",
            "\n",
            "\n",
            "Preparing transaction: / \b\b- \b\b\\ \b\b| \b\bdone\n",
            "Executing transaction: - \b\b\\ \b\b| \b\b/ \b\b- \b\b\\ \b\b| \b\b/ \b\b- \b\b\\ \b\b| \b\b/ \b\b- \b\b\\ \b\b| \b\b/ \b\bdone\n",
            "installation finished.\n",
            "WARNING:\n",
            "    You currently have a PYTHONPATH environment variable set. This may cause\n",
            "    unexpected behavior when running the Python interpreter in Miniconda3.\n",
            "    For best results, please verify that your PYTHONPATH only points to\n",
            "    directories of packages that are compatible with the Python interpreter\n",
            "    in Miniconda3: /usr/local\n"
          ]
        }
      ]
    },
    {
      "cell_type": "code",
      "metadata": {
        "colab": {
          "base_uri": "https://localhost:8080/"
        },
        "id": "eHRcepScaYl0",
        "outputId": "4e8949a2-6c6a-4059-9ac2-53e0f593b1c2"
      },
      "source": [
        "! conda install -c rdkit rdkit -y"
      ],
      "execution_count": 2,
      "outputs": [
        {
          "output_type": "stream",
          "name": "stdout",
          "text": [
            "Collecting package metadata (current_repodata.json): - \b\b\\ \b\b| \b\b/ \b\b- \b\b\\ \b\b| \b\b/ \b\b- \b\b\\ \b\b| \b\b/ \b\b- \b\b\\ \b\b| \b\b/ \b\b- \b\b\\ \b\b| \b\b/ \b\b- \b\b\\ \b\bdone\n",
            "Solving environment: / \b\b- \b\b\\ \b\b| \b\b/ \b\b- \b\b\\ \b\b| \b\b/ \b\b- \b\b\\ \b\b| \b\bdone\n",
            "\n",
            "## Package Plan ##\n",
            "\n",
            "  environment location: /usr/local\n",
            "\n",
            "  added / updated specs:\n",
            "    - rdkit\n",
            "\n",
            "\n",
            "The following packages will be downloaded:\n",
            "\n",
            "    package                    |            build\n",
            "    ---------------------------|-----------------\n",
            "    blas-1.0                   |              mkl           6 KB\n",
            "    bottleneck-1.3.2           |   py37heb32a55_1         125 KB\n",
            "    bzip2-1.0.8                |       h7b6447c_0          78 KB\n",
            "    ca-certificates-2021.9.30  |       h06a4308_1         116 KB\n",
            "    cairo-1.16.0               |       hf32fb01_1         1.0 MB\n",
            "    certifi-2021.10.8          |   py37h06a4308_0         151 KB\n",
            "    conda-4.10.3               |   py37h06a4308_0         2.9 MB\n",
            "    fontconfig-2.13.1          |       h6c09931_0         250 KB\n",
            "    freetype-2.10.4            |       h5ab3b9f_0         596 KB\n",
            "    glib-2.69.1                |       h5202010_0         1.7 MB\n",
            "    icu-58.2                   |       he6710b0_3        10.5 MB\n",
            "    intel-openmp-2021.3.0      |    h06a4308_3350         1.4 MB\n",
            "    jpeg-9d                    |       h7f8727e_0         232 KB\n",
            "    lcms2-2.12                 |       h3be6417_0         312 KB\n",
            "    libboost-1.73.0            |      h3ff78a5_11        13.9 MB\n",
            "    libffi-3.3                 |       he6710b0_2          50 KB\n",
            "    libpng-1.6.37              |       hbc83047_0         278 KB\n",
            "    libtiff-4.2.0              |       h85742a9_0         502 KB\n",
            "    libuuid-1.0.3              |       h7f8727e_2          17 KB\n",
            "    libwebp-base-1.2.0         |       h27cfd23_0         437 KB\n",
            "    libxcb-1.14                |       h7b6447c_0         505 KB\n",
            "    libxml2-2.9.10             |       hb55368b_3         1.2 MB\n",
            "    lz4-c-1.9.3                |       h295c915_1         185 KB\n",
            "    mkl-2021.3.0               |     h06a4308_520       141.2 MB\n",
            "    mkl-service-2.4.0          |   py37h7f8727e_0          56 KB\n",
            "    mkl_fft-1.3.0              |   py37h42c9631_2         170 KB\n",
            "    mkl_random-1.2.2           |   py37h51133e4_0         287 KB\n",
            "    numexpr-2.7.3              |   py37h22e1b3c_1         188 KB\n",
            "    numpy-1.20.3               |   py37hf144106_0          23 KB\n",
            "    numpy-base-1.20.3          |   py37h74d4b33_0         4.5 MB\n",
            "    olefile-0.46               |           py37_0          50 KB\n",
            "    openjpeg-2.4.0             |       h3ad879b_0         331 KB\n",
            "    openssl-1.1.1l             |       h7f8727e_0         2.5 MB\n",
            "    pandas-1.3.3               |   py37h8c16a72_0         9.2 MB\n",
            "    pcre-8.45                  |       h295c915_0         207 KB\n",
            "    pillow-8.3.1               |   py37h2c7a002_0         635 KB\n",
            "    pixman-0.40.0              |       h7f8727e_1         373 KB\n",
            "    py-boost-1.73.0            |  py37ha9443f7_11         204 KB\n",
            "    python-dateutil-2.8.2      |     pyhd3eb1b0_0         233 KB\n",
            "    pytz-2021.3                |     pyhd3eb1b0_0         171 KB\n",
            "    rdkit-2020.09.1.0          |   py37hd50e099_1        25.8 MB  rdkit\n",
            "    xz-5.2.5                   |       h7b6447c_0         341 KB\n",
            "    zstd-1.4.9                 |       haebb681_0         480 KB\n",
            "    ------------------------------------------------------------\n",
            "                                           Total:       223.2 MB\n",
            "\n",
            "The following NEW packages will be INSTALLED:\n",
            "\n",
            "  blas               pkgs/main/linux-64::blas-1.0-mkl\n",
            "  bottleneck         pkgs/main/linux-64::bottleneck-1.3.2-py37heb32a55_1\n",
            "  bzip2              pkgs/main/linux-64::bzip2-1.0.8-h7b6447c_0\n",
            "  cairo              pkgs/main/linux-64::cairo-1.16.0-hf32fb01_1\n",
            "  fontconfig         pkgs/main/linux-64::fontconfig-2.13.1-h6c09931_0\n",
            "  freetype           pkgs/main/linux-64::freetype-2.10.4-h5ab3b9f_0\n",
            "  glib               pkgs/main/linux-64::glib-2.69.1-h5202010_0\n",
            "  icu                pkgs/main/linux-64::icu-58.2-he6710b0_3\n",
            "  intel-openmp       pkgs/main/linux-64::intel-openmp-2021.3.0-h06a4308_3350\n",
            "  jpeg               pkgs/main/linux-64::jpeg-9d-h7f8727e_0\n",
            "  lcms2              pkgs/main/linux-64::lcms2-2.12-h3be6417_0\n",
            "  libboost           pkgs/main/linux-64::libboost-1.73.0-h3ff78a5_11\n",
            "  libpng             pkgs/main/linux-64::libpng-1.6.37-hbc83047_0\n",
            "  libtiff            pkgs/main/linux-64::libtiff-4.2.0-h85742a9_0\n",
            "  libuuid            pkgs/main/linux-64::libuuid-1.0.3-h7f8727e_2\n",
            "  libwebp-base       pkgs/main/linux-64::libwebp-base-1.2.0-h27cfd23_0\n",
            "  libxcb             pkgs/main/linux-64::libxcb-1.14-h7b6447c_0\n",
            "  libxml2            pkgs/main/linux-64::libxml2-2.9.10-hb55368b_3\n",
            "  lz4-c              pkgs/main/linux-64::lz4-c-1.9.3-h295c915_1\n",
            "  mkl                pkgs/main/linux-64::mkl-2021.3.0-h06a4308_520\n",
            "  mkl-service        pkgs/main/linux-64::mkl-service-2.4.0-py37h7f8727e_0\n",
            "  mkl_fft            pkgs/main/linux-64::mkl_fft-1.3.0-py37h42c9631_2\n",
            "  mkl_random         pkgs/main/linux-64::mkl_random-1.2.2-py37h51133e4_0\n",
            "  numexpr            pkgs/main/linux-64::numexpr-2.7.3-py37h22e1b3c_1\n",
            "  numpy              pkgs/main/linux-64::numpy-1.20.3-py37hf144106_0\n",
            "  numpy-base         pkgs/main/linux-64::numpy-base-1.20.3-py37h74d4b33_0\n",
            "  olefile            pkgs/main/linux-64::olefile-0.46-py37_0\n",
            "  openjpeg           pkgs/main/linux-64::openjpeg-2.4.0-h3ad879b_0\n",
            "  pandas             pkgs/main/linux-64::pandas-1.3.3-py37h8c16a72_0\n",
            "  pcre               pkgs/main/linux-64::pcre-8.45-h295c915_0\n",
            "  pillow             pkgs/main/linux-64::pillow-8.3.1-py37h2c7a002_0\n",
            "  pixman             pkgs/main/linux-64::pixman-0.40.0-h7f8727e_1\n",
            "  py-boost           pkgs/main/linux-64::py-boost-1.73.0-py37ha9443f7_11\n",
            "  python-dateutil    pkgs/main/noarch::python-dateutil-2.8.2-pyhd3eb1b0_0\n",
            "  pytz               pkgs/main/noarch::pytz-2021.3-pyhd3eb1b0_0\n",
            "  rdkit              rdkit/linux-64::rdkit-2020.09.1.0-py37hd50e099_1\n",
            "  zstd               pkgs/main/linux-64::zstd-1.4.9-haebb681_0\n",
            "\n",
            "The following packages will be UPDATED:\n",
            "\n",
            "  ca-certificates                                2020.1.1-0 --> 2021.9.30-h06a4308_1\n",
            "  certifi                                 2019.11.28-py37_0 --> 2021.10.8-py37h06a4308_0\n",
            "  conda                                        4.8.2-py37_0 --> 4.10.3-py37h06a4308_0\n",
            "  libffi                                   3.2.1-hd88cf55_4 --> 3.3-he6710b0_2\n",
            "  openssl                                 1.1.1d-h7b6447c_4 --> 1.1.1l-h7f8727e_0\n",
            "  xz                                       5.2.4-h14c3975_4 --> 5.2.5-h7b6447c_0\n",
            "\n",
            "\n",
            "\n",
            "Downloading and Extracting Packages\n",
            "olefile-0.46         | 50 KB     | : 100% 1.0/1 [00:00<00:00,  9.36it/s]\n",
            "openjpeg-2.4.0       | 331 KB    | : 100% 1.0/1 [00:00<00:00, 10.06it/s]\n",
            "numpy-1.20.3         | 23 KB     | : 100% 1.0/1 [00:00<00:00, 17.78it/s]\n",
            "lz4-c-1.9.3          | 185 KB    | : 100% 1.0/1 [00:00<00:00, 19.24it/s]\n",
            "mkl_fft-1.3.0        | 170 KB    | : 100% 1.0/1 [00:00<00:00, 17.64it/s]\n",
            "blas-1.0             | 6 KB      | : 100% 1.0/1 [00:00<00:00, 19.01it/s]\n",
            "libwebp-base-1.2.0   | 437 KB    | : 100% 1.0/1 [00:00<00:00, 14.72it/s]\n",
            "intel-openmp-2021.3. | 1.4 MB    | : 100% 1.0/1 [00:00<00:00, 10.52it/s]\n",
            "freetype-2.10.4      | 596 KB    | : 100% 1.0/1 [00:00<00:00, 13.13it/s]\n",
            "cairo-1.16.0         | 1.0 MB    | : 100% 1.0/1 [00:00<00:00, 10.25it/s]\n",
            "mkl_random-1.2.2     | 287 KB    | : 100% 1.0/1 [00:00<00:00, 13.51it/s]\n",
            "libxcb-1.14          | 505 KB    | : 100% 1.0/1 [00:00<00:00,  9.57it/s]\n",
            "libuuid-1.0.3        | 17 KB     | : 100% 1.0/1 [00:00<00:00, 19.80it/s]\n",
            "pixman-0.40.0        | 373 KB    | : 100% 1.0/1 [00:00<00:00, 16.09it/s]\n",
            "numpy-base-1.20.3    | 4.5 MB    | : 100% 1.0/1 [00:00<00:00,  3.60it/s]\n",
            "pillow-8.3.1         | 635 KB    | : 100% 1.0/1 [00:00<00:00, 13.16it/s]\n",
            "libxml2-2.9.10       | 1.2 MB    | : 100% 1.0/1 [00:00<00:00,  9.74it/s]\n",
            "jpeg-9d              | 232 KB    | : 100% 1.0/1 [00:00<00:00, 15.50it/s]\n",
            "mkl-service-2.4.0    | 56 KB     | : 100% 1.0/1 [00:00<00:00, 19.01it/s]\n",
            "numexpr-2.7.3        | 188 KB    | : 100% 1.0/1 [00:00<00:00, 20.53it/s]\n",
            "conda-4.10.3         | 2.9 MB    | : 100% 1.0/1 [00:00<00:00,  4.58it/s]\n",
            "pcre-8.45            | 207 KB    | : 100% 1.0/1 [00:00<00:00, 14.89it/s]\n",
            "glib-2.69.1          | 1.7 MB    | : 100% 1.0/1 [00:00<00:00,  7.60it/s]\n",
            "fontconfig-2.13.1    | 250 KB    | : 100% 1.0/1 [00:00<00:00, 16.24it/s]\n",
            "libpng-1.6.37        | 278 KB    | : 100% 1.0/1 [00:00<00:00, 17.46it/s]\n",
            "pandas-1.3.3         | 9.2 MB    | : 100% 1.0/1 [00:00<00:00,  1.94it/s]              \n",
            "bzip2-1.0.8          | 78 KB     | : 100% 1.0/1 [00:00<00:00, 19.31it/s]\n",
            "bottleneck-1.3.2     | 125 KB    | : 100% 1.0/1 [00:00<00:00, 16.95it/s]\n",
            "xz-5.2.5             | 341 KB    | : 100% 1.0/1 [00:00<00:00, 14.57it/s]\n",
            "icu-58.2             | 10.5 MB   | : 100% 1.0/1 [00:00<00:00,  2.67it/s]               \n",
            "libboost-1.73.0      | 13.9 MB   | : 100% 1.0/1 [00:02<00:00,  2.20s/it]               \n",
            "ca-certificates-2021 | 116 KB    | : 100% 1.0/1 [00:00<00:00, 17.96it/s]\n",
            "libtiff-4.2.0        | 502 KB    | : 100% 1.0/1 [00:00<00:00, 14.44it/s]\n",
            "libffi-3.3           | 50 KB     | : 100% 1.0/1 [00:00<00:00, 19.24it/s]\n",
            "pytz-2021.3          | 171 KB    | : 100% 1.0/1 [00:00<00:00,  9.99it/s]\n",
            "mkl-2021.3.0         | 141.2 MB  | : 100% 1.0/1 [00:06<00:00,  6.75s/it]               \n",
            "lcms2-2.12           | 312 KB    | : 100% 1.0/1 [00:00<00:00, 10.68it/s]\n",
            "certifi-2021.10.8    | 151 KB    | : 100% 1.0/1 [00:00<00:00, 13.24it/s]\n",
            "zstd-1.4.9           | 480 KB    | : 100% 1.0/1 [00:00<00:00, 12.29it/s]\n",
            "rdkit-2020.09.1.0    | 25.8 MB   | : 100% 1.0/1 [00:05<00:00,  5.04s/it]\n",
            "python-dateutil-2.8. | 233 KB    | : 100% 1.0/1 [00:00<00:00, 17.29it/s]\n",
            "py-boost-1.73.0      | 204 KB    | : 100% 1.0/1 [00:00<00:00, 14.82it/s]\n",
            "openssl-1.1.1l       | 2.5 MB    | : 100% 1.0/1 [00:00<00:00,  6.78it/s]\n",
            "Preparing transaction: - \b\b\\ \b\b| \b\b/ \b\b- \b\b\\ \b\b| \b\b/ \b\b- \b\bdone\n",
            "Verifying transaction: | \b\b/ \b\b- \b\b\\ \b\b| \b\b/ \b\b- \b\b\\ \b\b| \b\b/ \b\b- \b\b\\ \b\b| \b\b/ \b\b- \b\b\\ \b\b| \b\b/ \b\b- \b\b\\ \b\b| \b\b/ \b\b- \b\b\\ \b\b| \b\b/ \b\b- \b\b\\ \b\b| \b\b/ \b\b- \b\b\\ \b\bdone\n",
            "Executing transaction: / \b\b- \b\b\\ \b\b| \b\b/ \b\b- \b\b\\ \b\b| \b\b/ \b\b- \b\b\\ \b\b| \b\b/ \b\b- \b\b\\ \b\b| \b\b/ \b\b- \b\b\\ \b\b| \b\b/ \b\b- \b\b\\ \b\b| \b\b/ \b\b- \b\b\\ \b\b| \b\b/ \b\b- \b\b\\ \b\b| \b\b/ \b\b- \b\b\\ \b\b| \b\b/ \b\b- \b\b\\ \b\b| \b\b/ \b\b- \b\b\\ \b\b| \b\b/ \b\b- \b\b\\ \b\b| \b\b/ \b\b- \b\b\\ \b\b| \b\b/ \b\b- \b\b\\ \b\b| \b\b/ \b\b- \b\b\\ \b\b| \b\b/ \b\b- \b\b\\ \b\b| \b\b/ \b\b- \b\b\\ \b\b| \b\b/ \b\b- \b\b\\ \b\b| \b\b/ \b\b- \b\b\\ \b\b| \b\b/ \b\b- \b\b\\ \b\b| \b\b/ \b\b- \b\b\\ \b\b| \b\b/ \b\b- \b\b\\ \b\b| \b\b/ \b\b- \b\b\\ \b\b| \b\b/ \b\b- \b\b\\ \b\b| \b\b/ \b\b- \b\b\\ \b\b| \b\b/ \b\b- \b\b\\ \b\b| \b\b/ \b\b- \b\b\\ \b\b| \b\b/ \b\b- \b\b\\ \b\b| \b\b/ \b\b- \b\b\\ \b\b| \b\b/ \b\b- \b\b\\ \b\b| \b\b/ \b\b- \b\b\\ \b\b| \b\b/ \b\b- \b\b\\ \b\b| \b\b/ \b\b- \b\b\\ \b\b| \b\b/ \b\b- \b\b\\ \b\b| \b\b/ \b\b- \b\b\\ \b\b| \b\b/ \b\b- \b\b\\ \b\b| \b\b/ \b\b- \b\b\\ \b\b| \b\b/ \b\b- \b\b\\ \b\b| \b\b/ \b\b- \b\b\\ \b\b| \b\b/ \b\b- \b\b\\ \b\b| \b\b/ \b\b- \b\b\\ \b\b| \b\b/ \b\b- \b\b\\ \b\b| \b\b/ \b\b- \b\b\\ \b\b| \b\b/ \b\b- \b\b\\ \b\b| \b\b/ \b\b- \b\b\\ \b\b| \b\b/ \b\b- \b\bdone\n"
          ]
        }
      ]
    },
    {
      "cell_type": "code",
      "metadata": {
        "id": "svgDx23tatnw"
      },
      "source": [
        "import pandas as pd\n",
        "import numpy as np\n",
        "import seaborn as sns\n",
        "import warnings\n",
        "warnings.filterwarnings('ignore')"
      ],
      "execution_count": 3,
      "outputs": []
    },
    {
      "cell_type": "code",
      "metadata": {
        "colab": {
          "base_uri": "https://localhost:8080/",
          "height": 588
        },
        "id": "aBO_rPjCbmQl",
        "outputId": "b75a0693-03a4-41fd-8a95-9d2a7f78b6a8"
      },
      "source": [
        "df=pd.read_csv('/content/drive/MyDrive/Zomato/1..Zomato Spatial Analysis/zomato.csv')\n",
        "df.head()"
      ],
      "execution_count": 4,
      "outputs": [
        {
          "output_type": "execute_result",
          "data": {
            "text/html": [
              "<div>\n",
              "<style scoped>\n",
              "    .dataframe tbody tr th:only-of-type {\n",
              "        vertical-align: middle;\n",
              "    }\n",
              "\n",
              "    .dataframe tbody tr th {\n",
              "        vertical-align: top;\n",
              "    }\n",
              "\n",
              "    .dataframe thead th {\n",
              "        text-align: right;\n",
              "    }\n",
              "</style>\n",
              "<table border=\"1\" class=\"dataframe\">\n",
              "  <thead>\n",
              "    <tr style=\"text-align: right;\">\n",
              "      <th></th>\n",
              "      <th>url</th>\n",
              "      <th>address</th>\n",
              "      <th>name</th>\n",
              "      <th>online_order</th>\n",
              "      <th>book_table</th>\n",
              "      <th>rate</th>\n",
              "      <th>votes</th>\n",
              "      <th>phone</th>\n",
              "      <th>location</th>\n",
              "      <th>rest_type</th>\n",
              "      <th>dish_liked</th>\n",
              "      <th>cuisines</th>\n",
              "      <th>approx_cost(for two people)</th>\n",
              "      <th>reviews_list</th>\n",
              "      <th>menu_item</th>\n",
              "      <th>listed_in(type)</th>\n",
              "      <th>listed_in(city)</th>\n",
              "    </tr>\n",
              "  </thead>\n",
              "  <tbody>\n",
              "    <tr>\n",
              "      <th>0</th>\n",
              "      <td>https://www.zomato.com/bangalore/jalsa-banasha...</td>\n",
              "      <td>942, 21st Main Road, 2nd Stage, Banashankari, ...</td>\n",
              "      <td>Jalsa</td>\n",
              "      <td>Yes</td>\n",
              "      <td>Yes</td>\n",
              "      <td>4.1/5</td>\n",
              "      <td>775</td>\n",
              "      <td>080 42297555\\r\\n+91 9743772233</td>\n",
              "      <td>Banashankari</td>\n",
              "      <td>Casual Dining</td>\n",
              "      <td>Pasta, Lunch Buffet, Masala Papad, Paneer Laja...</td>\n",
              "      <td>North Indian, Mughlai, Chinese</td>\n",
              "      <td>800</td>\n",
              "      <td>[('Rated 4.0', 'RATED\\n  A beautiful place to ...</td>\n",
              "      <td>[]</td>\n",
              "      <td>Buffet</td>\n",
              "      <td>Banashankari</td>\n",
              "    </tr>\n",
              "    <tr>\n",
              "      <th>1</th>\n",
              "      <td>https://www.zomato.com/bangalore/spice-elephan...</td>\n",
              "      <td>2nd Floor, 80 Feet Road, Near Big Bazaar, 6th ...</td>\n",
              "      <td>Spice Elephant</td>\n",
              "      <td>Yes</td>\n",
              "      <td>No</td>\n",
              "      <td>4.1/5</td>\n",
              "      <td>787</td>\n",
              "      <td>080 41714161</td>\n",
              "      <td>Banashankari</td>\n",
              "      <td>Casual Dining</td>\n",
              "      <td>Momos, Lunch Buffet, Chocolate Nirvana, Thai G...</td>\n",
              "      <td>Chinese, North Indian, Thai</td>\n",
              "      <td>800</td>\n",
              "      <td>[('Rated 4.0', 'RATED\\n  Had been here for din...</td>\n",
              "      <td>[]</td>\n",
              "      <td>Buffet</td>\n",
              "      <td>Banashankari</td>\n",
              "    </tr>\n",
              "    <tr>\n",
              "      <th>2</th>\n",
              "      <td>https://www.zomato.com/SanchurroBangalore?cont...</td>\n",
              "      <td>1112, Next to KIMS Medical College, 17th Cross...</td>\n",
              "      <td>San Churro Cafe</td>\n",
              "      <td>Yes</td>\n",
              "      <td>No</td>\n",
              "      <td>3.8/5</td>\n",
              "      <td>918</td>\n",
              "      <td>+91 9663487993</td>\n",
              "      <td>Banashankari</td>\n",
              "      <td>Cafe, Casual Dining</td>\n",
              "      <td>Churros, Cannelloni, Minestrone Soup, Hot Choc...</td>\n",
              "      <td>Cafe, Mexican, Italian</td>\n",
              "      <td>800</td>\n",
              "      <td>[('Rated 3.0', \"RATED\\n  Ambience is not that ...</td>\n",
              "      <td>[]</td>\n",
              "      <td>Buffet</td>\n",
              "      <td>Banashankari</td>\n",
              "    </tr>\n",
              "    <tr>\n",
              "      <th>3</th>\n",
              "      <td>https://www.zomato.com/bangalore/addhuri-udupi...</td>\n",
              "      <td>1st Floor, Annakuteera, 3rd Stage, Banashankar...</td>\n",
              "      <td>Addhuri Udupi Bhojana</td>\n",
              "      <td>No</td>\n",
              "      <td>No</td>\n",
              "      <td>3.7/5</td>\n",
              "      <td>88</td>\n",
              "      <td>+91 9620009302</td>\n",
              "      <td>Banashankari</td>\n",
              "      <td>Quick Bites</td>\n",
              "      <td>Masala Dosa</td>\n",
              "      <td>South Indian, North Indian</td>\n",
              "      <td>300</td>\n",
              "      <td>[('Rated 4.0', \"RATED\\n  Great food and proper...</td>\n",
              "      <td>[]</td>\n",
              "      <td>Buffet</td>\n",
              "      <td>Banashankari</td>\n",
              "    </tr>\n",
              "    <tr>\n",
              "      <th>4</th>\n",
              "      <td>https://www.zomato.com/bangalore/grand-village...</td>\n",
              "      <td>10, 3rd Floor, Lakshmi Associates, Gandhi Baza...</td>\n",
              "      <td>Grand Village</td>\n",
              "      <td>No</td>\n",
              "      <td>No</td>\n",
              "      <td>3.8/5</td>\n",
              "      <td>166</td>\n",
              "      <td>+91 8026612447\\r\\n+91 9901210005</td>\n",
              "      <td>Basavanagudi</td>\n",
              "      <td>Casual Dining</td>\n",
              "      <td>Panipuri, Gol Gappe</td>\n",
              "      <td>North Indian, Rajasthani</td>\n",
              "      <td>600</td>\n",
              "      <td>[('Rated 4.0', 'RATED\\n  Very good restaurant ...</td>\n",
              "      <td>[]</td>\n",
              "      <td>Buffet</td>\n",
              "      <td>Banashankari</td>\n",
              "    </tr>\n",
              "  </tbody>\n",
              "</table>\n",
              "</div>"
            ],
            "text/plain": [
              "                                                 url  ... listed_in(city)\n",
              "0  https://www.zomato.com/bangalore/jalsa-banasha...  ...    Banashankari\n",
              "1  https://www.zomato.com/bangalore/spice-elephan...  ...    Banashankari\n",
              "2  https://www.zomato.com/SanchurroBangalore?cont...  ...    Banashankari\n",
              "3  https://www.zomato.com/bangalore/addhuri-udupi...  ...    Banashankari\n",
              "4  https://www.zomato.com/bangalore/grand-village...  ...    Banashankari\n",
              "\n",
              "[5 rows x 17 columns]"
            ]
          },
          "metadata": {},
          "execution_count": 4
        }
      ]
    },
    {
      "cell_type": "code",
      "metadata": {
        "colab": {
          "base_uri": "https://localhost:8080/"
        },
        "id": "wkKe8Z4Ecxtz",
        "outputId": "c8918997-9699-4334-b79f-ab2a00548d64"
      },
      "source": [
        "#FOR DATA CLEANING PURPOSE (checking the missing values)\n",
        "df.isna().sum()"
      ],
      "execution_count": 5,
      "outputs": [
        {
          "output_type": "execute_result",
          "data": {
            "text/plain": [
              "url                                0\n",
              "address                            0\n",
              "name                               0\n",
              "online_order                       0\n",
              "book_table                         0\n",
              "rate                            7775\n",
              "votes                              0\n",
              "phone                           1208\n",
              "location                          21\n",
              "rest_type                        227\n",
              "dish_liked                     28078\n",
              "cuisines                          45\n",
              "approx_cost(for two people)      346\n",
              "reviews_list                       0\n",
              "menu_item                          0\n",
              "listed_in(type)                    0\n",
              "listed_in(city)                    0\n",
              "dtype: int64"
            ]
          },
          "metadata": {},
          "execution_count": 5
        }
      ]
    },
    {
      "cell_type": "code",
      "metadata": {
        "id": "0BianUSxdfys"
      },
      "source": [
        "#FOR SPATIAL ANALYSIS WE FOCUS ON location COLUMN (there are 21 missing values)\n",
        "df.dropna(axis='index',subset=['location'],inplace=True)"
      ],
      "execution_count": 6,
      "outputs": []
    },
    {
      "cell_type": "code",
      "metadata": {
        "colab": {
          "base_uri": "https://localhost:8080/"
        },
        "id": "A8Xrt5p8egCq",
        "outputId": "cacfae04-ce0b-41b6-89a2-aab9b54c8fd0"
      },
      "source": [
        "df.isna().sum()  #NO MORE MISSING VALUES"
      ],
      "execution_count": 7,
      "outputs": [
        {
          "output_type": "execute_result",
          "data": {
            "text/plain": [
              "url                                0\n",
              "address                            0\n",
              "name                               0\n",
              "online_order                       0\n",
              "book_table                         0\n",
              "rate                            7754\n",
              "votes                              0\n",
              "phone                           1187\n",
              "location                           0\n",
              "rest_type                        206\n",
              "dish_liked                     28057\n",
              "cuisines                          24\n",
              "approx_cost(for two people)      325\n",
              "reviews_list                       0\n",
              "menu_item                          0\n",
              "listed_in(type)                    0\n",
              "listed_in(city)                    0\n",
              "dtype: int64"
            ]
          },
          "metadata": {},
          "execution_count": 7
        }
      ]
    },
    {
      "cell_type": "code",
      "metadata": {
        "id": "sgN66fIdf7iG",
        "colab": {
          "base_uri": "https://localhost:8080/"
        },
        "outputId": "7ed09f04-8bad-45f2-9d74-ffb8b61d6898"
      },
      "source": [
        "len(df['location'].unique())"
      ],
      "execution_count": 8,
      "outputs": [
        {
          "output_type": "execute_result",
          "data": {
            "text/plain": [
              "93"
            ]
          },
          "metadata": {},
          "execution_count": 8
        }
      ]
    },
    {
      "cell_type": "code",
      "metadata": {
        "id": "FPXi_ru2gXRe"
      },
      "source": [
        "locations=pd.DataFrame() #BLANK DATAFRAME"
      ],
      "execution_count": 9,
      "outputs": []
    },
    {
      "cell_type": "code",
      "metadata": {
        "id": "-eDd8r1RgwZL"
      },
      "source": [
        "locations['Name']=df['location'].unique()"
      ],
      "execution_count": 10,
      "outputs": []
    },
    {
      "cell_type": "code",
      "metadata": {
        "colab": {
          "base_uri": "https://localhost:8080/",
          "height": 202
        },
        "id": "nWy-iN9UhBFl",
        "outputId": "228931ec-33b9-4d46-afd0-ece18025b04f"
      },
      "source": [
        "locations.head()"
      ],
      "execution_count": 11,
      "outputs": [
        {
          "output_type": "execute_result",
          "data": {
            "text/html": [
              "<div>\n",
              "<style scoped>\n",
              "    .dataframe tbody tr th:only-of-type {\n",
              "        vertical-align: middle;\n",
              "    }\n",
              "\n",
              "    .dataframe tbody tr th {\n",
              "        vertical-align: top;\n",
              "    }\n",
              "\n",
              "    .dataframe thead th {\n",
              "        text-align: right;\n",
              "    }\n",
              "</style>\n",
              "<table border=\"1\" class=\"dataframe\">\n",
              "  <thead>\n",
              "    <tr style=\"text-align: right;\">\n",
              "      <th></th>\n",
              "      <th>Name</th>\n",
              "    </tr>\n",
              "  </thead>\n",
              "  <tbody>\n",
              "    <tr>\n",
              "      <th>0</th>\n",
              "      <td>Banashankari</td>\n",
              "    </tr>\n",
              "    <tr>\n",
              "      <th>1</th>\n",
              "      <td>Basavanagudi</td>\n",
              "    </tr>\n",
              "    <tr>\n",
              "      <th>2</th>\n",
              "      <td>Mysore Road</td>\n",
              "    </tr>\n",
              "    <tr>\n",
              "      <th>3</th>\n",
              "      <td>Jayanagar</td>\n",
              "    </tr>\n",
              "    <tr>\n",
              "      <th>4</th>\n",
              "      <td>Kumaraswamy Layout</td>\n",
              "    </tr>\n",
              "  </tbody>\n",
              "</table>\n",
              "</div>"
            ],
            "text/plain": [
              "                 Name\n",
              "0        Banashankari\n",
              "1        Basavanagudi\n",
              "2         Mysore Road\n",
              "3           Jayanagar\n",
              "4  Kumaraswamy Layout"
            ]
          },
          "metadata": {},
          "execution_count": 11
        }
      ]
    },
    {
      "cell_type": "code",
      "metadata": {
        "colab": {
          "base_uri": "https://localhost:8080/"
        },
        "id": "CKhmPKrzhFF9",
        "outputId": "2327278b-9c5a-4038-e5cd-c3c531a10ce9"
      },
      "source": [
        "! pip install geopy"
      ],
      "execution_count": 12,
      "outputs": [
        {
          "output_type": "stream",
          "name": "stdout",
          "text": [
            "Collecting geopy\n",
            "  Downloading geopy-2.2.0-py3-none-any.whl (118 kB)\n",
            "\u001b[?25l\r\u001b[K     |██▊                             | 10 kB 23.8 MB/s eta 0:00:01\r\u001b[K     |█████▌                          | 20 kB 28.0 MB/s eta 0:00:01\r\u001b[K     |████████▎                       | 30 kB 13.4 MB/s eta 0:00:01\r\u001b[K     |███████████                     | 40 kB 10.0 MB/s eta 0:00:01\r\u001b[K     |█████████████▉                  | 51 kB 5.1 MB/s eta 0:00:01\r\u001b[K     |████████████████▌               | 61 kB 5.3 MB/s eta 0:00:01\r\u001b[K     |███████████████████▎            | 71 kB 6.1 MB/s eta 0:00:01\r\u001b[K     |██████████████████████          | 81 kB 6.0 MB/s eta 0:00:01\r\u001b[K     |████████████████████████▉       | 92 kB 4.8 MB/s eta 0:00:01\r\u001b[K     |███████████████████████████▋    | 102 kB 5.3 MB/s eta 0:00:01\r\u001b[K     |██████████████████████████████▎ | 112 kB 5.3 MB/s eta 0:00:01\r\u001b[K     |████████████████████████████████| 118 kB 5.3 MB/s \n",
            "\u001b[?25hCollecting geographiclib<2,>=1.49\n",
            "  Downloading geographiclib-1.52-py3-none-any.whl (38 kB)\n",
            "Installing collected packages: geographiclib, geopy\n",
            "Successfully installed geographiclib-1.52 geopy-2.2.0\n"
          ]
        }
      ]
    },
    {
      "cell_type": "code",
      "metadata": {
        "id": "rcwUyIuFiaxS"
      },
      "source": [
        "from geopy.geocoders import Nominatim #FOR EXTRACTING LATITUDE AND LONGITUDE FROM DATA"
      ],
      "execution_count": 13,
      "outputs": []
    },
    {
      "cell_type": "code",
      "metadata": {
        "id": "5e8t79Jlisp3"
      },
      "source": [
        "geolocator=Nominatim(user_agent='app')"
      ],
      "execution_count": 14,
      "outputs": []
    },
    {
      "cell_type": "code",
      "metadata": {
        "id": "3_REepkKkBtm"
      },
      "source": [
        "lat=[]\n",
        "lon=[]\n",
        "for location in locations['Name']:\n",
        "   location= geolocator.geocode(location)\n",
        "   if location is None:\n",
        "     lat.append(np.nan)\n",
        "     lon.append(np.nan)\n",
        "   else:\n",
        "     lat.append(location.latitude)\n",
        "     lon.append(location.longitude)"
      ],
      "execution_count": 15,
      "outputs": []
    },
    {
      "cell_type": "code",
      "metadata": {
        "id": "vWXtZHWTlaQH"
      },
      "source": [
        "locations['lat']=lat\n",
        "locations['lon']=lon"
      ],
      "execution_count": 16,
      "outputs": []
    },
    {
      "cell_type": "code",
      "metadata": {
        "colab": {
          "base_uri": "https://localhost:8080/",
          "height": 202
        },
        "id": "E-u3ninHlwpc",
        "outputId": "ace4ce1f-5803-4560-dc35-af0ed80fada3"
      },
      "source": [
        "locations.head()"
      ],
      "execution_count": 17,
      "outputs": [
        {
          "output_type": "execute_result",
          "data": {
            "text/html": [
              "<div>\n",
              "<style scoped>\n",
              "    .dataframe tbody tr th:only-of-type {\n",
              "        vertical-align: middle;\n",
              "    }\n",
              "\n",
              "    .dataframe tbody tr th {\n",
              "        vertical-align: top;\n",
              "    }\n",
              "\n",
              "    .dataframe thead th {\n",
              "        text-align: right;\n",
              "    }\n",
              "</style>\n",
              "<table border=\"1\" class=\"dataframe\">\n",
              "  <thead>\n",
              "    <tr style=\"text-align: right;\">\n",
              "      <th></th>\n",
              "      <th>Name</th>\n",
              "      <th>lat</th>\n",
              "      <th>lon</th>\n",
              "    </tr>\n",
              "  </thead>\n",
              "  <tbody>\n",
              "    <tr>\n",
              "      <th>0</th>\n",
              "      <td>Banashankari</td>\n",
              "      <td>15.887678</td>\n",
              "      <td>75.704678</td>\n",
              "    </tr>\n",
              "    <tr>\n",
              "      <th>1</th>\n",
              "      <td>Basavanagudi</td>\n",
              "      <td>12.941726</td>\n",
              "      <td>77.575502</td>\n",
              "    </tr>\n",
              "    <tr>\n",
              "      <th>2</th>\n",
              "      <td>Mysore Road</td>\n",
              "      <td>12.387214</td>\n",
              "      <td>76.666963</td>\n",
              "    </tr>\n",
              "    <tr>\n",
              "      <th>3</th>\n",
              "      <td>Jayanagar</td>\n",
              "      <td>27.643927</td>\n",
              "      <td>83.052805</td>\n",
              "    </tr>\n",
              "    <tr>\n",
              "      <th>4</th>\n",
              "      <td>Kumaraswamy Layout</td>\n",
              "      <td>12.908149</td>\n",
              "      <td>77.555318</td>\n",
              "    </tr>\n",
              "  </tbody>\n",
              "</table>\n",
              "</div>"
            ],
            "text/plain": [
              "                 Name        lat        lon\n",
              "0        Banashankari  15.887678  75.704678\n",
              "1        Basavanagudi  12.941726  77.575502\n",
              "2         Mysore Road  12.387214  76.666963\n",
              "3           Jayanagar  27.643927  83.052805\n",
              "4  Kumaraswamy Layout  12.908149  77.555318"
            ]
          },
          "metadata": {},
          "execution_count": 17
        }
      ]
    },
    {
      "cell_type": "code",
      "metadata": {
        "id": "nSGEEgcWl4P5"
      },
      "source": [
        "locations.to_csv('zom_bang_locations.csv',index=False) #stored the geolocation dataframe in a csv file"
      ],
      "execution_count": 18,
      "outputs": []
    },
    {
      "cell_type": "code",
      "metadata": {
        "id": "WNsI-xtvm08w"
      },
      "source": [
        "Rest_locations=df['location'].value_counts().reset_index()\n"
      ],
      "execution_count": 19,
      "outputs": []
    },
    {
      "cell_type": "code",
      "metadata": {
        "colab": {
          "base_uri": "https://localhost:8080/",
          "height": 414
        },
        "id": "HxrtsKyRniv4",
        "outputId": "6a5169b9-4f32-498a-ce08-0fd247e74ab9"
      },
      "source": [
        "Rest_locations.columns=['Name','count']\n",
        "Rest_locations"
      ],
      "execution_count": 20,
      "outputs": [
        {
          "output_type": "execute_result",
          "data": {
            "text/html": [
              "<div>\n",
              "<style scoped>\n",
              "    .dataframe tbody tr th:only-of-type {\n",
              "        vertical-align: middle;\n",
              "    }\n",
              "\n",
              "    .dataframe tbody tr th {\n",
              "        vertical-align: top;\n",
              "    }\n",
              "\n",
              "    .dataframe thead th {\n",
              "        text-align: right;\n",
              "    }\n",
              "</style>\n",
              "<table border=\"1\" class=\"dataframe\">\n",
              "  <thead>\n",
              "    <tr style=\"text-align: right;\">\n",
              "      <th></th>\n",
              "      <th>Name</th>\n",
              "      <th>count</th>\n",
              "    </tr>\n",
              "  </thead>\n",
              "  <tbody>\n",
              "    <tr>\n",
              "      <th>0</th>\n",
              "      <td>BTM</td>\n",
              "      <td>5124</td>\n",
              "    </tr>\n",
              "    <tr>\n",
              "      <th>1</th>\n",
              "      <td>HSR</td>\n",
              "      <td>2523</td>\n",
              "    </tr>\n",
              "    <tr>\n",
              "      <th>2</th>\n",
              "      <td>Koramangala 5th Block</td>\n",
              "      <td>2504</td>\n",
              "    </tr>\n",
              "    <tr>\n",
              "      <th>3</th>\n",
              "      <td>JP Nagar</td>\n",
              "      <td>2235</td>\n",
              "    </tr>\n",
              "    <tr>\n",
              "      <th>4</th>\n",
              "      <td>Whitefield</td>\n",
              "      <td>2144</td>\n",
              "    </tr>\n",
              "    <tr>\n",
              "      <th>...</th>\n",
              "      <td>...</td>\n",
              "      <td>...</td>\n",
              "    </tr>\n",
              "    <tr>\n",
              "      <th>88</th>\n",
              "      <td>West Bangalore</td>\n",
              "      <td>6</td>\n",
              "    </tr>\n",
              "    <tr>\n",
              "      <th>89</th>\n",
              "      <td>Yelahanka</td>\n",
              "      <td>6</td>\n",
              "    </tr>\n",
              "    <tr>\n",
              "      <th>90</th>\n",
              "      <td>Jakkur</td>\n",
              "      <td>3</td>\n",
              "    </tr>\n",
              "    <tr>\n",
              "      <th>91</th>\n",
              "      <td>Rajarajeshwari Nagar</td>\n",
              "      <td>2</td>\n",
              "    </tr>\n",
              "    <tr>\n",
              "      <th>92</th>\n",
              "      <td>Peenya</td>\n",
              "      <td>1</td>\n",
              "    </tr>\n",
              "  </tbody>\n",
              "</table>\n",
              "<p>93 rows × 2 columns</p>\n",
              "</div>"
            ],
            "text/plain": [
              "                     Name  count\n",
              "0                     BTM   5124\n",
              "1                     HSR   2523\n",
              "2   Koramangala 5th Block   2504\n",
              "3                JP Nagar   2235\n",
              "4              Whitefield   2144\n",
              "..                    ...    ...\n",
              "88         West Bangalore      6\n",
              "89              Yelahanka      6\n",
              "90                 Jakkur      3\n",
              "91   Rajarajeshwari Nagar      2\n",
              "92                 Peenya      1\n",
              "\n",
              "[93 rows x 2 columns]"
            ]
          },
          "metadata": {},
          "execution_count": 20
        }
      ]
    },
    {
      "cell_type": "code",
      "metadata": {
        "colab": {
          "base_uri": "https://localhost:8080/",
          "height": 202
        },
        "id": "O9d0UQwXoN31",
        "outputId": "ebd2af8d-34c9-4c7b-faa8-ce9299c625a3"
      },
      "source": [
        "#MERGING THE TWO DATAFRAMES\n",
        "Restaurant_locations=Rest_locations.merge(locations,on='Name',how='left').dropna()\n",
        "Restaurant_locations.head()"
      ],
      "execution_count": 21,
      "outputs": [
        {
          "output_type": "execute_result",
          "data": {
            "text/html": [
              "<div>\n",
              "<style scoped>\n",
              "    .dataframe tbody tr th:only-of-type {\n",
              "        vertical-align: middle;\n",
              "    }\n",
              "\n",
              "    .dataframe tbody tr th {\n",
              "        vertical-align: top;\n",
              "    }\n",
              "\n",
              "    .dataframe thead th {\n",
              "        text-align: right;\n",
              "    }\n",
              "</style>\n",
              "<table border=\"1\" class=\"dataframe\">\n",
              "  <thead>\n",
              "    <tr style=\"text-align: right;\">\n",
              "      <th></th>\n",
              "      <th>Name</th>\n",
              "      <th>count</th>\n",
              "      <th>lat</th>\n",
              "      <th>lon</th>\n",
              "    </tr>\n",
              "  </thead>\n",
              "  <tbody>\n",
              "    <tr>\n",
              "      <th>0</th>\n",
              "      <td>BTM</td>\n",
              "      <td>5124</td>\n",
              "      <td>45.954851</td>\n",
              "      <td>-112.496595</td>\n",
              "    </tr>\n",
              "    <tr>\n",
              "      <th>1</th>\n",
              "      <td>HSR</td>\n",
              "      <td>2523</td>\n",
              "      <td>18.147500</td>\n",
              "      <td>41.538889</td>\n",
              "    </tr>\n",
              "    <tr>\n",
              "      <th>2</th>\n",
              "      <td>Koramangala 5th Block</td>\n",
              "      <td>2504</td>\n",
              "      <td>12.934377</td>\n",
              "      <td>77.628415</td>\n",
              "    </tr>\n",
              "    <tr>\n",
              "      <th>3</th>\n",
              "      <td>JP Nagar</td>\n",
              "      <td>2235</td>\n",
              "      <td>12.265594</td>\n",
              "      <td>76.646540</td>\n",
              "    </tr>\n",
              "    <tr>\n",
              "      <th>4</th>\n",
              "      <td>Whitefield</td>\n",
              "      <td>2144</td>\n",
              "      <td>44.373058</td>\n",
              "      <td>-71.611858</td>\n",
              "    </tr>\n",
              "  </tbody>\n",
              "</table>\n",
              "</div>"
            ],
            "text/plain": [
              "                    Name  count        lat         lon\n",
              "0                    BTM   5124  45.954851 -112.496595\n",
              "1                    HSR   2523  18.147500   41.538889\n",
              "2  Koramangala 5th Block   2504  12.934377   77.628415\n",
              "3               JP Nagar   2235  12.265594   76.646540\n",
              "4             Whitefield   2144  44.373058  -71.611858"
            ]
          },
          "metadata": {},
          "execution_count": 21
        }
      ]
    },
    {
      "cell_type": "code",
      "metadata": {
        "colab": {
          "base_uri": "https://localhost:8080/"
        },
        "id": "XskbWnpwqBHe",
        "outputId": "9384a19a-2293-49c5-f6fc-0fba4f2275cf"
      },
      "source": [
        "! pip install folium"
      ],
      "execution_count": 22,
      "outputs": [
        {
          "output_type": "stream",
          "name": "stdout",
          "text": [
            "Collecting folium\n",
            "  Downloading folium-0.12.1-py2.py3-none-any.whl (94 kB)\n",
            "\u001b[?25l\r\u001b[K     |███▌                            | 10 kB 21.5 MB/s eta 0:00:01\r\u001b[K     |███████                         | 20 kB 25.1 MB/s eta 0:00:01\r\u001b[K     |██████████▍                     | 30 kB 11.4 MB/s eta 0:00:01\r\u001b[K     |█████████████▉                  | 40 kB 9.1 MB/s eta 0:00:01\r\u001b[K     |█████████████████▎              | 51 kB 5.4 MB/s eta 0:00:01\r\u001b[K     |████████████████████▊           | 61 kB 5.9 MB/s eta 0:00:01\r\u001b[K     |████████████████████████▏       | 71 kB 5.7 MB/s eta 0:00:01\r\u001b[K     |███████████████████████████▋    | 81 kB 6.3 MB/s eta 0:00:01\r\u001b[K     |███████████████████████████████ | 92 kB 4.9 MB/s eta 0:00:01\r\u001b[K     |████████████████████████████████| 94 kB 2.2 MB/s \n",
            "\u001b[?25hRequirement already satisfied: numpy in /usr/local/lib/python3.7/site-packages (from folium) (1.20.3)\n",
            "Collecting branca>=0.3.0\n",
            "  Downloading branca-0.4.2-py3-none-any.whl (24 kB)\n",
            "Requirement already satisfied: requests in /usr/local/lib/python3.7/site-packages (from folium) (2.22.0)\n",
            "Collecting jinja2>=2.9\n",
            "  Downloading Jinja2-3.0.2-py3-none-any.whl (133 kB)\n",
            "\u001b[K     |████████████████████████████████| 133 kB 36.5 MB/s \n",
            "\u001b[?25hRequirement already satisfied: chardet<3.1.0,>=3.0.2 in /usr/local/lib/python3.7/site-packages (from requests->folium) (3.0.4)\n",
            "Requirement already satisfied: urllib3!=1.25.0,!=1.25.1,<1.26,>=1.21.1 in /usr/local/lib/python3.7/site-packages (from requests->folium) (1.25.8)\n",
            "Requirement already satisfied: certifi>=2017.4.17 in /usr/local/lib/python3.7/site-packages (from requests->folium) (2021.10.8)\n",
            "Requirement already satisfied: idna<2.9,>=2.5 in /usr/local/lib/python3.7/site-packages (from requests->folium) (2.8)\n",
            "Collecting MarkupSafe>=2.0\n",
            "  Downloading MarkupSafe-2.0.1-cp37-cp37m-manylinux2010_x86_64.whl (31 kB)\n",
            "Installing collected packages: MarkupSafe, jinja2, branca, folium\n",
            "Successfully installed MarkupSafe-2.0.1 branca-0.4.2 folium-0.12.1 jinja2-3.0.2\n"
          ]
        }
      ]
    },
    {
      "cell_type": "code",
      "metadata": {
        "id": "7zQe8IIzqK5n"
      },
      "source": [
        "def generatebasemap(default_location=[12.97,77.59],default_zoom_start=12):\n",
        "  base_map=folium.Map(location=default_location,zoom_start=default_zoom_start)\n",
        "  return base_map"
      ],
      "execution_count": 23,
      "outputs": []
    },
    {
      "cell_type": "code",
      "metadata": {
        "id": "9JXRvi9Jrq2A"
      },
      "source": [
        "import folium\n",
        "from folium.plugins import HeatMap\n",
        "baseMap=generatebasemap()\n"
      ],
      "execution_count": 24,
      "outputs": []
    },
    {
      "cell_type": "code",
      "metadata": {
        "colab": {
          "base_uri": "https://localhost:8080/",
          "height": 854
        },
        "id": "u-qvSp_q2KBY",
        "outputId": "208bc822-a88b-4d79-c25b-79f56c08279c"
      },
      "source": [
        "baseMap"
      ],
      "execution_count": 25,
      "outputs": [
        {
          "output_type": "execute_result",
          "data": {
            "text/html": [
              "<div style=\"width:100%;\"><div style=\"position:relative;width:100%;height:0;padding-bottom:60%;\"><span style=\"color:#565656\">Make this Notebook Trusted to load map: File -> Trust Notebook</span><iframe src=\"about:blank\" style=\"position:absolute;width:100%;height:100%;left:0;top:0;border:none !important;\" data-html=%3C%21DOCTYPE%20html%3E%0A%3Chead%3E%20%20%20%20%0A%20%20%20%20%3Cmeta%20http-equiv%3D%22content-type%22%20content%3D%22text/html%3B%20charset%3DUTF-8%22%20/%3E%0A%20%20%20%20%3Cscript%3EL_PREFER_CANVAS%3Dfalse%3B%20L_NO_TOUCH%3Dfalse%3B%20L_DISABLE_3D%3Dfalse%3B%3C/script%3E%0A%20%20%20%20%3Cscript%20src%3D%22https%3A//cdn.jsdelivr.net/npm/leaflet%401.4.0/dist/leaflet.js%22%3E%3C/script%3E%0A%20%20%20%20%3Cscript%20src%3D%22https%3A//code.jquery.com/jquery-1.12.4.min.js%22%3E%3C/script%3E%0A%20%20%20%20%3Cscript%20src%3D%22https%3A//maxcdn.bootstrapcdn.com/bootstrap/3.2.0/js/bootstrap.min.js%22%3E%3C/script%3E%0A%20%20%20%20%3Cscript%20src%3D%22https%3A//cdnjs.cloudflare.com/ajax/libs/Leaflet.awesome-markers/2.0.2/leaflet.awesome-markers.js%22%3E%3C/script%3E%0A%20%20%20%20%3Clink%20rel%3D%22stylesheet%22%20href%3D%22https%3A//cdn.jsdelivr.net/npm/leaflet%401.4.0/dist/leaflet.css%22/%3E%0A%20%20%20%20%3Clink%20rel%3D%22stylesheet%22%20href%3D%22https%3A//maxcdn.bootstrapcdn.com/bootstrap/3.2.0/css/bootstrap.min.css%22/%3E%0A%20%20%20%20%3Clink%20rel%3D%22stylesheet%22%20href%3D%22https%3A//maxcdn.bootstrapcdn.com/bootstrap/3.2.0/css/bootstrap-theme.min.css%22/%3E%0A%20%20%20%20%3Clink%20rel%3D%22stylesheet%22%20href%3D%22https%3A//maxcdn.bootstrapcdn.com/font-awesome/4.6.3/css/font-awesome.min.css%22/%3E%0A%20%20%20%20%3Clink%20rel%3D%22stylesheet%22%20href%3D%22https%3A//cdnjs.cloudflare.com/ajax/libs/Leaflet.awesome-markers/2.0.2/leaflet.awesome-markers.css%22/%3E%0A%20%20%20%20%3Clink%20rel%3D%22stylesheet%22%20href%3D%22https%3A//rawcdn.githack.com/python-visualization/folium/master/folium/templates/leaflet.awesome.rotate.css%22/%3E%0A%20%20%20%20%3Cstyle%3Ehtml%2C%20body%20%7Bwidth%3A%20100%25%3Bheight%3A%20100%25%3Bmargin%3A%200%3Bpadding%3A%200%3B%7D%3C/style%3E%0A%20%20%20%20%3Cstyle%3E%23map%20%7Bposition%3Aabsolute%3Btop%3A0%3Bbottom%3A0%3Bright%3A0%3Bleft%3A0%3B%7D%3C/style%3E%0A%20%20%20%20%0A%20%20%20%20%3Cmeta%20name%3D%22viewport%22%20content%3D%22width%3Ddevice-width%2C%0A%20%20%20%20%20%20%20%20initial-scale%3D1.0%2C%20maximum-scale%3D1.0%2C%20user-scalable%3Dno%22%20/%3E%0A%20%20%20%20%3Cstyle%3E%23map_f9b16763a00e4a61b527769aa2763a29%20%7B%0A%20%20%20%20%20%20%20%20position%3A%20relative%3B%0A%20%20%20%20%20%20%20%20width%3A%20100.0%25%3B%0A%20%20%20%20%20%20%20%20height%3A%20100.0%25%3B%0A%20%20%20%20%20%20%20%20left%3A%200.0%25%3B%0A%20%20%20%20%20%20%20%20top%3A%200.0%25%3B%0A%20%20%20%20%20%20%20%20%7D%0A%20%20%20%20%3C/style%3E%0A%3C/head%3E%0A%3Cbody%3E%20%20%20%20%0A%20%20%20%20%0A%20%20%20%20%3Cdiv%20class%3D%22folium-map%22%20id%3D%22map_f9b16763a00e4a61b527769aa2763a29%22%20%3E%3C/div%3E%0A%3C/body%3E%0A%3Cscript%3E%20%20%20%20%0A%20%20%20%20%0A%20%20%20%20%0A%20%20%20%20%20%20%20%20var%20bounds%20%3D%20null%3B%0A%20%20%20%20%0A%0A%20%20%20%20var%20map_f9b16763a00e4a61b527769aa2763a29%20%3D%20L.map%28%0A%20%20%20%20%20%20%20%20%27map_f9b16763a00e4a61b527769aa2763a29%27%2C%20%7B%0A%20%20%20%20%20%20%20%20center%3A%20%5B12.97%2C%2077.59%5D%2C%0A%20%20%20%20%20%20%20%20zoom%3A%2012%2C%0A%20%20%20%20%20%20%20%20maxBounds%3A%20bounds%2C%0A%20%20%20%20%20%20%20%20layers%3A%20%5B%5D%2C%0A%20%20%20%20%20%20%20%20worldCopyJump%3A%20false%2C%0A%20%20%20%20%20%20%20%20crs%3A%20L.CRS.EPSG3857%2C%0A%20%20%20%20%20%20%20%20zoomControl%3A%20true%2C%0A%20%20%20%20%20%20%20%20%7D%29%3B%0A%0A%0A%20%20%20%20%0A%20%20%20%20var%20tile_layer_80cd99ec86934ccab48c43082f3641f0%20%3D%20L.tileLayer%28%0A%20%20%20%20%20%20%20%20%27https%3A//%7Bs%7D.tile.openstreetmap.org/%7Bz%7D/%7Bx%7D/%7By%7D.png%27%2C%0A%20%20%20%20%20%20%20%20%7B%0A%20%20%20%20%20%20%20%20%22attribution%22%3A%20null%2C%0A%20%20%20%20%20%20%20%20%22detectRetina%22%3A%20false%2C%0A%20%20%20%20%20%20%20%20%22maxNativeZoom%22%3A%2018%2C%0A%20%20%20%20%20%20%20%20%22maxZoom%22%3A%2018%2C%0A%20%20%20%20%20%20%20%20%22minZoom%22%3A%200%2C%0A%20%20%20%20%20%20%20%20%22noWrap%22%3A%20false%2C%0A%20%20%20%20%20%20%20%20%22opacity%22%3A%201%2C%0A%20%20%20%20%20%20%20%20%22subdomains%22%3A%20%22abc%22%2C%0A%20%20%20%20%20%20%20%20%22tms%22%3A%20false%0A%7D%29.addTo%28map_f9b16763a00e4a61b527769aa2763a29%29%3B%0A%3C/script%3E onload=\"this.contentDocument.open();this.contentDocument.write(    decodeURIComponent(this.getAttribute('data-html')));this.contentDocument.close();\" allowfullscreen webkitallowfullscreen mozallowfullscreen></iframe></div></div>"
            ],
            "text/plain": [
              "<folium.folium.Map at 0x7f5569a62410>"
            ]
          },
          "metadata": {},
          "execution_count": 25
        }
      ]
    },
    {
      "cell_type": "code",
      "metadata": {
        "id": "4Q_iwxexsIOr"
      },
      "source": [
        "locationArr= Restaurant_locations[['lat','lon','count']].to_numpy()"
      ],
      "execution_count": 26,
      "outputs": []
    },
    {
      "cell_type": "code",
      "metadata": {
        "colab": {
          "base_uri": "https://localhost:8080/"
        },
        "id": "yDD49ho2sTmz",
        "outputId": "9a062f19-62a2-4438-b58a-3554438e66e6"
      },
      "source": [
        "heatmap = HeatMap( locationArr,max_zoom=20,radius=15)\n",
        "heatmap.add_to(baseMap)"
      ],
      "execution_count": 27,
      "outputs": [
        {
          "output_type": "execute_result",
          "data": {
            "text/plain": [
              "<folium.plugins.heat_map.HeatMap at 0x7f5553b96110>"
            ]
          },
          "metadata": {},
          "execution_count": 27
        }
      ]
    },
    {
      "cell_type": "code",
      "metadata": {
        "colab": {
          "base_uri": "https://localhost:8080/",
          "height": 854
        },
        "id": "FftWNOCToXZT",
        "outputId": "1d7f7e68-a330-486f-a1ac-28ff303a7921"
      },
      "source": [
        "baseMap"
      ],
      "execution_count": 28,
      "outputs": [
        {
          "output_type": "execute_result",
          "data": {
            "text/html": [
              "<div style=\"width:100%;\"><div style=\"position:relative;width:100%;height:0;padding-bottom:60%;\"><span style=\"color:#565656\">Make this Notebook Trusted to load map: File -> Trust Notebook</span><iframe src=\"about:blank\" style=\"position:absolute;width:100%;height:100%;left:0;top:0;border:none !important;\" data-html=%3C%21DOCTYPE%20html%3E%0A%3Chead%3E%20%20%20%20%0A%20%20%20%20%3Cmeta%20http-equiv%3D%22content-type%22%20content%3D%22text/html%3B%20charset%3DUTF-8%22%20/%3E%0A%20%20%20%20%3Cscript%3EL_PREFER_CANVAS%3Dfalse%3B%20L_NO_TOUCH%3Dfalse%3B%20L_DISABLE_3D%3Dfalse%3B%3C/script%3E%0A%20%20%20%20%3Cscript%20src%3D%22https%3A//cdn.jsdelivr.net/npm/leaflet%401.4.0/dist/leaflet.js%22%3E%3C/script%3E%0A%20%20%20%20%3Cscript%20src%3D%22https%3A//code.jquery.com/jquery-1.12.4.min.js%22%3E%3C/script%3E%0A%20%20%20%20%3Cscript%20src%3D%22https%3A//maxcdn.bootstrapcdn.com/bootstrap/3.2.0/js/bootstrap.min.js%22%3E%3C/script%3E%0A%20%20%20%20%3Cscript%20src%3D%22https%3A//cdnjs.cloudflare.com/ajax/libs/Leaflet.awesome-markers/2.0.2/leaflet.awesome-markers.js%22%3E%3C/script%3E%0A%20%20%20%20%3Clink%20rel%3D%22stylesheet%22%20href%3D%22https%3A//cdn.jsdelivr.net/npm/leaflet%401.4.0/dist/leaflet.css%22/%3E%0A%20%20%20%20%3Clink%20rel%3D%22stylesheet%22%20href%3D%22https%3A//maxcdn.bootstrapcdn.com/bootstrap/3.2.0/css/bootstrap.min.css%22/%3E%0A%20%20%20%20%3Clink%20rel%3D%22stylesheet%22%20href%3D%22https%3A//maxcdn.bootstrapcdn.com/bootstrap/3.2.0/css/bootstrap-theme.min.css%22/%3E%0A%20%20%20%20%3Clink%20rel%3D%22stylesheet%22%20href%3D%22https%3A//maxcdn.bootstrapcdn.com/font-awesome/4.6.3/css/font-awesome.min.css%22/%3E%0A%20%20%20%20%3Clink%20rel%3D%22stylesheet%22%20href%3D%22https%3A//cdnjs.cloudflare.com/ajax/libs/Leaflet.awesome-markers/2.0.2/leaflet.awesome-markers.css%22/%3E%0A%20%20%20%20%3Clink%20rel%3D%22stylesheet%22%20href%3D%22https%3A//rawcdn.githack.com/python-visualization/folium/master/folium/templates/leaflet.awesome.rotate.css%22/%3E%0A%20%20%20%20%3Cstyle%3Ehtml%2C%20body%20%7Bwidth%3A%20100%25%3Bheight%3A%20100%25%3Bmargin%3A%200%3Bpadding%3A%200%3B%7D%3C/style%3E%0A%20%20%20%20%3Cstyle%3E%23map%20%7Bposition%3Aabsolute%3Btop%3A0%3Bbottom%3A0%3Bright%3A0%3Bleft%3A0%3B%7D%3C/style%3E%0A%20%20%20%20%0A%20%20%20%20%3Cmeta%20name%3D%22viewport%22%20content%3D%22width%3Ddevice-width%2C%0A%20%20%20%20%20%20%20%20initial-scale%3D1.0%2C%20maximum-scale%3D1.0%2C%20user-scalable%3Dno%22%20/%3E%0A%20%20%20%20%3Cstyle%3E%23map_f9b16763a00e4a61b527769aa2763a29%20%7B%0A%20%20%20%20%20%20%20%20position%3A%20relative%3B%0A%20%20%20%20%20%20%20%20width%3A%20100.0%25%3B%0A%20%20%20%20%20%20%20%20height%3A%20100.0%25%3B%0A%20%20%20%20%20%20%20%20left%3A%200.0%25%3B%0A%20%20%20%20%20%20%20%20top%3A%200.0%25%3B%0A%20%20%20%20%20%20%20%20%7D%0A%20%20%20%20%3C/style%3E%0A%20%20%20%20%3Cscript%20src%3D%22https%3A//leaflet.github.io/Leaflet.heat/dist/leaflet-heat.js%22%3E%3C/script%3E%0A%3C/head%3E%0A%3Cbody%3E%20%20%20%20%0A%20%20%20%20%0A%20%20%20%20%3Cdiv%20class%3D%22folium-map%22%20id%3D%22map_f9b16763a00e4a61b527769aa2763a29%22%20%3E%3C/div%3E%0A%3C/body%3E%0A%3Cscript%3E%20%20%20%20%0A%20%20%20%20%0A%20%20%20%20%0A%20%20%20%20%20%20%20%20var%20bounds%20%3D%20null%3B%0A%20%20%20%20%0A%0A%20%20%20%20var%20map_f9b16763a00e4a61b527769aa2763a29%20%3D%20L.map%28%0A%20%20%20%20%20%20%20%20%27map_f9b16763a00e4a61b527769aa2763a29%27%2C%20%7B%0A%20%20%20%20%20%20%20%20center%3A%20%5B12.97%2C%2077.59%5D%2C%0A%20%20%20%20%20%20%20%20zoom%3A%2012%2C%0A%20%20%20%20%20%20%20%20maxBounds%3A%20bounds%2C%0A%20%20%20%20%20%20%20%20layers%3A%20%5B%5D%2C%0A%20%20%20%20%20%20%20%20worldCopyJump%3A%20false%2C%0A%20%20%20%20%20%20%20%20crs%3A%20L.CRS.EPSG3857%2C%0A%20%20%20%20%20%20%20%20zoomControl%3A%20true%2C%0A%20%20%20%20%20%20%20%20%7D%29%3B%0A%0A%0A%20%20%20%20%0A%20%20%20%20var%20tile_layer_80cd99ec86934ccab48c43082f3641f0%20%3D%20L.tileLayer%28%0A%20%20%20%20%20%20%20%20%27https%3A//%7Bs%7D.tile.openstreetmap.org/%7Bz%7D/%7Bx%7D/%7By%7D.png%27%2C%0A%20%20%20%20%20%20%20%20%7B%0A%20%20%20%20%20%20%20%20%22attribution%22%3A%20null%2C%0A%20%20%20%20%20%20%20%20%22detectRetina%22%3A%20false%2C%0A%20%20%20%20%20%20%20%20%22maxNativeZoom%22%3A%2018%2C%0A%20%20%20%20%20%20%20%20%22maxZoom%22%3A%2018%2C%0A%20%20%20%20%20%20%20%20%22minZoom%22%3A%200%2C%0A%20%20%20%20%20%20%20%20%22noWrap%22%3A%20false%2C%0A%20%20%20%20%20%20%20%20%22opacity%22%3A%201%2C%0A%20%20%20%20%20%20%20%20%22subdomains%22%3A%20%22abc%22%2C%0A%20%20%20%20%20%20%20%20%22tms%22%3A%20false%0A%7D%29.addTo%28map_f9b16763a00e4a61b527769aa2763a29%29%3B%0A%20%20%20%20%0A%20%20%20%20%20%20%20%20%20%20%20%20var%20heat_map_8b39a6be258f4f61bb0bbd2e1aecd539%20%3D%20L.heatLayer%28%0A%20%20%20%20%20%20%20%20%20%20%20%20%20%20%20%20%5B%5B45.95485055%2C%20-112.49659530324134%2C%205124.0%5D%2C%20%5B18.1475%2C%2041.538889%2C%202523.0%5D%2C%20%5B12.9343774%2C%2077.628415%2C%202504.0%5D%2C%20%5B12.2655944%2C%2076.6465404%2C%202235.0%5D%2C%20%5B44.3730577%2C%20-71.6118577%2C%202144.0%5D%2C%20%5B12.9732913%2C%2077.6404672%2C%202083.0%5D%2C%20%5B27.64392675%2C%2083.05280519687284%2C%201926.0%5D%2C%20%5B12.9552572%2C%2077.6984163%2C%201846.0%5D%2C%20%5B12.9059707%2C%2077.6017374%2C%201630.0%5D%2C%20%5B12.93577245%2C%2077.66676103753434%2C%201286.0%5D%2C%20%5B32.2934563%2C%20-64.78236307254568%2C%201258.0%5D%2C%20%5B12.933232%2C%2077.6254669%2C%201238.0%5D%2C%20%5B12.9750605%2C%2077.6080323%2C%201218.0%5D%2C%20%5B12.9302645%2C%2077.6332585%2C%201181.0%5D%2C%20%5B12.9400321%2C%2077.6203272%2C%201156.0%5D%2C%20%5B12.9244803%2C%2077.6502737%2C%201065.0%5D%2C%20%5B12.9778793%2C%2077.6246697%2C%201023.0%5D%2C%20%5B12.93433385%2C%2077.63040639553275%2C%201017.0%5D%2C%20%5B17.1452094%2C%2079.6218777%2C%20918.0%5D%2C%20%5B15.8876779%2C%2075.7046777%2C%20906.0%5D%2C%20%5B13.0221416%2C%2077.6403368%2C%20853.0%5D%2C%20%5B40.5758316%2C%20-74.1273021%2C%20812.0%5D%2C%20%5B12.996845%2C%2077.6130165%2C%20727.0%5D%2C%20%5B13.0027353%2C%2077.5703253%2C%20725.0%5D%2C%20%5B12.9417261%2C%2077.5755021%2C%20684.0%5D%2C%20%5B-28.5477541%2C%2029.788093%2C%20675.0%5D%2C%20%5B13.0141618%2C%2077.6518539%2C%20664.0%5D%2C%20%5B33.5935063%2C%20-79.0345627%2C%20658.0%5D%2C%20%5B13.0170347%2C%2077.5726006%2C%20649.0%5D%2C%20%5B13.0093455%2C%2077.6377094%2C%20648.0%5D%2C%20%5B12.9882338%2C%2077.554883%2C%20591.0%5D%2C%20%5B40.7133336%2C%20-74.0092085%2C%20569.0%5D%2C%20%5B40.7652844%2C%20-76.373824%2C%20529.0%5D%2C%20%5B17.5223139%2C%2078.5804307%2C%20511.0%5D%2C%20%5B18.5322493%2C%2073.8499601124847%2C%20499.0%5D%2C%20%5B12.9624669%2C%2077.6381958%2C%20496.0%5D%2C%20%5B31.89376%2C%20-88.066644%2C%20491.0%5D%2C%20%5B34.8457921%2C%20-82.338901%2C%20446.0%5D%2C%20%5B12.945245%2C%2077.6269144%2C%20439.0%5D%2C%20%5B51.519619%2C%20-0.0744749%2C%20370.0%5D%2C%20%5B51.5230784%2C%20-0.7374421%2C%20352.0%5D%2C%20%5B12.9417812%2C%2077.6160146%2C%20320.0%5D%2C%20%5B12.988721250000001%2C%2077.58516877601824%2C%20295.0%5D%2C%20%5B12.9678074%2C%2077.6568367%2C%20272.0%5D%2C%20%5B12.9489339%2C%2077.5968273%2C%20246.0%5D%2C%20%5B12.9089453%2C%2077.6239038%2C%20238.0%5D%2C%20%5B12.9271867%2C%2077.6266252%2C%20216.0%5D%2C%20%5B12.9081487%2C%2077.5553179%2C%20195.0%5D%2C%20%5B12.973936%2C%2077.6509982%2C%20194.0%5D%2C%20%5B12.9922983%2C%2077.5384739%2C%20191.0%5D%2C%20%5B13.2227%2C%2078.5541977%2C%20187.0%5D%2C%20%5B12.9931876%2C%2077.5753419%2C%20165.0%5D%2C%20%5B13.0258087%2C%2077.6305067%2C%20161.0%5D%2C%20%5B1.2847055%2C%20103.84320655721689%2C%20155.0%5D%2C%20%5B13.0358698%2C%2077.6323597%2C%20153.0%5D%2C%20%5B-34.0048654%2C%2022.4414125%2C%20151.0%5D%2C%20%5B1.3089343%2C%20103.8513177%2C%20139.0%5D%2C%20%5B39.76880625%2C%20-86.15345077251979%2C%20126.0%5D%2C%20%5B13.02383%2C%2077.5529215%2C%20119.0%5D%2C%20%5B12.9414662%2C%2077.7470942%2C%20117.0%5D%2C%20%5B12.9859966%2C%2077.7327435%2C%20113.0%5D%2C%20%5B13.0646907%2C%2077.49626895712257%2C%20107.0%5D%2C%20%5B12.7405867%2C%2077.8200481%2C%20102.0%5D%2C%20%5B12.9243509%2C%2077.6255562%2C%20102.0%5D%2C%20%5B12.9846713%2C%2077.6790908%2C%20101.0%5D%2C%20%5B17.2510682%2C%2080.1651978%2C%2090.0%5D%2C%20%5B13.0227204%2C%2077.595715%2C%2080.0%5D%2C%20%5B22.8359967%2C%2069.3405962%2C%2080.0%5D%2C%20%5B23.1485712%2C%2081.6048241%2C%2076.0%5D%2C%20%5B15.8782951%2C%2074.5084834%2C%2063.0%5D%2C%20%5B13.0621474%2C%2077.58006135480495%2C%2053.0%5D%2C%20%5B12.9340114%2C%2077.6222304%2C%2048.0%5D%2C%20%5B13.0215466%2C%2077.7640586%2C%2044.0%5D%2C%20%5B13.6285774%2C%2077.4642026%2C%2038.0%5D%2C%20%5B12.945048%2C%2077.263004%2C%2034.0%5D%2C%20%5B38.7801076%2C%20-121.5056438%2C%2027.0%5D%2C%20%5B12.957998%2C%2077.6037312%2C%2027.0%5D%2C%20%5B12.3872141%2C%2076.6669626%2C%2022.0%5D%2C%20%5B12.9970537%2C%2077.669804%2C%2022.0%5D%2C%20%5B12.5442176%2C%2077.4213833%2C%2019.0%5D%2C%20%5B13.007516%2C%2077.695935%2C%2018.0%5D%2C%20%5B12.9055682%2C%2077.5455438%2C%2017.0%5D%2C%20%5B13.0217151%2C%2077.7660547%2C%2014.0%5D%2C%20%5B13.0382184%2C%2077.5919%2C%2014.0%5D%2C%20%5B12.9176571%2C%2077.4837568%2C%209.0%5D%2C%20%5B12.9546741%2C%2077.5121724%2C%209.0%5D%2C%20%5B12.9900235%2C%2077.572073%2C%208.0%5D%2C%20%5B13.0011289%2C%2077.6325617%2C%206.0%5D%2C%20%5B13.1006982%2C%2077.5963454%2C%206.0%5D%2C%20%5B13.0784743%2C%2077.6068938%2C%203.0%5D%2C%20%5B12.9274413%2C%2077.5155224%2C%202.0%5D%2C%20%5B13.0329419%2C%2077.5273253%2C%201.0%5D%5D%2C%0A%20%20%20%20%20%20%20%20%20%20%20%20%20%20%20%20%7B%0A%20%20%20%20%20%20%20%20%20%20%20%20%20%20%20%20%20%20%20%20minOpacity%3A%200.5%2C%0A%20%20%20%20%20%20%20%20%20%20%20%20%20%20%20%20%20%20%20%20maxZoom%3A%2020%2C%0A%20%20%20%20%20%20%20%20%20%20%20%20%20%20%20%20%20%20%20%20max%3A%201.0%2C%0A%20%20%20%20%20%20%20%20%20%20%20%20%20%20%20%20%20%20%20%20radius%3A%2015%2C%0A%20%20%20%20%20%20%20%20%20%20%20%20%20%20%20%20%20%20%20%20blur%3A%2015%2C%0A%20%20%20%20%20%20%20%20%20%20%20%20%20%20%20%20%20%20%20%20gradient%3A%20null%0A%20%20%20%20%20%20%20%20%20%20%20%20%20%20%20%20%20%20%20%20%7D%29%0A%20%20%20%20%20%20%20%20%20%20%20%20%20%20%20%20.addTo%28map_f9b16763a00e4a61b527769aa2763a29%29%3B%0A%20%20%20%20%20%20%20%20%0A%3C/script%3E onload=\"this.contentDocument.open();this.contentDocument.write(    decodeURIComponent(this.getAttribute('data-html')));this.contentDocument.close();\" allowfullscreen webkitallowfullscreen mozallowfullscreen></iframe></div></div>"
            ],
            "text/plain": [
              "<folium.folium.Map at 0x7f5569a62410>"
            ]
          },
          "metadata": {},
          "execution_count": 28
        }
      ]
    },
    {
      "cell_type": "code",
      "metadata": {
        "id": "t8qOrXjLtnR9"
      },
      "source": [
        "#LOCATING RESTAURANTS ON BASEMAP\n",
        "from folium.plugins import FastMarkerCluster"
      ],
      "execution_count": 29,
      "outputs": []
    },
    {
      "cell_type": "code",
      "metadata": {
        "colab": {
          "base_uri": "https://localhost:8080/",
          "height": 854
        },
        "id": "O_uXAO8luLdm",
        "outputId": "b442df82-90f5-44cc-9541-ca2987509b8b"
      },
      "source": [
        "FastMarkerCluster(data=locationArr.tolist()).add_to(baseMap)\n",
        "\n",
        "baseMap"
      ],
      "execution_count": 30,
      "outputs": [
        {
          "output_type": "execute_result",
          "data": {
            "text/html": [
              "<div style=\"width:100%;\"><div style=\"position:relative;width:100%;height:0;padding-bottom:60%;\"><span style=\"color:#565656\">Make this Notebook Trusted to load map: File -> Trust Notebook</span><iframe src=\"about:blank\" style=\"position:absolute;width:100%;height:100%;left:0;top:0;border:none !important;\" data-html=%3C%21DOCTYPE%20html%3E%0A%3Chead%3E%20%20%20%20%0A%20%20%20%20%3Cmeta%20http-equiv%3D%22content-type%22%20content%3D%22text/html%3B%20charset%3DUTF-8%22%20/%3E%0A%20%20%20%20%3Cscript%3EL_PREFER_CANVAS%3Dfalse%3B%20L_NO_TOUCH%3Dfalse%3B%20L_DISABLE_3D%3Dfalse%3B%3C/script%3E%0A%20%20%20%20%3Cscript%20src%3D%22https%3A//cdn.jsdelivr.net/npm/leaflet%401.4.0/dist/leaflet.js%22%3E%3C/script%3E%0A%20%20%20%20%3Cscript%20src%3D%22https%3A//code.jquery.com/jquery-1.12.4.min.js%22%3E%3C/script%3E%0A%20%20%20%20%3Cscript%20src%3D%22https%3A//maxcdn.bootstrapcdn.com/bootstrap/3.2.0/js/bootstrap.min.js%22%3E%3C/script%3E%0A%20%20%20%20%3Cscript%20src%3D%22https%3A//cdnjs.cloudflare.com/ajax/libs/Leaflet.awesome-markers/2.0.2/leaflet.awesome-markers.js%22%3E%3C/script%3E%0A%20%20%20%20%3Clink%20rel%3D%22stylesheet%22%20href%3D%22https%3A//cdn.jsdelivr.net/npm/leaflet%401.4.0/dist/leaflet.css%22/%3E%0A%20%20%20%20%3Clink%20rel%3D%22stylesheet%22%20href%3D%22https%3A//maxcdn.bootstrapcdn.com/bootstrap/3.2.0/css/bootstrap.min.css%22/%3E%0A%20%20%20%20%3Clink%20rel%3D%22stylesheet%22%20href%3D%22https%3A//maxcdn.bootstrapcdn.com/bootstrap/3.2.0/css/bootstrap-theme.min.css%22/%3E%0A%20%20%20%20%3Clink%20rel%3D%22stylesheet%22%20href%3D%22https%3A//maxcdn.bootstrapcdn.com/font-awesome/4.6.3/css/font-awesome.min.css%22/%3E%0A%20%20%20%20%3Clink%20rel%3D%22stylesheet%22%20href%3D%22https%3A//cdnjs.cloudflare.com/ajax/libs/Leaflet.awesome-markers/2.0.2/leaflet.awesome-markers.css%22/%3E%0A%20%20%20%20%3Clink%20rel%3D%22stylesheet%22%20href%3D%22https%3A//rawcdn.githack.com/python-visualization/folium/master/folium/templates/leaflet.awesome.rotate.css%22/%3E%0A%20%20%20%20%3Cstyle%3Ehtml%2C%20body%20%7Bwidth%3A%20100%25%3Bheight%3A%20100%25%3Bmargin%3A%200%3Bpadding%3A%200%3B%7D%3C/style%3E%0A%20%20%20%20%3Cstyle%3E%23map%20%7Bposition%3Aabsolute%3Btop%3A0%3Bbottom%3A0%3Bright%3A0%3Bleft%3A0%3B%7D%3C/style%3E%0A%20%20%20%20%0A%20%20%20%20%3Cmeta%20name%3D%22viewport%22%20content%3D%22width%3Ddevice-width%2C%0A%20%20%20%20%20%20%20%20initial-scale%3D1.0%2C%20maximum-scale%3D1.0%2C%20user-scalable%3Dno%22%20/%3E%0A%20%20%20%20%3Cstyle%3E%23map_f9b16763a00e4a61b527769aa2763a29%20%7B%0A%20%20%20%20%20%20%20%20position%3A%20relative%3B%0A%20%20%20%20%20%20%20%20width%3A%20100.0%25%3B%0A%20%20%20%20%20%20%20%20height%3A%20100.0%25%3B%0A%20%20%20%20%20%20%20%20left%3A%200.0%25%3B%0A%20%20%20%20%20%20%20%20top%3A%200.0%25%3B%0A%20%20%20%20%20%20%20%20%7D%0A%20%20%20%20%3C/style%3E%0A%20%20%20%20%3Cscript%20src%3D%22https%3A//leaflet.github.io/Leaflet.heat/dist/leaflet-heat.js%22%3E%3C/script%3E%0A%20%20%20%20%3Cscript%20src%3D%22https%3A//cdnjs.cloudflare.com/ajax/libs/leaflet.markercluster/1.1.0/leaflet.markercluster.js%22%3E%3C/script%3E%0A%20%20%20%20%3Clink%20rel%3D%22stylesheet%22%20href%3D%22https%3A//cdnjs.cloudflare.com/ajax/libs/leaflet.markercluster/1.1.0/MarkerCluster.css%22/%3E%0A%20%20%20%20%3Clink%20rel%3D%22stylesheet%22%20href%3D%22https%3A//cdnjs.cloudflare.com/ajax/libs/leaflet.markercluster/1.1.0/MarkerCluster.Default.css%22/%3E%0A%3C/head%3E%0A%3Cbody%3E%20%20%20%20%0A%20%20%20%20%0A%20%20%20%20%3Cdiv%20class%3D%22folium-map%22%20id%3D%22map_f9b16763a00e4a61b527769aa2763a29%22%20%3E%3C/div%3E%0A%3C/body%3E%0A%3Cscript%3E%20%20%20%20%0A%20%20%20%20%0A%20%20%20%20%0A%20%20%20%20%20%20%20%20var%20bounds%20%3D%20null%3B%0A%20%20%20%20%0A%0A%20%20%20%20var%20map_f9b16763a00e4a61b527769aa2763a29%20%3D%20L.map%28%0A%20%20%20%20%20%20%20%20%27map_f9b16763a00e4a61b527769aa2763a29%27%2C%20%7B%0A%20%20%20%20%20%20%20%20center%3A%20%5B12.97%2C%2077.59%5D%2C%0A%20%20%20%20%20%20%20%20zoom%3A%2012%2C%0A%20%20%20%20%20%20%20%20maxBounds%3A%20bounds%2C%0A%20%20%20%20%20%20%20%20layers%3A%20%5B%5D%2C%0A%20%20%20%20%20%20%20%20worldCopyJump%3A%20false%2C%0A%20%20%20%20%20%20%20%20crs%3A%20L.CRS.EPSG3857%2C%0A%20%20%20%20%20%20%20%20zoomControl%3A%20true%2C%0A%20%20%20%20%20%20%20%20%7D%29%3B%0A%0A%0A%20%20%20%20%0A%20%20%20%20var%20tile_layer_80cd99ec86934ccab48c43082f3641f0%20%3D%20L.tileLayer%28%0A%20%20%20%20%20%20%20%20%27https%3A//%7Bs%7D.tile.openstreetmap.org/%7Bz%7D/%7Bx%7D/%7By%7D.png%27%2C%0A%20%20%20%20%20%20%20%20%7B%0A%20%20%20%20%20%20%20%20%22attribution%22%3A%20null%2C%0A%20%20%20%20%20%20%20%20%22detectRetina%22%3A%20false%2C%0A%20%20%20%20%20%20%20%20%22maxNativeZoom%22%3A%2018%2C%0A%20%20%20%20%20%20%20%20%22maxZoom%22%3A%2018%2C%0A%20%20%20%20%20%20%20%20%22minZoom%22%3A%200%2C%0A%20%20%20%20%20%20%20%20%22noWrap%22%3A%20false%2C%0A%20%20%20%20%20%20%20%20%22opacity%22%3A%201%2C%0A%20%20%20%20%20%20%20%20%22subdomains%22%3A%20%22abc%22%2C%0A%20%20%20%20%20%20%20%20%22tms%22%3A%20false%0A%7D%29.addTo%28map_f9b16763a00e4a61b527769aa2763a29%29%3B%0A%20%20%20%20%0A%20%20%20%20%20%20%20%20%20%20%20%20var%20heat_map_8b39a6be258f4f61bb0bbd2e1aecd539%20%3D%20L.heatLayer%28%0A%20%20%20%20%20%20%20%20%20%20%20%20%20%20%20%20%5B%5B45.95485055%2C%20-112.49659530324134%2C%205124.0%5D%2C%20%5B18.1475%2C%2041.538889%2C%202523.0%5D%2C%20%5B12.9343774%2C%2077.628415%2C%202504.0%5D%2C%20%5B12.2655944%2C%2076.6465404%2C%202235.0%5D%2C%20%5B44.3730577%2C%20-71.6118577%2C%202144.0%5D%2C%20%5B12.9732913%2C%2077.6404672%2C%202083.0%5D%2C%20%5B27.64392675%2C%2083.05280519687284%2C%201926.0%5D%2C%20%5B12.9552572%2C%2077.6984163%2C%201846.0%5D%2C%20%5B12.9059707%2C%2077.6017374%2C%201630.0%5D%2C%20%5B12.93577245%2C%2077.66676103753434%2C%201286.0%5D%2C%20%5B32.2934563%2C%20-64.78236307254568%2C%201258.0%5D%2C%20%5B12.933232%2C%2077.6254669%2C%201238.0%5D%2C%20%5B12.9750605%2C%2077.6080323%2C%201218.0%5D%2C%20%5B12.9302645%2C%2077.6332585%2C%201181.0%5D%2C%20%5B12.9400321%2C%2077.6203272%2C%201156.0%5D%2C%20%5B12.9244803%2C%2077.6502737%2C%201065.0%5D%2C%20%5B12.9778793%2C%2077.6246697%2C%201023.0%5D%2C%20%5B12.93433385%2C%2077.63040639553275%2C%201017.0%5D%2C%20%5B17.1452094%2C%2079.6218777%2C%20918.0%5D%2C%20%5B15.8876779%2C%2075.7046777%2C%20906.0%5D%2C%20%5B13.0221416%2C%2077.6403368%2C%20853.0%5D%2C%20%5B40.5758316%2C%20-74.1273021%2C%20812.0%5D%2C%20%5B12.996845%2C%2077.6130165%2C%20727.0%5D%2C%20%5B13.0027353%2C%2077.5703253%2C%20725.0%5D%2C%20%5B12.9417261%2C%2077.5755021%2C%20684.0%5D%2C%20%5B-28.5477541%2C%2029.788093%2C%20675.0%5D%2C%20%5B13.0141618%2C%2077.6518539%2C%20664.0%5D%2C%20%5B33.5935063%2C%20-79.0345627%2C%20658.0%5D%2C%20%5B13.0170347%2C%2077.5726006%2C%20649.0%5D%2C%20%5B13.0093455%2C%2077.6377094%2C%20648.0%5D%2C%20%5B12.9882338%2C%2077.554883%2C%20591.0%5D%2C%20%5B40.7133336%2C%20-74.0092085%2C%20569.0%5D%2C%20%5B40.7652844%2C%20-76.373824%2C%20529.0%5D%2C%20%5B17.5223139%2C%2078.5804307%2C%20511.0%5D%2C%20%5B18.5322493%2C%2073.8499601124847%2C%20499.0%5D%2C%20%5B12.9624669%2C%2077.6381958%2C%20496.0%5D%2C%20%5B31.89376%2C%20-88.066644%2C%20491.0%5D%2C%20%5B34.8457921%2C%20-82.338901%2C%20446.0%5D%2C%20%5B12.945245%2C%2077.6269144%2C%20439.0%5D%2C%20%5B51.519619%2C%20-0.0744749%2C%20370.0%5D%2C%20%5B51.5230784%2C%20-0.7374421%2C%20352.0%5D%2C%20%5B12.9417812%2C%2077.6160146%2C%20320.0%5D%2C%20%5B12.988721250000001%2C%2077.58516877601824%2C%20295.0%5D%2C%20%5B12.9678074%2C%2077.6568367%2C%20272.0%5D%2C%20%5B12.9489339%2C%2077.5968273%2C%20246.0%5D%2C%20%5B12.9089453%2C%2077.6239038%2C%20238.0%5D%2C%20%5B12.9271867%2C%2077.6266252%2C%20216.0%5D%2C%20%5B12.9081487%2C%2077.5553179%2C%20195.0%5D%2C%20%5B12.973936%2C%2077.6509982%2C%20194.0%5D%2C%20%5B12.9922983%2C%2077.5384739%2C%20191.0%5D%2C%20%5B13.2227%2C%2078.5541977%2C%20187.0%5D%2C%20%5B12.9931876%2C%2077.5753419%2C%20165.0%5D%2C%20%5B13.0258087%2C%2077.6305067%2C%20161.0%5D%2C%20%5B1.2847055%2C%20103.84320655721689%2C%20155.0%5D%2C%20%5B13.0358698%2C%2077.6323597%2C%20153.0%5D%2C%20%5B-34.0048654%2C%2022.4414125%2C%20151.0%5D%2C%20%5B1.3089343%2C%20103.8513177%2C%20139.0%5D%2C%20%5B39.76880625%2C%20-86.15345077251979%2C%20126.0%5D%2C%20%5B13.02383%2C%2077.5529215%2C%20119.0%5D%2C%20%5B12.9414662%2C%2077.7470942%2C%20117.0%5D%2C%20%5B12.9859966%2C%2077.7327435%2C%20113.0%5D%2C%20%5B13.0646907%2C%2077.49626895712257%2C%20107.0%5D%2C%20%5B12.7405867%2C%2077.8200481%2C%20102.0%5D%2C%20%5B12.9243509%2C%2077.6255562%2C%20102.0%5D%2C%20%5B12.9846713%2C%2077.6790908%2C%20101.0%5D%2C%20%5B17.2510682%2C%2080.1651978%2C%2090.0%5D%2C%20%5B13.0227204%2C%2077.595715%2C%2080.0%5D%2C%20%5B22.8359967%2C%2069.3405962%2C%2080.0%5D%2C%20%5B23.1485712%2C%2081.6048241%2C%2076.0%5D%2C%20%5B15.8782951%2C%2074.5084834%2C%2063.0%5D%2C%20%5B13.0621474%2C%2077.58006135480495%2C%2053.0%5D%2C%20%5B12.9340114%2C%2077.6222304%2C%2048.0%5D%2C%20%5B13.0215466%2C%2077.7640586%2C%2044.0%5D%2C%20%5B13.6285774%2C%2077.4642026%2C%2038.0%5D%2C%20%5B12.945048%2C%2077.263004%2C%2034.0%5D%2C%20%5B38.7801076%2C%20-121.5056438%2C%2027.0%5D%2C%20%5B12.957998%2C%2077.6037312%2C%2027.0%5D%2C%20%5B12.3872141%2C%2076.6669626%2C%2022.0%5D%2C%20%5B12.9970537%2C%2077.669804%2C%2022.0%5D%2C%20%5B12.5442176%2C%2077.4213833%2C%2019.0%5D%2C%20%5B13.007516%2C%2077.695935%2C%2018.0%5D%2C%20%5B12.9055682%2C%2077.5455438%2C%2017.0%5D%2C%20%5B13.0217151%2C%2077.7660547%2C%2014.0%5D%2C%20%5B13.0382184%2C%2077.5919%2C%2014.0%5D%2C%20%5B12.9176571%2C%2077.4837568%2C%209.0%5D%2C%20%5B12.9546741%2C%2077.5121724%2C%209.0%5D%2C%20%5B12.9900235%2C%2077.572073%2C%208.0%5D%2C%20%5B13.0011289%2C%2077.6325617%2C%206.0%5D%2C%20%5B13.1006982%2C%2077.5963454%2C%206.0%5D%2C%20%5B13.0784743%2C%2077.6068938%2C%203.0%5D%2C%20%5B12.9274413%2C%2077.5155224%2C%202.0%5D%2C%20%5B13.0329419%2C%2077.5273253%2C%201.0%5D%5D%2C%0A%20%20%20%20%20%20%20%20%20%20%20%20%20%20%20%20%7B%0A%20%20%20%20%20%20%20%20%20%20%20%20%20%20%20%20%20%20%20%20minOpacity%3A%200.5%2C%0A%20%20%20%20%20%20%20%20%20%20%20%20%20%20%20%20%20%20%20%20maxZoom%3A%2020%2C%0A%20%20%20%20%20%20%20%20%20%20%20%20%20%20%20%20%20%20%20%20max%3A%201.0%2C%0A%20%20%20%20%20%20%20%20%20%20%20%20%20%20%20%20%20%20%20%20radius%3A%2015%2C%0A%20%20%20%20%20%20%20%20%20%20%20%20%20%20%20%20%20%20%20%20blur%3A%2015%2C%0A%20%20%20%20%20%20%20%20%20%20%20%20%20%20%20%20%20%20%20%20gradient%3A%20null%0A%20%20%20%20%20%20%20%20%20%20%20%20%20%20%20%20%20%20%20%20%7D%29%0A%20%20%20%20%20%20%20%20%20%20%20%20%20%20%20%20.addTo%28map_f9b16763a00e4a61b527769aa2763a29%29%3B%0A%20%20%20%20%20%20%20%20%0A%20%20%20%20%0A%0A%20%20%20%20%20%20%20%20%20%20%20%20var%20fast_marker_cluster_ba2bdc3767e74dfca3b188b0458fa8d2%20%3D%20%28function%28%29%7B%0A%20%20%20%20%20%20%20%20%20%20%20%20%20%20%20%20%0A%20%20%20%20%20%20%20%20%20%20%20%20%20%20%20%20var%20callback%20%3D%20function%20%28row%29%20%7B%0A%20%20%20%20%20%20%20%20%20%20%20%20%20%20%20%20%20%20%20%20var%20icon%20%3D%20L.AwesomeMarkers.icon%28%29%3B%0A%20%20%20%20%20%20%20%20%20%20%20%20%20%20%20%20%20%20%20%20var%20marker%20%3D%20L.marker%28new%20L.LatLng%28row%5B0%5D%2C%20row%5B1%5D%29%29%3B%0A%20%20%20%20%20%20%20%20%20%20%20%20%20%20%20%20%20%20%20%20marker.setIcon%28icon%29%3B%0A%20%20%20%20%20%20%20%20%20%20%20%20%20%20%20%20%20%20%20%20return%20marker%3B%0A%20%20%20%20%20%20%20%20%20%20%20%20%20%20%20%20%7D%3B%0A%0A%20%20%20%20%20%20%20%20%20%20%20%20%20%20%20%20var%20data%20%3D%20%5B%5B45.95485055%2C%20-112.49659530324134%2C%205124.0%5D%2C%20%5B18.1475%2C%2041.538889%2C%202523.0%5D%2C%20%5B12.9343774%2C%2077.628415%2C%202504.0%5D%2C%20%5B12.2655944%2C%2076.6465404%2C%202235.0%5D%2C%20%5B44.3730577%2C%20-71.6118577%2C%202144.0%5D%2C%20%5B12.9732913%2C%2077.6404672%2C%202083.0%5D%2C%20%5B27.64392675%2C%2083.05280519687284%2C%201926.0%5D%2C%20%5B12.9552572%2C%2077.6984163%2C%201846.0%5D%2C%20%5B12.9059707%2C%2077.6017374%2C%201630.0%5D%2C%20%5B12.93577245%2C%2077.66676103753434%2C%201286.0%5D%2C%20%5B32.2934563%2C%20-64.78236307254568%2C%201258.0%5D%2C%20%5B12.933232%2C%2077.6254669%2C%201238.0%5D%2C%20%5B12.9750605%2C%2077.6080323%2C%201218.0%5D%2C%20%5B12.9302645%2C%2077.6332585%2C%201181.0%5D%2C%20%5B12.9400321%2C%2077.6203272%2C%201156.0%5D%2C%20%5B12.9244803%2C%2077.6502737%2C%201065.0%5D%2C%20%5B12.9778793%2C%2077.6246697%2C%201023.0%5D%2C%20%5B12.93433385%2C%2077.63040639553275%2C%201017.0%5D%2C%20%5B17.1452094%2C%2079.6218777%2C%20918.0%5D%2C%20%5B15.8876779%2C%2075.7046777%2C%20906.0%5D%2C%20%5B13.0221416%2C%2077.6403368%2C%20853.0%5D%2C%20%5B40.5758316%2C%20-74.1273021%2C%20812.0%5D%2C%20%5B12.996845%2C%2077.6130165%2C%20727.0%5D%2C%20%5B13.0027353%2C%2077.5703253%2C%20725.0%5D%2C%20%5B12.9417261%2C%2077.5755021%2C%20684.0%5D%2C%20%5B-28.5477541%2C%2029.788093%2C%20675.0%5D%2C%20%5B13.0141618%2C%2077.6518539%2C%20664.0%5D%2C%20%5B33.5935063%2C%20-79.0345627%2C%20658.0%5D%2C%20%5B13.0170347%2C%2077.5726006%2C%20649.0%5D%2C%20%5B13.0093455%2C%2077.6377094%2C%20648.0%5D%2C%20%5B12.9882338%2C%2077.554883%2C%20591.0%5D%2C%20%5B40.7133336%2C%20-74.0092085%2C%20569.0%5D%2C%20%5B40.7652844%2C%20-76.373824%2C%20529.0%5D%2C%20%5B17.5223139%2C%2078.5804307%2C%20511.0%5D%2C%20%5B18.5322493%2C%2073.8499601124847%2C%20499.0%5D%2C%20%5B12.9624669%2C%2077.6381958%2C%20496.0%5D%2C%20%5B31.89376%2C%20-88.066644%2C%20491.0%5D%2C%20%5B34.8457921%2C%20-82.338901%2C%20446.0%5D%2C%20%5B12.945245%2C%2077.6269144%2C%20439.0%5D%2C%20%5B51.519619%2C%20-0.0744749%2C%20370.0%5D%2C%20%5B51.5230784%2C%20-0.7374421%2C%20352.0%5D%2C%20%5B12.9417812%2C%2077.6160146%2C%20320.0%5D%2C%20%5B12.988721250000001%2C%2077.58516877601824%2C%20295.0%5D%2C%20%5B12.9678074%2C%2077.6568367%2C%20272.0%5D%2C%20%5B12.9489339%2C%2077.5968273%2C%20246.0%5D%2C%20%5B12.9089453%2C%2077.6239038%2C%20238.0%5D%2C%20%5B12.9271867%2C%2077.6266252%2C%20216.0%5D%2C%20%5B12.9081487%2C%2077.5553179%2C%20195.0%5D%2C%20%5B12.973936%2C%2077.6509982%2C%20194.0%5D%2C%20%5B12.9922983%2C%2077.5384739%2C%20191.0%5D%2C%20%5B13.2227%2C%2078.5541977%2C%20187.0%5D%2C%20%5B12.9931876%2C%2077.5753419%2C%20165.0%5D%2C%20%5B13.0258087%2C%2077.6305067%2C%20161.0%5D%2C%20%5B1.2847055%2C%20103.84320655721689%2C%20155.0%5D%2C%20%5B13.0358698%2C%2077.6323597%2C%20153.0%5D%2C%20%5B-34.0048654%2C%2022.4414125%2C%20151.0%5D%2C%20%5B1.3089343%2C%20103.8513177%2C%20139.0%5D%2C%20%5B39.76880625%2C%20-86.15345077251979%2C%20126.0%5D%2C%20%5B13.02383%2C%2077.5529215%2C%20119.0%5D%2C%20%5B12.9414662%2C%2077.7470942%2C%20117.0%5D%2C%20%5B12.9859966%2C%2077.7327435%2C%20113.0%5D%2C%20%5B13.0646907%2C%2077.49626895712257%2C%20107.0%5D%2C%20%5B12.7405867%2C%2077.8200481%2C%20102.0%5D%2C%20%5B12.9243509%2C%2077.6255562%2C%20102.0%5D%2C%20%5B12.9846713%2C%2077.6790908%2C%20101.0%5D%2C%20%5B17.2510682%2C%2080.1651978%2C%2090.0%5D%2C%20%5B13.0227204%2C%2077.595715%2C%2080.0%5D%2C%20%5B22.8359967%2C%2069.3405962%2C%2080.0%5D%2C%20%5B23.1485712%2C%2081.6048241%2C%2076.0%5D%2C%20%5B15.8782951%2C%2074.5084834%2C%2063.0%5D%2C%20%5B13.0621474%2C%2077.58006135480495%2C%2053.0%5D%2C%20%5B12.9340114%2C%2077.6222304%2C%2048.0%5D%2C%20%5B13.0215466%2C%2077.7640586%2C%2044.0%5D%2C%20%5B13.6285774%2C%2077.4642026%2C%2038.0%5D%2C%20%5B12.945048%2C%2077.263004%2C%2034.0%5D%2C%20%5B38.7801076%2C%20-121.5056438%2C%2027.0%5D%2C%20%5B12.957998%2C%2077.6037312%2C%2027.0%5D%2C%20%5B12.3872141%2C%2076.6669626%2C%2022.0%5D%2C%20%5B12.9970537%2C%2077.669804%2C%2022.0%5D%2C%20%5B12.5442176%2C%2077.4213833%2C%2019.0%5D%2C%20%5B13.007516%2C%2077.695935%2C%2018.0%5D%2C%20%5B12.9055682%2C%2077.5455438%2C%2017.0%5D%2C%20%5B13.0217151%2C%2077.7660547%2C%2014.0%5D%2C%20%5B13.0382184%2C%2077.5919%2C%2014.0%5D%2C%20%5B12.9176571%2C%2077.4837568%2C%209.0%5D%2C%20%5B12.9546741%2C%2077.5121724%2C%209.0%5D%2C%20%5B12.9900235%2C%2077.572073%2C%208.0%5D%2C%20%5B13.0011289%2C%2077.6325617%2C%206.0%5D%2C%20%5B13.1006982%2C%2077.5963454%2C%206.0%5D%2C%20%5B13.0784743%2C%2077.6068938%2C%203.0%5D%2C%20%5B12.9274413%2C%2077.5155224%2C%202.0%5D%2C%20%5B13.0329419%2C%2077.5273253%2C%201.0%5D%5D%3B%0A%20%20%20%20%20%20%20%20%20%20%20%20%20%20%20%20var%20cluster%20%3D%20L.markerClusterGroup%28%7B%7D%29%3B%0A%0A%20%20%20%20%20%20%20%20%20%20%20%20%20%20%20%20for%20%28var%20i%20%3D%200%3B%20i%20%3C%20data.length%3B%20i%2B%2B%29%20%7B%0A%20%20%20%20%20%20%20%20%20%20%20%20%20%20%20%20%20%20%20%20var%20row%20%3D%20data%5Bi%5D%3B%0A%20%20%20%20%20%20%20%20%20%20%20%20%20%20%20%20%20%20%20%20var%20marker%20%3D%20callback%28row%29%3B%0A%20%20%20%20%20%20%20%20%20%20%20%20%20%20%20%20%20%20%20%20marker.addTo%28cluster%29%3B%0A%20%20%20%20%20%20%20%20%20%20%20%20%20%20%20%20%7D%0A%0A%20%20%20%20%20%20%20%20%20%20%20%20%20%20%20%20cluster.addTo%28map_f9b16763a00e4a61b527769aa2763a29%29%3B%0A%20%20%20%20%20%20%20%20%20%20%20%20%20%20%20%20return%20cluster%3B%0A%20%20%20%20%20%20%20%20%20%20%20%20%7D%29%28%29%3B%0A%20%20%20%20%20%20%20%20%20%20%20%20%0A%3C/script%3E onload=\"this.contentDocument.open();this.contentDocument.write(    decodeURIComponent(this.getAttribute('data-html')));this.contentDocument.close();\" allowfullscreen webkitallowfullscreen mozallowfullscreen></iframe></div></div>"
            ],
            "text/plain": [
              "<folium.folium.Map at 0x7f5569a62410>"
            ]
          },
          "metadata": {},
          "execution_count": 30
        }
      ]
    },
    {
      "cell_type": "code",
      "metadata": {
        "colab": {
          "base_uri": "https://localhost:8080/",
          "height": 588
        },
        "id": "pIWbNfqEvPBH",
        "outputId": "266f13f1-416d-47a1-ead2-bb67b7d0b870"
      },
      "source": [
        "df.head()"
      ],
      "execution_count": 31,
      "outputs": [
        {
          "output_type": "execute_result",
          "data": {
            "text/html": [
              "<div>\n",
              "<style scoped>\n",
              "    .dataframe tbody tr th:only-of-type {\n",
              "        vertical-align: middle;\n",
              "    }\n",
              "\n",
              "    .dataframe tbody tr th {\n",
              "        vertical-align: top;\n",
              "    }\n",
              "\n",
              "    .dataframe thead th {\n",
              "        text-align: right;\n",
              "    }\n",
              "</style>\n",
              "<table border=\"1\" class=\"dataframe\">\n",
              "  <thead>\n",
              "    <tr style=\"text-align: right;\">\n",
              "      <th></th>\n",
              "      <th>url</th>\n",
              "      <th>address</th>\n",
              "      <th>name</th>\n",
              "      <th>online_order</th>\n",
              "      <th>book_table</th>\n",
              "      <th>rate</th>\n",
              "      <th>votes</th>\n",
              "      <th>phone</th>\n",
              "      <th>location</th>\n",
              "      <th>rest_type</th>\n",
              "      <th>dish_liked</th>\n",
              "      <th>cuisines</th>\n",
              "      <th>approx_cost(for two people)</th>\n",
              "      <th>reviews_list</th>\n",
              "      <th>menu_item</th>\n",
              "      <th>listed_in(type)</th>\n",
              "      <th>listed_in(city)</th>\n",
              "    </tr>\n",
              "  </thead>\n",
              "  <tbody>\n",
              "    <tr>\n",
              "      <th>0</th>\n",
              "      <td>https://www.zomato.com/bangalore/jalsa-banasha...</td>\n",
              "      <td>942, 21st Main Road, 2nd Stage, Banashankari, ...</td>\n",
              "      <td>Jalsa</td>\n",
              "      <td>Yes</td>\n",
              "      <td>Yes</td>\n",
              "      <td>4.1/5</td>\n",
              "      <td>775</td>\n",
              "      <td>080 42297555\\r\\n+91 9743772233</td>\n",
              "      <td>Banashankari</td>\n",
              "      <td>Casual Dining</td>\n",
              "      <td>Pasta, Lunch Buffet, Masala Papad, Paneer Laja...</td>\n",
              "      <td>North Indian, Mughlai, Chinese</td>\n",
              "      <td>800</td>\n",
              "      <td>[('Rated 4.0', 'RATED\\n  A beautiful place to ...</td>\n",
              "      <td>[]</td>\n",
              "      <td>Buffet</td>\n",
              "      <td>Banashankari</td>\n",
              "    </tr>\n",
              "    <tr>\n",
              "      <th>1</th>\n",
              "      <td>https://www.zomato.com/bangalore/spice-elephan...</td>\n",
              "      <td>2nd Floor, 80 Feet Road, Near Big Bazaar, 6th ...</td>\n",
              "      <td>Spice Elephant</td>\n",
              "      <td>Yes</td>\n",
              "      <td>No</td>\n",
              "      <td>4.1/5</td>\n",
              "      <td>787</td>\n",
              "      <td>080 41714161</td>\n",
              "      <td>Banashankari</td>\n",
              "      <td>Casual Dining</td>\n",
              "      <td>Momos, Lunch Buffet, Chocolate Nirvana, Thai G...</td>\n",
              "      <td>Chinese, North Indian, Thai</td>\n",
              "      <td>800</td>\n",
              "      <td>[('Rated 4.0', 'RATED\\n  Had been here for din...</td>\n",
              "      <td>[]</td>\n",
              "      <td>Buffet</td>\n",
              "      <td>Banashankari</td>\n",
              "    </tr>\n",
              "    <tr>\n",
              "      <th>2</th>\n",
              "      <td>https://www.zomato.com/SanchurroBangalore?cont...</td>\n",
              "      <td>1112, Next to KIMS Medical College, 17th Cross...</td>\n",
              "      <td>San Churro Cafe</td>\n",
              "      <td>Yes</td>\n",
              "      <td>No</td>\n",
              "      <td>3.8/5</td>\n",
              "      <td>918</td>\n",
              "      <td>+91 9663487993</td>\n",
              "      <td>Banashankari</td>\n",
              "      <td>Cafe, Casual Dining</td>\n",
              "      <td>Churros, Cannelloni, Minestrone Soup, Hot Choc...</td>\n",
              "      <td>Cafe, Mexican, Italian</td>\n",
              "      <td>800</td>\n",
              "      <td>[('Rated 3.0', \"RATED\\n  Ambience is not that ...</td>\n",
              "      <td>[]</td>\n",
              "      <td>Buffet</td>\n",
              "      <td>Banashankari</td>\n",
              "    </tr>\n",
              "    <tr>\n",
              "      <th>3</th>\n",
              "      <td>https://www.zomato.com/bangalore/addhuri-udupi...</td>\n",
              "      <td>1st Floor, Annakuteera, 3rd Stage, Banashankar...</td>\n",
              "      <td>Addhuri Udupi Bhojana</td>\n",
              "      <td>No</td>\n",
              "      <td>No</td>\n",
              "      <td>3.7/5</td>\n",
              "      <td>88</td>\n",
              "      <td>+91 9620009302</td>\n",
              "      <td>Banashankari</td>\n",
              "      <td>Quick Bites</td>\n",
              "      <td>Masala Dosa</td>\n",
              "      <td>South Indian, North Indian</td>\n",
              "      <td>300</td>\n",
              "      <td>[('Rated 4.0', \"RATED\\n  Great food and proper...</td>\n",
              "      <td>[]</td>\n",
              "      <td>Buffet</td>\n",
              "      <td>Banashankari</td>\n",
              "    </tr>\n",
              "    <tr>\n",
              "      <th>4</th>\n",
              "      <td>https://www.zomato.com/bangalore/grand-village...</td>\n",
              "      <td>10, 3rd Floor, Lakshmi Associates, Gandhi Baza...</td>\n",
              "      <td>Grand Village</td>\n",
              "      <td>No</td>\n",
              "      <td>No</td>\n",
              "      <td>3.8/5</td>\n",
              "      <td>166</td>\n",
              "      <td>+91 8026612447\\r\\n+91 9901210005</td>\n",
              "      <td>Basavanagudi</td>\n",
              "      <td>Casual Dining</td>\n",
              "      <td>Panipuri, Gol Gappe</td>\n",
              "      <td>North Indian, Rajasthani</td>\n",
              "      <td>600</td>\n",
              "      <td>[('Rated 4.0', 'RATED\\n  Very good restaurant ...</td>\n",
              "      <td>[]</td>\n",
              "      <td>Buffet</td>\n",
              "      <td>Banashankari</td>\n",
              "    </tr>\n",
              "  </tbody>\n",
              "</table>\n",
              "</div>"
            ],
            "text/plain": [
              "                                                 url  ... listed_in(city)\n",
              "0  https://www.zomato.com/bangalore/jalsa-banasha...  ...    Banashankari\n",
              "1  https://www.zomato.com/bangalore/spice-elephan...  ...    Banashankari\n",
              "2  https://www.zomato.com/SanchurroBangalore?cont...  ...    Banashankari\n",
              "3  https://www.zomato.com/bangalore/addhuri-udupi...  ...    Banashankari\n",
              "4  https://www.zomato.com/bangalore/grand-village...  ...    Banashankari\n",
              "\n",
              "[5 rows x 17 columns]"
            ]
          },
          "metadata": {},
          "execution_count": 31
        }
      ]
    },
    {
      "cell_type": "code",
      "metadata": {
        "colab": {
          "base_uri": "https://localhost:8080/"
        },
        "id": "YXKz8beXxKYT",
        "outputId": "e3e1ca73-c63e-4ba6-cc06-de37d5975844"
      },
      "source": [
        "df['approx_cost(for two people)'].unique()"
      ],
      "execution_count": 32,
      "outputs": [
        {
          "output_type": "execute_result",
          "data": {
            "text/plain": [
              "array(['800', '300', '600', '700', '550', '500', '450', '650', '400',\n",
              "       '900', '200', '750', '150', '850', '100', '1,200', '350', '250',\n",
              "       '950', '1,000', '1,500', '1,300', '199', '80', '1,100', '160',\n",
              "       '1,600', '230', '130', '50', '190', '1,700', nan, '1,400', '180',\n",
              "       '1,350', '2,200', '2,000', '1,800', '1,900', '330', '2,500',\n",
              "       '2,100', '3,000', '2,800', '3,400', '40', '1,250', '3,500',\n",
              "       '4,000', '2,400', '2,600', '120', '1,450', '469', '70', '3,200',\n",
              "       '60', '560', '240', '360', '6,000', '1,050', '2,300', '4,100',\n",
              "       '5,000', '3,700', '1,650', '2,700', '4,500', '140'], dtype=object)"
            ]
          },
          "metadata": {},
          "execution_count": 32
        }
      ]
    },
    {
      "cell_type": "code",
      "metadata": {
        "id": "o8VF2i2JxrTJ"
      },
      "source": [
        "df.dropna(axis=0,subset=['approx_cost(for two people)'],inplace=True)"
      ],
      "execution_count": 33,
      "outputs": []
    },
    {
      "cell_type": "code",
      "metadata": {
        "id": "a1H-HYJyx9_E"
      },
      "source": [
        "def comma(x):\n",
        "  return x.replace(',','')"
      ],
      "execution_count": 34,
      "outputs": []
    },
    {
      "cell_type": "code",
      "metadata": {
        "id": "9kbZsQDHz4KO"
      },
      "source": [
        "df['pricing']=df['approx_cost(for two people)'].apply(comma)"
      ],
      "execution_count": 35,
      "outputs": []
    },
    {
      "cell_type": "code",
      "metadata": {
        "colab": {
          "base_uri": "https://localhost:8080/"
        },
        "id": "Pz3-7Wl90Q-q",
        "outputId": "ce6c0a77-3277-48fd-ed3e-2017cfa52ba5"
      },
      "source": [
        "df['pricing'].unique()"
      ],
      "execution_count": 36,
      "outputs": [
        {
          "output_type": "execute_result",
          "data": {
            "text/plain": [
              "array(['800', '300', '600', '700', '550', '500', '450', '650', '400',\n",
              "       '900', '200', '750', '150', '850', '100', '1200', '350', '250',\n",
              "       '950', '1000', '1500', '1300', '199', '80', '1100', '160', '1600',\n",
              "       '230', '130', '50', '190', '1700', '1400', '180', '1350', '2200',\n",
              "       '2000', '1800', '1900', '330', '2500', '2100', '3000', '2800',\n",
              "       '3400', '40', '1250', '3500', '4000', '2400', '2600', '120',\n",
              "       '1450', '469', '70', '3200', '60', '560', '240', '360', '6000',\n",
              "       '1050', '2300', '4100', '5000', '3700', '1650', '2700', '4500',\n",
              "       '140'], dtype=object)"
            ]
          },
          "metadata": {},
          "execution_count": 36
        }
      ]
    },
    {
      "cell_type": "code",
      "metadata": {
        "id": "QISKTBs-1O6E"
      },
      "source": [
        "df['pricing']=pd.to_numeric(df['pricing'])"
      ],
      "execution_count": 37,
      "outputs": []
    },
    {
      "cell_type": "code",
      "metadata": {
        "id": "UspzUStV1m5P"
      },
      "source": [
        "avg_pricing=df.groupby('location')['pricing'].mean().sort_values(ascending=False).values"
      ],
      "execution_count": 38,
      "outputs": []
    },
    {
      "cell_type": "code",
      "metadata": {
        "id": "k6Eg19qH3CgI"
      },
      "source": [
        "loca =df.groupby('location')['pricing'].mean().sort_values(ascending=False).index"
      ],
      "execution_count": 39,
      "outputs": []
    },
    {
      "cell_type": "code",
      "metadata": {
        "id": "Ugb-tVHD3QhF"
      },
      "source": [
        "#CREATING NEW DATAFRAME OF PRICING AND LOCATIONS WHICH WILL BE LATER USED TO DISPLAY MAP OF PRICING (EXPENSIVE TO CHEAP)\n",
        "price=pd.DataFrame()"
      ],
      "execution_count": 40,
      "outputs": []
    },
    {
      "cell_type": "code",
      "metadata": {
        "id": "EsadZOEF4FIJ"
      },
      "source": [
        "#FETCHING LONGITUDES AND LATITUDES ACCORDING TO INDEX LOCATIONS\n",
        "lat=[]\n",
        "lon=[]\n",
        "for loc in loca:\n",
        "   loc = geolocator.geocode(loc)\n",
        "   if loc is None:\n",
        "     lat.append(np.nan)\n",
        "     lon.append(np.nan)\n",
        "   else:\n",
        "     lat.append(loc.latitude)\n",
        "     lon.append(loc.longitude)"
      ],
      "execution_count": 41,
      "outputs": []
    },
    {
      "cell_type": "code",
      "metadata": {
        "id": "ujrgLIfB5b50"
      },
      "source": [
        "price['location']=loca\n",
        "price['lat']=lat\n",
        "price['lon']=lon\n",
        "price['avg_pricing']=avg_pricing"
      ],
      "execution_count": 42,
      "outputs": []
    },
    {
      "cell_type": "code",
      "metadata": {
        "colab": {
          "base_uri": "https://localhost:8080/",
          "height": 202
        },
        "id": "lPwzl35G6TBh",
        "outputId": "24af6673-6c6a-4f9b-d959-b6dd1153f4f7"
      },
      "source": [
        "price.head()"
      ],
      "execution_count": 43,
      "outputs": [
        {
          "output_type": "execute_result",
          "data": {
            "text/html": [
              "<div>\n",
              "<style scoped>\n",
              "    .dataframe tbody tr th:only-of-type {\n",
              "        vertical-align: middle;\n",
              "    }\n",
              "\n",
              "    .dataframe tbody tr th {\n",
              "        vertical-align: top;\n",
              "    }\n",
              "\n",
              "    .dataframe thead th {\n",
              "        text-align: right;\n",
              "    }\n",
              "</style>\n",
              "<table border=\"1\" class=\"dataframe\">\n",
              "  <thead>\n",
              "    <tr style=\"text-align: right;\">\n",
              "      <th></th>\n",
              "      <th>location</th>\n",
              "      <th>lat</th>\n",
              "      <th>lon</th>\n",
              "      <th>avg_pricing</th>\n",
              "    </tr>\n",
              "  </thead>\n",
              "  <tbody>\n",
              "    <tr>\n",
              "      <th>0</th>\n",
              "      <td>Sankey Road</td>\n",
              "      <td>38.780108</td>\n",
              "      <td>-121.505644</td>\n",
              "      <td>2505.555556</td>\n",
              "    </tr>\n",
              "    <tr>\n",
              "      <th>1</th>\n",
              "      <td>Race Course Road</td>\n",
              "      <td>1.308934</td>\n",
              "      <td>103.851318</td>\n",
              "      <td>1309.352518</td>\n",
              "    </tr>\n",
              "    <tr>\n",
              "      <th>2</th>\n",
              "      <td>Lavelle Road</td>\n",
              "      <td>40.765284</td>\n",
              "      <td>-76.373824</td>\n",
              "      <td>1307.934990</td>\n",
              "    </tr>\n",
              "    <tr>\n",
              "      <th>3</th>\n",
              "      <td>MG Road</td>\n",
              "      <td>17.145209</td>\n",
              "      <td>79.621878</td>\n",
              "      <td>1155.704698</td>\n",
              "    </tr>\n",
              "    <tr>\n",
              "      <th>4</th>\n",
              "      <td>Infantry Road</td>\n",
              "      <td>-34.004865</td>\n",
              "      <td>22.441412</td>\n",
              "      <td>1062.251656</td>\n",
              "    </tr>\n",
              "  </tbody>\n",
              "</table>\n",
              "</div>"
            ],
            "text/plain": [
              "           location        lat         lon  avg_pricing\n",
              "0       Sankey Road  38.780108 -121.505644  2505.555556\n",
              "1  Race Course Road   1.308934  103.851318  1309.352518\n",
              "2      Lavelle Road  40.765284  -76.373824  1307.934990\n",
              "3           MG Road  17.145209   79.621878  1155.704698\n",
              "4     Infantry Road -34.004865   22.441412  1062.251656"
            ]
          },
          "metadata": {},
          "execution_count": 43
        }
      ]
    },
    {
      "cell_type": "code",
      "metadata": {
        "colab": {
          "base_uri": "https://localhost:8080/"
        },
        "id": "7bW1P0Fh6Yp2",
        "outputId": "38754227-d8d1-48e5-ac50-6819061c0dc8"
      },
      "source": [
        "price.isna().sum()"
      ],
      "execution_count": 44,
      "outputs": [
        {
          "output_type": "execute_result",
          "data": {
            "text/plain": [
              "location       0\n",
              "lat            1\n",
              "lon            1\n",
              "avg_pricing    0\n",
              "dtype: int64"
            ]
          },
          "metadata": {},
          "execution_count": 44
        }
      ]
    },
    {
      "cell_type": "code",
      "metadata": {
        "id": "Q9Nm8Pzq6gvi"
      },
      "source": [
        "price.dropna(inplace=True)"
      ],
      "execution_count": 45,
      "outputs": []
    },
    {
      "cell_type": "code",
      "metadata": {
        "colab": {
          "base_uri": "https://localhost:8080/"
        },
        "id": "D7JTOhnu6uGc",
        "outputId": "3776889a-7892-466e-a861-d7a924029edd"
      },
      "source": [
        "HeatMap(price[['lat','lon','avg_pricing']].to_numpy()).add_to(baseMap)"
      ],
      "execution_count": 46,
      "outputs": [
        {
          "output_type": "execute_result",
          "data": {
            "text/plain": [
              "<folium.plugins.heat_map.HeatMap at 0x7f5553b35690>"
            ]
          },
          "metadata": {},
          "execution_count": 46
        }
      ]
    },
    {
      "cell_type": "code",
      "metadata": {
        "colab": {
          "base_uri": "https://localhost:8080/",
          "height": 854
        },
        "id": "J1b0UpgM7mPW",
        "outputId": "ad5b938a-84d0-4799-df50-63669ca9561f"
      },
      "source": [
        "baseMap"
      ],
      "execution_count": 47,
      "outputs": [
        {
          "output_type": "execute_result",
          "data": {
            "text/html": [
              "<div style=\"width:100%;\"><div style=\"position:relative;width:100%;height:0;padding-bottom:60%;\"><span style=\"color:#565656\">Make this Notebook Trusted to load map: File -> Trust Notebook</span><iframe src=\"about:blank\" style=\"position:absolute;width:100%;height:100%;left:0;top:0;border:none !important;\" data-html=%3C%21DOCTYPE%20html%3E%0A%3Chead%3E%20%20%20%20%0A%20%20%20%20%3Cmeta%20http-equiv%3D%22content-type%22%20content%3D%22text/html%3B%20charset%3DUTF-8%22%20/%3E%0A%20%20%20%20%3Cscript%3EL_PREFER_CANVAS%3Dfalse%3B%20L_NO_TOUCH%3Dfalse%3B%20L_DISABLE_3D%3Dfalse%3B%3C/script%3E%0A%20%20%20%20%3Cscript%20src%3D%22https%3A//cdn.jsdelivr.net/npm/leaflet%401.4.0/dist/leaflet.js%22%3E%3C/script%3E%0A%20%20%20%20%3Cscript%20src%3D%22https%3A//code.jquery.com/jquery-1.12.4.min.js%22%3E%3C/script%3E%0A%20%20%20%20%3Cscript%20src%3D%22https%3A//maxcdn.bootstrapcdn.com/bootstrap/3.2.0/js/bootstrap.min.js%22%3E%3C/script%3E%0A%20%20%20%20%3Cscript%20src%3D%22https%3A//cdnjs.cloudflare.com/ajax/libs/Leaflet.awesome-markers/2.0.2/leaflet.awesome-markers.js%22%3E%3C/script%3E%0A%20%20%20%20%3Clink%20rel%3D%22stylesheet%22%20href%3D%22https%3A//cdn.jsdelivr.net/npm/leaflet%401.4.0/dist/leaflet.css%22/%3E%0A%20%20%20%20%3Clink%20rel%3D%22stylesheet%22%20href%3D%22https%3A//maxcdn.bootstrapcdn.com/bootstrap/3.2.0/css/bootstrap.min.css%22/%3E%0A%20%20%20%20%3Clink%20rel%3D%22stylesheet%22%20href%3D%22https%3A//maxcdn.bootstrapcdn.com/bootstrap/3.2.0/css/bootstrap-theme.min.css%22/%3E%0A%20%20%20%20%3Clink%20rel%3D%22stylesheet%22%20href%3D%22https%3A//maxcdn.bootstrapcdn.com/font-awesome/4.6.3/css/font-awesome.min.css%22/%3E%0A%20%20%20%20%3Clink%20rel%3D%22stylesheet%22%20href%3D%22https%3A//cdnjs.cloudflare.com/ajax/libs/Leaflet.awesome-markers/2.0.2/leaflet.awesome-markers.css%22/%3E%0A%20%20%20%20%3Clink%20rel%3D%22stylesheet%22%20href%3D%22https%3A//rawcdn.githack.com/python-visualization/folium/master/folium/templates/leaflet.awesome.rotate.css%22/%3E%0A%20%20%20%20%3Cstyle%3Ehtml%2C%20body%20%7Bwidth%3A%20100%25%3Bheight%3A%20100%25%3Bmargin%3A%200%3Bpadding%3A%200%3B%7D%3C/style%3E%0A%20%20%20%20%3Cstyle%3E%23map%20%7Bposition%3Aabsolute%3Btop%3A0%3Bbottom%3A0%3Bright%3A0%3Bleft%3A0%3B%7D%3C/style%3E%0A%20%20%20%20%0A%20%20%20%20%3Cmeta%20name%3D%22viewport%22%20content%3D%22width%3Ddevice-width%2C%0A%20%20%20%20%20%20%20%20initial-scale%3D1.0%2C%20maximum-scale%3D1.0%2C%20user-scalable%3Dno%22%20/%3E%0A%20%20%20%20%3Cstyle%3E%23map_f9b16763a00e4a61b527769aa2763a29%20%7B%0A%20%20%20%20%20%20%20%20position%3A%20relative%3B%0A%20%20%20%20%20%20%20%20width%3A%20100.0%25%3B%0A%20%20%20%20%20%20%20%20height%3A%20100.0%25%3B%0A%20%20%20%20%20%20%20%20left%3A%200.0%25%3B%0A%20%20%20%20%20%20%20%20top%3A%200.0%25%3B%0A%20%20%20%20%20%20%20%20%7D%0A%20%20%20%20%3C/style%3E%0A%20%20%20%20%3Cscript%20src%3D%22https%3A//leaflet.github.io/Leaflet.heat/dist/leaflet-heat.js%22%3E%3C/script%3E%0A%20%20%20%20%3Cscript%20src%3D%22https%3A//cdnjs.cloudflare.com/ajax/libs/leaflet.markercluster/1.1.0/leaflet.markercluster.js%22%3E%3C/script%3E%0A%20%20%20%20%3Clink%20rel%3D%22stylesheet%22%20href%3D%22https%3A//cdnjs.cloudflare.com/ajax/libs/leaflet.markercluster/1.1.0/MarkerCluster.css%22/%3E%0A%20%20%20%20%3Clink%20rel%3D%22stylesheet%22%20href%3D%22https%3A//cdnjs.cloudflare.com/ajax/libs/leaflet.markercluster/1.1.0/MarkerCluster.Default.css%22/%3E%0A%3C/head%3E%0A%3Cbody%3E%20%20%20%20%0A%20%20%20%20%0A%20%20%20%20%3Cdiv%20class%3D%22folium-map%22%20id%3D%22map_f9b16763a00e4a61b527769aa2763a29%22%20%3E%3C/div%3E%0A%3C/body%3E%0A%3Cscript%3E%20%20%20%20%0A%20%20%20%20%0A%20%20%20%20%0A%20%20%20%20%20%20%20%20var%20bounds%20%3D%20null%3B%0A%20%20%20%20%0A%0A%20%20%20%20var%20map_f9b16763a00e4a61b527769aa2763a29%20%3D%20L.map%28%0A%20%20%20%20%20%20%20%20%27map_f9b16763a00e4a61b527769aa2763a29%27%2C%20%7B%0A%20%20%20%20%20%20%20%20center%3A%20%5B12.97%2C%2077.59%5D%2C%0A%20%20%20%20%20%20%20%20zoom%3A%2012%2C%0A%20%20%20%20%20%20%20%20maxBounds%3A%20bounds%2C%0A%20%20%20%20%20%20%20%20layers%3A%20%5B%5D%2C%0A%20%20%20%20%20%20%20%20worldCopyJump%3A%20false%2C%0A%20%20%20%20%20%20%20%20crs%3A%20L.CRS.EPSG3857%2C%0A%20%20%20%20%20%20%20%20zoomControl%3A%20true%2C%0A%20%20%20%20%20%20%20%20%7D%29%3B%0A%0A%0A%20%20%20%20%0A%20%20%20%20var%20tile_layer_80cd99ec86934ccab48c43082f3641f0%20%3D%20L.tileLayer%28%0A%20%20%20%20%20%20%20%20%27https%3A//%7Bs%7D.tile.openstreetmap.org/%7Bz%7D/%7Bx%7D/%7By%7D.png%27%2C%0A%20%20%20%20%20%20%20%20%7B%0A%20%20%20%20%20%20%20%20%22attribution%22%3A%20null%2C%0A%20%20%20%20%20%20%20%20%22detectRetina%22%3A%20false%2C%0A%20%20%20%20%20%20%20%20%22maxNativeZoom%22%3A%2018%2C%0A%20%20%20%20%20%20%20%20%22maxZoom%22%3A%2018%2C%0A%20%20%20%20%20%20%20%20%22minZoom%22%3A%200%2C%0A%20%20%20%20%20%20%20%20%22noWrap%22%3A%20false%2C%0A%20%20%20%20%20%20%20%20%22opacity%22%3A%201%2C%0A%20%20%20%20%20%20%20%20%22subdomains%22%3A%20%22abc%22%2C%0A%20%20%20%20%20%20%20%20%22tms%22%3A%20false%0A%7D%29.addTo%28map_f9b16763a00e4a61b527769aa2763a29%29%3B%0A%20%20%20%20%0A%20%20%20%20%20%20%20%20%20%20%20%20var%20heat_map_8b39a6be258f4f61bb0bbd2e1aecd539%20%3D%20L.heatLayer%28%0A%20%20%20%20%20%20%20%20%20%20%20%20%20%20%20%20%5B%5B45.95485055%2C%20-112.49659530324134%2C%205124.0%5D%2C%20%5B18.1475%2C%2041.538889%2C%202523.0%5D%2C%20%5B12.9343774%2C%2077.628415%2C%202504.0%5D%2C%20%5B12.2655944%2C%2076.6465404%2C%202235.0%5D%2C%20%5B44.3730577%2C%20-71.6118577%2C%202144.0%5D%2C%20%5B12.9732913%2C%2077.6404672%2C%202083.0%5D%2C%20%5B27.64392675%2C%2083.05280519687284%2C%201926.0%5D%2C%20%5B12.9552572%2C%2077.6984163%2C%201846.0%5D%2C%20%5B12.9059707%2C%2077.6017374%2C%201630.0%5D%2C%20%5B12.93577245%2C%2077.66676103753434%2C%201286.0%5D%2C%20%5B32.2934563%2C%20-64.78236307254568%2C%201258.0%5D%2C%20%5B12.933232%2C%2077.6254669%2C%201238.0%5D%2C%20%5B12.9750605%2C%2077.6080323%2C%201218.0%5D%2C%20%5B12.9302645%2C%2077.6332585%2C%201181.0%5D%2C%20%5B12.9400321%2C%2077.6203272%2C%201156.0%5D%2C%20%5B12.9244803%2C%2077.6502737%2C%201065.0%5D%2C%20%5B12.9778793%2C%2077.6246697%2C%201023.0%5D%2C%20%5B12.93433385%2C%2077.63040639553275%2C%201017.0%5D%2C%20%5B17.1452094%2C%2079.6218777%2C%20918.0%5D%2C%20%5B15.8876779%2C%2075.7046777%2C%20906.0%5D%2C%20%5B13.0221416%2C%2077.6403368%2C%20853.0%5D%2C%20%5B40.5758316%2C%20-74.1273021%2C%20812.0%5D%2C%20%5B12.996845%2C%2077.6130165%2C%20727.0%5D%2C%20%5B13.0027353%2C%2077.5703253%2C%20725.0%5D%2C%20%5B12.9417261%2C%2077.5755021%2C%20684.0%5D%2C%20%5B-28.5477541%2C%2029.788093%2C%20675.0%5D%2C%20%5B13.0141618%2C%2077.6518539%2C%20664.0%5D%2C%20%5B33.5935063%2C%20-79.0345627%2C%20658.0%5D%2C%20%5B13.0170347%2C%2077.5726006%2C%20649.0%5D%2C%20%5B13.0093455%2C%2077.6377094%2C%20648.0%5D%2C%20%5B12.9882338%2C%2077.554883%2C%20591.0%5D%2C%20%5B40.7133336%2C%20-74.0092085%2C%20569.0%5D%2C%20%5B40.7652844%2C%20-76.373824%2C%20529.0%5D%2C%20%5B17.5223139%2C%2078.5804307%2C%20511.0%5D%2C%20%5B18.5322493%2C%2073.8499601124847%2C%20499.0%5D%2C%20%5B12.9624669%2C%2077.6381958%2C%20496.0%5D%2C%20%5B31.89376%2C%20-88.066644%2C%20491.0%5D%2C%20%5B34.8457921%2C%20-82.338901%2C%20446.0%5D%2C%20%5B12.945245%2C%2077.6269144%2C%20439.0%5D%2C%20%5B51.519619%2C%20-0.0744749%2C%20370.0%5D%2C%20%5B51.5230784%2C%20-0.7374421%2C%20352.0%5D%2C%20%5B12.9417812%2C%2077.6160146%2C%20320.0%5D%2C%20%5B12.988721250000001%2C%2077.58516877601824%2C%20295.0%5D%2C%20%5B12.9678074%2C%2077.6568367%2C%20272.0%5D%2C%20%5B12.9489339%2C%2077.5968273%2C%20246.0%5D%2C%20%5B12.9089453%2C%2077.6239038%2C%20238.0%5D%2C%20%5B12.9271867%2C%2077.6266252%2C%20216.0%5D%2C%20%5B12.9081487%2C%2077.5553179%2C%20195.0%5D%2C%20%5B12.973936%2C%2077.6509982%2C%20194.0%5D%2C%20%5B12.9922983%2C%2077.5384739%2C%20191.0%5D%2C%20%5B13.2227%2C%2078.5541977%2C%20187.0%5D%2C%20%5B12.9931876%2C%2077.5753419%2C%20165.0%5D%2C%20%5B13.0258087%2C%2077.6305067%2C%20161.0%5D%2C%20%5B1.2847055%2C%20103.84320655721689%2C%20155.0%5D%2C%20%5B13.0358698%2C%2077.6323597%2C%20153.0%5D%2C%20%5B-34.0048654%2C%2022.4414125%2C%20151.0%5D%2C%20%5B1.3089343%2C%20103.8513177%2C%20139.0%5D%2C%20%5B39.76880625%2C%20-86.15345077251979%2C%20126.0%5D%2C%20%5B13.02383%2C%2077.5529215%2C%20119.0%5D%2C%20%5B12.9414662%2C%2077.7470942%2C%20117.0%5D%2C%20%5B12.9859966%2C%2077.7327435%2C%20113.0%5D%2C%20%5B13.0646907%2C%2077.49626895712257%2C%20107.0%5D%2C%20%5B12.7405867%2C%2077.8200481%2C%20102.0%5D%2C%20%5B12.9243509%2C%2077.6255562%2C%20102.0%5D%2C%20%5B12.9846713%2C%2077.6790908%2C%20101.0%5D%2C%20%5B17.2510682%2C%2080.1651978%2C%2090.0%5D%2C%20%5B13.0227204%2C%2077.595715%2C%2080.0%5D%2C%20%5B22.8359967%2C%2069.3405962%2C%2080.0%5D%2C%20%5B23.1485712%2C%2081.6048241%2C%2076.0%5D%2C%20%5B15.8782951%2C%2074.5084834%2C%2063.0%5D%2C%20%5B13.0621474%2C%2077.58006135480495%2C%2053.0%5D%2C%20%5B12.9340114%2C%2077.6222304%2C%2048.0%5D%2C%20%5B13.0215466%2C%2077.7640586%2C%2044.0%5D%2C%20%5B13.6285774%2C%2077.4642026%2C%2038.0%5D%2C%20%5B12.945048%2C%2077.263004%2C%2034.0%5D%2C%20%5B38.7801076%2C%20-121.5056438%2C%2027.0%5D%2C%20%5B12.957998%2C%2077.6037312%2C%2027.0%5D%2C%20%5B12.3872141%2C%2076.6669626%2C%2022.0%5D%2C%20%5B12.9970537%2C%2077.669804%2C%2022.0%5D%2C%20%5B12.5442176%2C%2077.4213833%2C%2019.0%5D%2C%20%5B13.007516%2C%2077.695935%2C%2018.0%5D%2C%20%5B12.9055682%2C%2077.5455438%2C%2017.0%5D%2C%20%5B13.0217151%2C%2077.7660547%2C%2014.0%5D%2C%20%5B13.0382184%2C%2077.5919%2C%2014.0%5D%2C%20%5B12.9176571%2C%2077.4837568%2C%209.0%5D%2C%20%5B12.9546741%2C%2077.5121724%2C%209.0%5D%2C%20%5B12.9900235%2C%2077.572073%2C%208.0%5D%2C%20%5B13.0011289%2C%2077.6325617%2C%206.0%5D%2C%20%5B13.1006982%2C%2077.5963454%2C%206.0%5D%2C%20%5B13.0784743%2C%2077.6068938%2C%203.0%5D%2C%20%5B12.9274413%2C%2077.5155224%2C%202.0%5D%2C%20%5B13.0329419%2C%2077.5273253%2C%201.0%5D%5D%2C%0A%20%20%20%20%20%20%20%20%20%20%20%20%20%20%20%20%7B%0A%20%20%20%20%20%20%20%20%20%20%20%20%20%20%20%20%20%20%20%20minOpacity%3A%200.5%2C%0A%20%20%20%20%20%20%20%20%20%20%20%20%20%20%20%20%20%20%20%20maxZoom%3A%2020%2C%0A%20%20%20%20%20%20%20%20%20%20%20%20%20%20%20%20%20%20%20%20max%3A%201.0%2C%0A%20%20%20%20%20%20%20%20%20%20%20%20%20%20%20%20%20%20%20%20radius%3A%2015%2C%0A%20%20%20%20%20%20%20%20%20%20%20%20%20%20%20%20%20%20%20%20blur%3A%2015%2C%0A%20%20%20%20%20%20%20%20%20%20%20%20%20%20%20%20%20%20%20%20gradient%3A%20null%0A%20%20%20%20%20%20%20%20%20%20%20%20%20%20%20%20%20%20%20%20%7D%29%0A%20%20%20%20%20%20%20%20%20%20%20%20%20%20%20%20.addTo%28map_f9b16763a00e4a61b527769aa2763a29%29%3B%0A%20%20%20%20%20%20%20%20%0A%20%20%20%20%0A%0A%20%20%20%20%20%20%20%20%20%20%20%20var%20fast_marker_cluster_ba2bdc3767e74dfca3b188b0458fa8d2%20%3D%20%28function%28%29%7B%0A%20%20%20%20%20%20%20%20%20%20%20%20%20%20%20%20%0A%20%20%20%20%20%20%20%20%20%20%20%20%20%20%20%20var%20callback%20%3D%20function%20%28row%29%20%7B%0A%20%20%20%20%20%20%20%20%20%20%20%20%20%20%20%20%20%20%20%20var%20icon%20%3D%20L.AwesomeMarkers.icon%28%29%3B%0A%20%20%20%20%20%20%20%20%20%20%20%20%20%20%20%20%20%20%20%20var%20marker%20%3D%20L.marker%28new%20L.LatLng%28row%5B0%5D%2C%20row%5B1%5D%29%29%3B%0A%20%20%20%20%20%20%20%20%20%20%20%20%20%20%20%20%20%20%20%20marker.setIcon%28icon%29%3B%0A%20%20%20%20%20%20%20%20%20%20%20%20%20%20%20%20%20%20%20%20return%20marker%3B%0A%20%20%20%20%20%20%20%20%20%20%20%20%20%20%20%20%7D%3B%0A%0A%20%20%20%20%20%20%20%20%20%20%20%20%20%20%20%20var%20data%20%3D%20%5B%5B45.95485055%2C%20-112.49659530324134%2C%205124.0%5D%2C%20%5B18.1475%2C%2041.538889%2C%202523.0%5D%2C%20%5B12.9343774%2C%2077.628415%2C%202504.0%5D%2C%20%5B12.2655944%2C%2076.6465404%2C%202235.0%5D%2C%20%5B44.3730577%2C%20-71.6118577%2C%202144.0%5D%2C%20%5B12.9732913%2C%2077.6404672%2C%202083.0%5D%2C%20%5B27.64392675%2C%2083.05280519687284%2C%201926.0%5D%2C%20%5B12.9552572%2C%2077.6984163%2C%201846.0%5D%2C%20%5B12.9059707%2C%2077.6017374%2C%201630.0%5D%2C%20%5B12.93577245%2C%2077.66676103753434%2C%201286.0%5D%2C%20%5B32.2934563%2C%20-64.78236307254568%2C%201258.0%5D%2C%20%5B12.933232%2C%2077.6254669%2C%201238.0%5D%2C%20%5B12.9750605%2C%2077.6080323%2C%201218.0%5D%2C%20%5B12.9302645%2C%2077.6332585%2C%201181.0%5D%2C%20%5B12.9400321%2C%2077.6203272%2C%201156.0%5D%2C%20%5B12.9244803%2C%2077.6502737%2C%201065.0%5D%2C%20%5B12.9778793%2C%2077.6246697%2C%201023.0%5D%2C%20%5B12.93433385%2C%2077.63040639553275%2C%201017.0%5D%2C%20%5B17.1452094%2C%2079.6218777%2C%20918.0%5D%2C%20%5B15.8876779%2C%2075.7046777%2C%20906.0%5D%2C%20%5B13.0221416%2C%2077.6403368%2C%20853.0%5D%2C%20%5B40.5758316%2C%20-74.1273021%2C%20812.0%5D%2C%20%5B12.996845%2C%2077.6130165%2C%20727.0%5D%2C%20%5B13.0027353%2C%2077.5703253%2C%20725.0%5D%2C%20%5B12.9417261%2C%2077.5755021%2C%20684.0%5D%2C%20%5B-28.5477541%2C%2029.788093%2C%20675.0%5D%2C%20%5B13.0141618%2C%2077.6518539%2C%20664.0%5D%2C%20%5B33.5935063%2C%20-79.0345627%2C%20658.0%5D%2C%20%5B13.0170347%2C%2077.5726006%2C%20649.0%5D%2C%20%5B13.0093455%2C%2077.6377094%2C%20648.0%5D%2C%20%5B12.9882338%2C%2077.554883%2C%20591.0%5D%2C%20%5B40.7133336%2C%20-74.0092085%2C%20569.0%5D%2C%20%5B40.7652844%2C%20-76.373824%2C%20529.0%5D%2C%20%5B17.5223139%2C%2078.5804307%2C%20511.0%5D%2C%20%5B18.5322493%2C%2073.8499601124847%2C%20499.0%5D%2C%20%5B12.9624669%2C%2077.6381958%2C%20496.0%5D%2C%20%5B31.89376%2C%20-88.066644%2C%20491.0%5D%2C%20%5B34.8457921%2C%20-82.338901%2C%20446.0%5D%2C%20%5B12.945245%2C%2077.6269144%2C%20439.0%5D%2C%20%5B51.519619%2C%20-0.0744749%2C%20370.0%5D%2C%20%5B51.5230784%2C%20-0.7374421%2C%20352.0%5D%2C%20%5B12.9417812%2C%2077.6160146%2C%20320.0%5D%2C%20%5B12.988721250000001%2C%2077.58516877601824%2C%20295.0%5D%2C%20%5B12.9678074%2C%2077.6568367%2C%20272.0%5D%2C%20%5B12.9489339%2C%2077.5968273%2C%20246.0%5D%2C%20%5B12.9089453%2C%2077.6239038%2C%20238.0%5D%2C%20%5B12.9271867%2C%2077.6266252%2C%20216.0%5D%2C%20%5B12.9081487%2C%2077.5553179%2C%20195.0%5D%2C%20%5B12.973936%2C%2077.6509982%2C%20194.0%5D%2C%20%5B12.9922983%2C%2077.5384739%2C%20191.0%5D%2C%20%5B13.2227%2C%2078.5541977%2C%20187.0%5D%2C%20%5B12.9931876%2C%2077.5753419%2C%20165.0%5D%2C%20%5B13.0258087%2C%2077.6305067%2C%20161.0%5D%2C%20%5B1.2847055%2C%20103.84320655721689%2C%20155.0%5D%2C%20%5B13.0358698%2C%2077.6323597%2C%20153.0%5D%2C%20%5B-34.0048654%2C%2022.4414125%2C%20151.0%5D%2C%20%5B1.3089343%2C%20103.8513177%2C%20139.0%5D%2C%20%5B39.76880625%2C%20-86.15345077251979%2C%20126.0%5D%2C%20%5B13.02383%2C%2077.5529215%2C%20119.0%5D%2C%20%5B12.9414662%2C%2077.7470942%2C%20117.0%5D%2C%20%5B12.9859966%2C%2077.7327435%2C%20113.0%5D%2C%20%5B13.0646907%2C%2077.49626895712257%2C%20107.0%5D%2C%20%5B12.7405867%2C%2077.8200481%2C%20102.0%5D%2C%20%5B12.9243509%2C%2077.6255562%2C%20102.0%5D%2C%20%5B12.9846713%2C%2077.6790908%2C%20101.0%5D%2C%20%5B17.2510682%2C%2080.1651978%2C%2090.0%5D%2C%20%5B13.0227204%2C%2077.595715%2C%2080.0%5D%2C%20%5B22.8359967%2C%2069.3405962%2C%2080.0%5D%2C%20%5B23.1485712%2C%2081.6048241%2C%2076.0%5D%2C%20%5B15.8782951%2C%2074.5084834%2C%2063.0%5D%2C%20%5B13.0621474%2C%2077.58006135480495%2C%2053.0%5D%2C%20%5B12.9340114%2C%2077.6222304%2C%2048.0%5D%2C%20%5B13.0215466%2C%2077.7640586%2C%2044.0%5D%2C%20%5B13.6285774%2C%2077.4642026%2C%2038.0%5D%2C%20%5B12.945048%2C%2077.263004%2C%2034.0%5D%2C%20%5B38.7801076%2C%20-121.5056438%2C%2027.0%5D%2C%20%5B12.957998%2C%2077.6037312%2C%2027.0%5D%2C%20%5B12.3872141%2C%2076.6669626%2C%2022.0%5D%2C%20%5B12.9970537%2C%2077.669804%2C%2022.0%5D%2C%20%5B12.5442176%2C%2077.4213833%2C%2019.0%5D%2C%20%5B13.007516%2C%2077.695935%2C%2018.0%5D%2C%20%5B12.9055682%2C%2077.5455438%2C%2017.0%5D%2C%20%5B13.0217151%2C%2077.7660547%2C%2014.0%5D%2C%20%5B13.0382184%2C%2077.5919%2C%2014.0%5D%2C%20%5B12.9176571%2C%2077.4837568%2C%209.0%5D%2C%20%5B12.9546741%2C%2077.5121724%2C%209.0%5D%2C%20%5B12.9900235%2C%2077.572073%2C%208.0%5D%2C%20%5B13.0011289%2C%2077.6325617%2C%206.0%5D%2C%20%5B13.1006982%2C%2077.5963454%2C%206.0%5D%2C%20%5B13.0784743%2C%2077.6068938%2C%203.0%5D%2C%20%5B12.9274413%2C%2077.5155224%2C%202.0%5D%2C%20%5B13.0329419%2C%2077.5273253%2C%201.0%5D%5D%3B%0A%20%20%20%20%20%20%20%20%20%20%20%20%20%20%20%20var%20cluster%20%3D%20L.markerClusterGroup%28%7B%7D%29%3B%0A%0A%20%20%20%20%20%20%20%20%20%20%20%20%20%20%20%20for%20%28var%20i%20%3D%200%3B%20i%20%3C%20data.length%3B%20i%2B%2B%29%20%7B%0A%20%20%20%20%20%20%20%20%20%20%20%20%20%20%20%20%20%20%20%20var%20row%20%3D%20data%5Bi%5D%3B%0A%20%20%20%20%20%20%20%20%20%20%20%20%20%20%20%20%20%20%20%20var%20marker%20%3D%20callback%28row%29%3B%0A%20%20%20%20%20%20%20%20%20%20%20%20%20%20%20%20%20%20%20%20marker.addTo%28cluster%29%3B%0A%20%20%20%20%20%20%20%20%20%20%20%20%20%20%20%20%7D%0A%0A%20%20%20%20%20%20%20%20%20%20%20%20%20%20%20%20cluster.addTo%28map_f9b16763a00e4a61b527769aa2763a29%29%3B%0A%20%20%20%20%20%20%20%20%20%20%20%20%20%20%20%20return%20cluster%3B%0A%20%20%20%20%20%20%20%20%20%20%20%20%7D%29%28%29%3B%0A%20%20%20%20%20%20%20%20%20%20%20%20%0A%20%20%20%20%0A%20%20%20%20%20%20%20%20%20%20%20%20var%20heat_map_4ce543ba791e4c009f61c65a646d4eed%20%3D%20L.heatLayer%28%0A%20%20%20%20%20%20%20%20%20%20%20%20%20%20%20%20%5B%5B38.7801076%2C%20-121.5056438%2C%202505.5555555555557%5D%2C%20%5B1.3089343%2C%20103.8513177%2C%201309.3525179856115%5D%2C%20%5B40.7652844%2C%20-76.373824%2C%201307.9349904397704%5D%2C%20%5B17.1452094%2C%2079.6218777%2C%201155.7046979865772%5D%2C%20%5B-34.0048654%2C%2022.4414125%2C%201062.2516556291391%5D%2C%20%5B-28.5477541%2C%2029.788093%2C%20966.3204747774481%5D%2C%20%5B12.957998%2C%2077.6037312%2C%20883.3333333333334%5D%2C%20%5B51.5230784%2C%20-0.7374421%2C%20871.3068181818181%5D%2C%20%5B31.89376%2C%20-88.066644%2C%20864.969450101833%5D%2C%20%5B40.7133336%2C%20-74.0092085%2C%20834.8857644991213%5D%2C%20%5B12.9271867%2C%2077.6266252%2C%20778.4722222222222%5D%2C%20%5B12.9778793%2C%2077.6246697%2C%20765.8308751229105%5D%2C%20%5B40.5758316%2C%20-74.1273021%2C%20756.2810945273632%5D%2C%20%5B12.9274413%2C%2077.5155224%2C%20725.0%5D%2C%20%5B15.8782951%2C%2074.5084834%2C%20717.4603174603175%5D%2C%20%5B12.93433385%2C%2077.63040639553275%2C%20696.3618485742379%5D%2C%20%5B12.9931876%2C%2077.5753419%2C%20684.8484848484849%5D%2C%20%5B34.8457921%2C%20-82.338901%2C%20666.1625282167043%5D%2C%20%5B12.9343774%2C%2077.628415%2C%20663.6638452237002%5D%2C%20%5B12.9732913%2C%2077.6404672%2C%20653.7880274779195%5D%2C%20%5B12.9750605%2C%2077.6080323%2C%20650.935960591133%5D%2C%20%5B12.9243509%2C%2077.6255562%2C%20622.5490196078431%5D%2C%20%5B12.9400321%2C%2077.6203272%2C%20616.3024475524476%5D%2C%20%5B12.9624669%2C%2077.6381958%2C%20605.1452282157676%5D%2C%20%5B44.3730577%2C%20-71.6118577%2C%20598.1528363806844%5D%2C%20%5B12.9302645%2C%2077.6332585%2C%20594.1326530612245%5D%2C%20%5B13.0221416%2C%2077.6403368%2C%20581.4588235294118%5D%2C%20%5B12.9244803%2C%2077.6502737%2C%20574.4549763033175%5D%2C%20%5B12.988721250000001%2C%2077.58516877601824%2C%20562.2866894197953%5D%2C%20%5B12.7405867%2C%2077.8200481%2C%20559.8039215686274%5D%2C%20%5B13.0027353%2C%2077.5703253%2C%20551.3674033149172%5D%2C%20%5B12.9546741%2C%2077.5121724%2C%20538.8888888888889%5D%2C%20%5B13.0382184%2C%2077.5919%2C%20535.7142857142857%5D%2C%20%5B12.93577245%2C%2077.66676103753434%2C%20527.5038880248834%5D%2C%20%5B12.5442176%2C%2077.4213833%2C%20523.6842105263158%5D%2C%20%5B12.2655944%2C%2076.6465404%2C%20522.7713004484305%5D%2C%20%5B12.9552572%2C%2077.6984163%2C%20513.7506834335702%5D%2C%20%5B12.9859966%2C%2077.7327435%2C%20501.7699115044248%5D%2C%20%5B12.9176571%2C%2077.4837568%2C%20500.0%5D%2C%20%5B32.2934563%2C%20-64.78236307254568%2C%20497.406523468576%5D%2C%20%5B12.9970537%2C%2077.669804%2C%20488.6363636363636%5D%2C%20%5B13.0170347%2C%2077.5726006%2C%20483.3075734157651%5D%2C%20%5B27.64392675%2C%2083.05280519687284%2C%20476.40771637122003%5D%2C%20%5B18.1475%2C%2041.538889%2C%20475.6100478468899%5D%2C%20%5B13.0093455%2C%2077.6377094%2C%20455.2093023255814%5D%2C%20%5B17.5223139%2C%2078.5804307%2C%20451.2720156555773%5D%2C%20%5B12.9059707%2C%2077.6017374%2C%20443.67965367965365%5D%2C%20%5B33.5935063%2C%20-79.0345627%2C%20439.6341463414634%5D%2C%20%5B13.0621474%2C%2077.58006135480495%2C%20439.62264150943395%5D%2C%20%5B12.9882338%2C%2077.554883%2C%20435.8714043993232%5D%2C%20%5B13.2227%2C%2078.5541977%2C%20432.88770053475935%5D%2C%20%5B12.933232%2C%2077.6254669%2C%20431.3257881972514%5D%2C%20%5B13.02383%2C%2077.5529215%2C%20430.672268907563%5D%2C%20%5B13.6285774%2C%2077.4642026%2C%20430.2631578947368%5D%2C%20%5B12.9922983%2C%2077.5384739%2C%20429.14438502673795%5D%2C%20%5B12.3872141%2C%2076.6669626%2C%20427.27272727272725%5D%2C%20%5B12.996845%2C%2077.6130165%2C%20426.80555555555554%5D%2C%20%5B13.0358698%2C%2077.6323597%2C%20421.5686274509804%5D%2C%20%5B15.8876779%2C%2075.7046777%2C%20421.2251655629139%5D%2C%20%5B12.9846713%2C%2077.6790908%2C%20415.34653465346537%5D%2C%20%5B12.9489339%2C%2077.5968273%2C%20413.2113821138211%5D%2C%20%5B12.9089453%2C%2077.6239038%2C%20403.68220338983053%5D%2C%20%5B12.9678074%2C%2077.6568367%2C%20401.54411764705884%5D%2C%20%5B13.0215466%2C%2077.7640586%2C%20401.16279069767444%5D%2C%20%5B13.0784743%2C%2077.6068938%2C%20400.0%5D%2C%20%5B12.9340114%2C%2077.6222304%2C%20398.9583333333333%5D%2C%20%5B13.0141618%2C%2077.6518539%2C%20397.01378254211335%5D%2C%20%5B45.95485055%2C%20-112.49659530324134%2C%20396.480972930561%5D%2C%20%5B13.0227204%2C%2077.595715%2C%20394.2307692307692%5D%2C%20%5B51.519619%2C%20-0.0744749%2C%20392.2972972972973%5D%2C%20%5B12.9900235%2C%2077.572073%2C%20387.5%5D%2C%20%5B1.2847055%2C%20103.84320655721689%2C%20387.4193548387097%5D%2C%20%5B13.0258087%2C%2077.6305067%2C%20383.9622641509434%5D%2C%20%5B12.9081487%2C%2077.5553179%2C%20372.3076923076923%5D%2C%20%5B23.1485712%2C%2081.6048241%2C%20371.7105263157895%5D%2C%20%5B22.8359967%2C%2069.3405962%2C%20368.97435897435895%5D%2C%20%5B12.9055682%2C%2077.5455438%2C%20361.7647058823529%5D%2C%20%5B12.9417261%2C%2077.5755021%2C%20360.9795321637427%5D%2C%20%5B12.9417812%2C%2077.6160146%2C%20359.7682119205298%5D%2C%20%5B12.973936%2C%2077.6509982%2C%20357.62886597938143%5D%2C%20%5B12.9414662%2C%2077.7470942%2C%20356.0869565217391%5D%2C%20%5B13.0011289%2C%2077.6325617%2C%20350.0%5D%2C%20%5B13.007516%2C%2077.695935%2C%20347.22222222222223%5D%2C%20%5B18.5322493%2C%2073.8499601124847%2C%20344.78957915831666%5D%2C%20%5B12.945048%2C%2077.263004%2C%20341.1764705882353%5D%2C%20%5B13.0217151%2C%2077.7660547%2C%20332.14285714285717%5D%2C%20%5B13.0646907%2C%2077.49626895712257%2C%20330.1869158878505%5D%2C%20%5B12.945245%2C%2077.6269144%2C%20320.5069124423963%5D%2C%20%5B17.2510682%2C%2080.1651978%2C%20311.1111111111111%5D%2C%20%5B13.1006982%2C%2077.5963454%2C%20310.0%5D%2C%20%5B39.76880625%2C%20-86.15345077251979%2C%20302.368%5D%2C%20%5B13.0329419%2C%2077.5273253%2C%20300.0%5D%5D%2C%0A%20%20%20%20%20%20%20%20%20%20%20%20%20%20%20%20%7B%0A%20%20%20%20%20%20%20%20%20%20%20%20%20%20%20%20%20%20%20%20minOpacity%3A%200.5%2C%0A%20%20%20%20%20%20%20%20%20%20%20%20%20%20%20%20%20%20%20%20maxZoom%3A%2018%2C%0A%20%20%20%20%20%20%20%20%20%20%20%20%20%20%20%20%20%20%20%20max%3A%201.0%2C%0A%20%20%20%20%20%20%20%20%20%20%20%20%20%20%20%20%20%20%20%20radius%3A%2025%2C%0A%20%20%20%20%20%20%20%20%20%20%20%20%20%20%20%20%20%20%20%20blur%3A%2015%2C%0A%20%20%20%20%20%20%20%20%20%20%20%20%20%20%20%20%20%20%20%20gradient%3A%20null%0A%20%20%20%20%20%20%20%20%20%20%20%20%20%20%20%20%20%20%20%20%7D%29%0A%20%20%20%20%20%20%20%20%20%20%20%20%20%20%20%20.addTo%28map_f9b16763a00e4a61b527769aa2763a29%29%3B%0A%20%20%20%20%20%20%20%20%0A%3C/script%3E onload=\"this.contentDocument.open();this.contentDocument.write(    decodeURIComponent(this.getAttribute('data-html')));this.contentDocument.close();\" allowfullscreen webkitallowfullscreen mozallowfullscreen></iframe></div></div>"
            ],
            "text/plain": [
              "<folium.folium.Map at 0x7f5569a62410>"
            ]
          },
          "metadata": {},
          "execution_count": 47
        }
      ]
    },
    {
      "cell_type": "code",
      "metadata": {
        "colab": {
          "base_uri": "https://localhost:8080/",
          "height": 622
        },
        "id": "DGK2kjEz8Udi",
        "outputId": "956bbb23-1742-420f-e3d1-6b068d2d32b8"
      },
      "source": [
        "filter=df['cuisines']==\"North Indian\"\n",
        "df2=df[filter]\n",
        "df2.head()"
      ],
      "execution_count": 48,
      "outputs": [
        {
          "output_type": "execute_result",
          "data": {
            "text/html": [
              "<div>\n",
              "<style scoped>\n",
              "    .dataframe tbody tr th:only-of-type {\n",
              "        vertical-align: middle;\n",
              "    }\n",
              "\n",
              "    .dataframe tbody tr th {\n",
              "        vertical-align: top;\n",
              "    }\n",
              "\n",
              "    .dataframe thead th {\n",
              "        text-align: right;\n",
              "    }\n",
              "</style>\n",
              "<table border=\"1\" class=\"dataframe\">\n",
              "  <thead>\n",
              "    <tr style=\"text-align: right;\">\n",
              "      <th></th>\n",
              "      <th>url</th>\n",
              "      <th>address</th>\n",
              "      <th>name</th>\n",
              "      <th>online_order</th>\n",
              "      <th>book_table</th>\n",
              "      <th>rate</th>\n",
              "      <th>votes</th>\n",
              "      <th>phone</th>\n",
              "      <th>location</th>\n",
              "      <th>rest_type</th>\n",
              "      <th>dish_liked</th>\n",
              "      <th>cuisines</th>\n",
              "      <th>approx_cost(for two people)</th>\n",
              "      <th>reviews_list</th>\n",
              "      <th>menu_item</th>\n",
              "      <th>listed_in(type)</th>\n",
              "      <th>listed_in(city)</th>\n",
              "      <th>pricing</th>\n",
              "    </tr>\n",
              "  </thead>\n",
              "  <tbody>\n",
              "    <tr>\n",
              "      <th>5</th>\n",
              "      <td>https://www.zomato.com/bangalore/timepass-dinn...</td>\n",
              "      <td>37, 5-1, 4th Floor, Bosco Court, Gandhi Bazaar...</td>\n",
              "      <td>Timepass Dinner</td>\n",
              "      <td>Yes</td>\n",
              "      <td>No</td>\n",
              "      <td>3.8/5</td>\n",
              "      <td>286</td>\n",
              "      <td>+91 9980040002\\r\\n+91 9980063005</td>\n",
              "      <td>Basavanagudi</td>\n",
              "      <td>Casual Dining</td>\n",
              "      <td>Onion Rings, Pasta, Kadhai Paneer, Salads, Sal...</td>\n",
              "      <td>North Indian</td>\n",
              "      <td>600</td>\n",
              "      <td>[('Rated 3.0', 'RATED\\n  Food 3/5\\nAmbience 3/...</td>\n",
              "      <td>[]</td>\n",
              "      <td>Buffet</td>\n",
              "      <td>Banashankari</td>\n",
              "      <td>600</td>\n",
              "    </tr>\n",
              "    <tr>\n",
              "      <th>50</th>\n",
              "      <td>https://www.zomato.com/bangalore/petoo-banasha...</td>\n",
              "      <td>276, Ground Floor, 100 Feet Outer Ring Road, B...</td>\n",
              "      <td>Petoo</td>\n",
              "      <td>No</td>\n",
              "      <td>No</td>\n",
              "      <td>3.7/5</td>\n",
              "      <td>21</td>\n",
              "      <td>+91 8026893211</td>\n",
              "      <td>Banashankari</td>\n",
              "      <td>Quick Bites</td>\n",
              "      <td>NaN</td>\n",
              "      <td>North Indian</td>\n",
              "      <td>450</td>\n",
              "      <td>[('Rated 2.0', 'RATED\\n  This is a neatly made...</td>\n",
              "      <td>[]</td>\n",
              "      <td>Delivery</td>\n",
              "      <td>Banashankari</td>\n",
              "      <td>450</td>\n",
              "    </tr>\n",
              "    <tr>\n",
              "      <th>72</th>\n",
              "      <td>https://www.zomato.com/bangalore/spicy-tandoor...</td>\n",
              "      <td>Opposite ICICi Bank, Hanuman Nagar, Banashanka...</td>\n",
              "      <td>Spicy Tandoor</td>\n",
              "      <td>No</td>\n",
              "      <td>No</td>\n",
              "      <td>NEW</td>\n",
              "      <td>0</td>\n",
              "      <td>+91 8050884222</td>\n",
              "      <td>Banashankari</td>\n",
              "      <td>Quick Bites</td>\n",
              "      <td>NaN</td>\n",
              "      <td>North Indian</td>\n",
              "      <td>150</td>\n",
              "      <td>[('Rated 4.0', 'RATED\\n  cost for chicken roll...</td>\n",
              "      <td>[]</td>\n",
              "      <td>Delivery</td>\n",
              "      <td>Banashankari</td>\n",
              "      <td>150</td>\n",
              "    </tr>\n",
              "    <tr>\n",
              "      <th>87</th>\n",
              "      <td>https://www.zomato.com/bangalore/krishna-sagar...</td>\n",
              "      <td>38, 22nd Main, 22nd Cross, Opposite BDA, 2nd S...</td>\n",
              "      <td>Krishna Sagar</td>\n",
              "      <td>No</td>\n",
              "      <td>No</td>\n",
              "      <td>3.5/5</td>\n",
              "      <td>31</td>\n",
              "      <td>+91 8892752997\\r\\n+91 7204780429</td>\n",
              "      <td>Banashankari</td>\n",
              "      <td>Quick Bites</td>\n",
              "      <td>NaN</td>\n",
              "      <td>North Indian</td>\n",
              "      <td>200</td>\n",
              "      <td>[('Rated 1.0', 'RATED\\n  Worst experience with...</td>\n",
              "      <td>[]</td>\n",
              "      <td>Delivery</td>\n",
              "      <td>Banashankari</td>\n",
              "      <td>200</td>\n",
              "    </tr>\n",
              "    <tr>\n",
              "      <th>94</th>\n",
              "      <td>https://www.zomato.com/bangalore/nandhini-delu...</td>\n",
              "      <td>304, Opposite Apollo Public School, 100 Feet R...</td>\n",
              "      <td>Nandhini Deluxe</td>\n",
              "      <td>No</td>\n",
              "      <td>No</td>\n",
              "      <td>2.6/5</td>\n",
              "      <td>283</td>\n",
              "      <td>080 26890011\\r\\n080 26890033</td>\n",
              "      <td>Banashankari</td>\n",
              "      <td>Casual Dining</td>\n",
              "      <td>Biryani, Chicken Guntur, Thali, Buttermilk, Ma...</td>\n",
              "      <td>North Indian</td>\n",
              "      <td>600</td>\n",
              "      <td>[('Rated 3.0', 'RATED\\n  Ididnt like much.\\n\\n...</td>\n",
              "      <td>[]</td>\n",
              "      <td>Delivery</td>\n",
              "      <td>Banashankari</td>\n",
              "      <td>600</td>\n",
              "    </tr>\n",
              "  </tbody>\n",
              "</table>\n",
              "</div>"
            ],
            "text/plain": [
              "                                                  url  ... pricing\n",
              "5   https://www.zomato.com/bangalore/timepass-dinn...  ...     600\n",
              "50  https://www.zomato.com/bangalore/petoo-banasha...  ...     450\n",
              "72  https://www.zomato.com/bangalore/spicy-tandoor...  ...     150\n",
              "87  https://www.zomato.com/bangalore/krishna-sagar...  ...     200\n",
              "94  https://www.zomato.com/bangalore/nandhini-delu...  ...     600\n",
              "\n",
              "[5 rows x 18 columns]"
            ]
          },
          "metadata": {},
          "execution_count": 48
        }
      ]
    },
    {
      "cell_type": "code",
      "metadata": {
        "id": "xDPd6s5-Bkli"
      },
      "source": [
        "north_indian=df2.groupby('location')['url'].count().reset_index()\n",
        "north_indian.columns=['Name','count']"
      ],
      "execution_count": 49,
      "outputs": []
    },
    {
      "cell_type": "code",
      "metadata": {
        "id": "-jCnPwnCCHUy"
      },
      "source": [
        "north_indian=north_indian.merge(locations,on='Name',how='left').dropna()"
      ],
      "execution_count": 50,
      "outputs": []
    },
    {
      "cell_type": "code",
      "metadata": {
        "colab": {
          "base_uri": "https://localhost:8080/"
        },
        "id": "V88YBJQ3DovK",
        "outputId": "b22ebc2e-7529-45da-cbf5-61e589c207e6"
      },
      "source": [
        "HeatMap(north_indian[['lat','lon','count']].to_numpy(),max_zoom=20,radius=15).add_to(baseMap)"
      ],
      "execution_count": 51,
      "outputs": [
        {
          "output_type": "execute_result",
          "data": {
            "text/plain": [
              "<folium.plugins.heat_map.HeatMap at 0x7f5553b20cd0>"
            ]
          },
          "metadata": {},
          "execution_count": 51
        }
      ]
    },
    {
      "cell_type": "code",
      "metadata": {
        "colab": {
          "base_uri": "https://localhost:8080/",
          "height": 854
        },
        "id": "NNqO4W6xEtdQ",
        "outputId": "51d8b1ca-a9f6-4c4f-b9ec-14ecbaa77f6b"
      },
      "source": [
        "baseMap"
      ],
      "execution_count": 52,
      "outputs": [
        {
          "output_type": "execute_result",
          "data": {
            "text/html": [
              "<div style=\"width:100%;\"><div style=\"position:relative;width:100%;height:0;padding-bottom:60%;\"><span style=\"color:#565656\">Make this Notebook Trusted to load map: File -> Trust Notebook</span><iframe src=\"about:blank\" style=\"position:absolute;width:100%;height:100%;left:0;top:0;border:none !important;\" data-html=%3C%21DOCTYPE%20html%3E%0A%3Chead%3E%20%20%20%20%0A%20%20%20%20%3Cmeta%20http-equiv%3D%22content-type%22%20content%3D%22text/html%3B%20charset%3DUTF-8%22%20/%3E%0A%20%20%20%20%3Cscript%3EL_PREFER_CANVAS%3Dfalse%3B%20L_NO_TOUCH%3Dfalse%3B%20L_DISABLE_3D%3Dfalse%3B%3C/script%3E%0A%20%20%20%20%3Cscript%20src%3D%22https%3A//cdn.jsdelivr.net/npm/leaflet%401.4.0/dist/leaflet.js%22%3E%3C/script%3E%0A%20%20%20%20%3Cscript%20src%3D%22https%3A//code.jquery.com/jquery-1.12.4.min.js%22%3E%3C/script%3E%0A%20%20%20%20%3Cscript%20src%3D%22https%3A//maxcdn.bootstrapcdn.com/bootstrap/3.2.0/js/bootstrap.min.js%22%3E%3C/script%3E%0A%20%20%20%20%3Cscript%20src%3D%22https%3A//cdnjs.cloudflare.com/ajax/libs/Leaflet.awesome-markers/2.0.2/leaflet.awesome-markers.js%22%3E%3C/script%3E%0A%20%20%20%20%3Clink%20rel%3D%22stylesheet%22%20href%3D%22https%3A//cdn.jsdelivr.net/npm/leaflet%401.4.0/dist/leaflet.css%22/%3E%0A%20%20%20%20%3Clink%20rel%3D%22stylesheet%22%20href%3D%22https%3A//maxcdn.bootstrapcdn.com/bootstrap/3.2.0/css/bootstrap.min.css%22/%3E%0A%20%20%20%20%3Clink%20rel%3D%22stylesheet%22%20href%3D%22https%3A//maxcdn.bootstrapcdn.com/bootstrap/3.2.0/css/bootstrap-theme.min.css%22/%3E%0A%20%20%20%20%3Clink%20rel%3D%22stylesheet%22%20href%3D%22https%3A//maxcdn.bootstrapcdn.com/font-awesome/4.6.3/css/font-awesome.min.css%22/%3E%0A%20%20%20%20%3Clink%20rel%3D%22stylesheet%22%20href%3D%22https%3A//cdnjs.cloudflare.com/ajax/libs/Leaflet.awesome-markers/2.0.2/leaflet.awesome-markers.css%22/%3E%0A%20%20%20%20%3Clink%20rel%3D%22stylesheet%22%20href%3D%22https%3A//rawcdn.githack.com/python-visualization/folium/master/folium/templates/leaflet.awesome.rotate.css%22/%3E%0A%20%20%20%20%3Cstyle%3Ehtml%2C%20body%20%7Bwidth%3A%20100%25%3Bheight%3A%20100%25%3Bmargin%3A%200%3Bpadding%3A%200%3B%7D%3C/style%3E%0A%20%20%20%20%3Cstyle%3E%23map%20%7Bposition%3Aabsolute%3Btop%3A0%3Bbottom%3A0%3Bright%3A0%3Bleft%3A0%3B%7D%3C/style%3E%0A%20%20%20%20%0A%20%20%20%20%3Cmeta%20name%3D%22viewport%22%20content%3D%22width%3Ddevice-width%2C%0A%20%20%20%20%20%20%20%20initial-scale%3D1.0%2C%20maximum-scale%3D1.0%2C%20user-scalable%3Dno%22%20/%3E%0A%20%20%20%20%3Cstyle%3E%23map_f9b16763a00e4a61b527769aa2763a29%20%7B%0A%20%20%20%20%20%20%20%20position%3A%20relative%3B%0A%20%20%20%20%20%20%20%20width%3A%20100.0%25%3B%0A%20%20%20%20%20%20%20%20height%3A%20100.0%25%3B%0A%20%20%20%20%20%20%20%20left%3A%200.0%25%3B%0A%20%20%20%20%20%20%20%20top%3A%200.0%25%3B%0A%20%20%20%20%20%20%20%20%7D%0A%20%20%20%20%3C/style%3E%0A%20%20%20%20%3Cscript%20src%3D%22https%3A//leaflet.github.io/Leaflet.heat/dist/leaflet-heat.js%22%3E%3C/script%3E%0A%20%20%20%20%3Cscript%20src%3D%22https%3A//cdnjs.cloudflare.com/ajax/libs/leaflet.markercluster/1.1.0/leaflet.markercluster.js%22%3E%3C/script%3E%0A%20%20%20%20%3Clink%20rel%3D%22stylesheet%22%20href%3D%22https%3A//cdnjs.cloudflare.com/ajax/libs/leaflet.markercluster/1.1.0/MarkerCluster.css%22/%3E%0A%20%20%20%20%3Clink%20rel%3D%22stylesheet%22%20href%3D%22https%3A//cdnjs.cloudflare.com/ajax/libs/leaflet.markercluster/1.1.0/MarkerCluster.Default.css%22/%3E%0A%3C/head%3E%0A%3Cbody%3E%20%20%20%20%0A%20%20%20%20%0A%20%20%20%20%3Cdiv%20class%3D%22folium-map%22%20id%3D%22map_f9b16763a00e4a61b527769aa2763a29%22%20%3E%3C/div%3E%0A%3C/body%3E%0A%3Cscript%3E%20%20%20%20%0A%20%20%20%20%0A%20%20%20%20%0A%20%20%20%20%20%20%20%20var%20bounds%20%3D%20null%3B%0A%20%20%20%20%0A%0A%20%20%20%20var%20map_f9b16763a00e4a61b527769aa2763a29%20%3D%20L.map%28%0A%20%20%20%20%20%20%20%20%27map_f9b16763a00e4a61b527769aa2763a29%27%2C%20%7B%0A%20%20%20%20%20%20%20%20center%3A%20%5B12.97%2C%2077.59%5D%2C%0A%20%20%20%20%20%20%20%20zoom%3A%2012%2C%0A%20%20%20%20%20%20%20%20maxBounds%3A%20bounds%2C%0A%20%20%20%20%20%20%20%20layers%3A%20%5B%5D%2C%0A%20%20%20%20%20%20%20%20worldCopyJump%3A%20false%2C%0A%20%20%20%20%20%20%20%20crs%3A%20L.CRS.EPSG3857%2C%0A%20%20%20%20%20%20%20%20zoomControl%3A%20true%2C%0A%20%20%20%20%20%20%20%20%7D%29%3B%0A%0A%0A%20%20%20%20%0A%20%20%20%20var%20tile_layer_80cd99ec86934ccab48c43082f3641f0%20%3D%20L.tileLayer%28%0A%20%20%20%20%20%20%20%20%27https%3A//%7Bs%7D.tile.openstreetmap.org/%7Bz%7D/%7Bx%7D/%7By%7D.png%27%2C%0A%20%20%20%20%20%20%20%20%7B%0A%20%20%20%20%20%20%20%20%22attribution%22%3A%20null%2C%0A%20%20%20%20%20%20%20%20%22detectRetina%22%3A%20false%2C%0A%20%20%20%20%20%20%20%20%22maxNativeZoom%22%3A%2018%2C%0A%20%20%20%20%20%20%20%20%22maxZoom%22%3A%2018%2C%0A%20%20%20%20%20%20%20%20%22minZoom%22%3A%200%2C%0A%20%20%20%20%20%20%20%20%22noWrap%22%3A%20false%2C%0A%20%20%20%20%20%20%20%20%22opacity%22%3A%201%2C%0A%20%20%20%20%20%20%20%20%22subdomains%22%3A%20%22abc%22%2C%0A%20%20%20%20%20%20%20%20%22tms%22%3A%20false%0A%7D%29.addTo%28map_f9b16763a00e4a61b527769aa2763a29%29%3B%0A%20%20%20%20%0A%20%20%20%20%20%20%20%20%20%20%20%20var%20heat_map_8b39a6be258f4f61bb0bbd2e1aecd539%20%3D%20L.heatLayer%28%0A%20%20%20%20%20%20%20%20%20%20%20%20%20%20%20%20%5B%5B45.95485055%2C%20-112.49659530324134%2C%205124.0%5D%2C%20%5B18.1475%2C%2041.538889%2C%202523.0%5D%2C%20%5B12.9343774%2C%2077.628415%2C%202504.0%5D%2C%20%5B12.2655944%2C%2076.6465404%2C%202235.0%5D%2C%20%5B44.3730577%2C%20-71.6118577%2C%202144.0%5D%2C%20%5B12.9732913%2C%2077.6404672%2C%202083.0%5D%2C%20%5B27.64392675%2C%2083.05280519687284%2C%201926.0%5D%2C%20%5B12.9552572%2C%2077.6984163%2C%201846.0%5D%2C%20%5B12.9059707%2C%2077.6017374%2C%201630.0%5D%2C%20%5B12.93577245%2C%2077.66676103753434%2C%201286.0%5D%2C%20%5B32.2934563%2C%20-64.78236307254568%2C%201258.0%5D%2C%20%5B12.933232%2C%2077.6254669%2C%201238.0%5D%2C%20%5B12.9750605%2C%2077.6080323%2C%201218.0%5D%2C%20%5B12.9302645%2C%2077.6332585%2C%201181.0%5D%2C%20%5B12.9400321%2C%2077.6203272%2C%201156.0%5D%2C%20%5B12.9244803%2C%2077.6502737%2C%201065.0%5D%2C%20%5B12.9778793%2C%2077.6246697%2C%201023.0%5D%2C%20%5B12.93433385%2C%2077.63040639553275%2C%201017.0%5D%2C%20%5B17.1452094%2C%2079.6218777%2C%20918.0%5D%2C%20%5B15.8876779%2C%2075.7046777%2C%20906.0%5D%2C%20%5B13.0221416%2C%2077.6403368%2C%20853.0%5D%2C%20%5B40.5758316%2C%20-74.1273021%2C%20812.0%5D%2C%20%5B12.996845%2C%2077.6130165%2C%20727.0%5D%2C%20%5B13.0027353%2C%2077.5703253%2C%20725.0%5D%2C%20%5B12.9417261%2C%2077.5755021%2C%20684.0%5D%2C%20%5B-28.5477541%2C%2029.788093%2C%20675.0%5D%2C%20%5B13.0141618%2C%2077.6518539%2C%20664.0%5D%2C%20%5B33.5935063%2C%20-79.0345627%2C%20658.0%5D%2C%20%5B13.0170347%2C%2077.5726006%2C%20649.0%5D%2C%20%5B13.0093455%2C%2077.6377094%2C%20648.0%5D%2C%20%5B12.9882338%2C%2077.554883%2C%20591.0%5D%2C%20%5B40.7133336%2C%20-74.0092085%2C%20569.0%5D%2C%20%5B40.7652844%2C%20-76.373824%2C%20529.0%5D%2C%20%5B17.5223139%2C%2078.5804307%2C%20511.0%5D%2C%20%5B18.5322493%2C%2073.8499601124847%2C%20499.0%5D%2C%20%5B12.9624669%2C%2077.6381958%2C%20496.0%5D%2C%20%5B31.89376%2C%20-88.066644%2C%20491.0%5D%2C%20%5B34.8457921%2C%20-82.338901%2C%20446.0%5D%2C%20%5B12.945245%2C%2077.6269144%2C%20439.0%5D%2C%20%5B51.519619%2C%20-0.0744749%2C%20370.0%5D%2C%20%5B51.5230784%2C%20-0.7374421%2C%20352.0%5D%2C%20%5B12.9417812%2C%2077.6160146%2C%20320.0%5D%2C%20%5B12.988721250000001%2C%2077.58516877601824%2C%20295.0%5D%2C%20%5B12.9678074%2C%2077.6568367%2C%20272.0%5D%2C%20%5B12.9489339%2C%2077.5968273%2C%20246.0%5D%2C%20%5B12.9089453%2C%2077.6239038%2C%20238.0%5D%2C%20%5B12.9271867%2C%2077.6266252%2C%20216.0%5D%2C%20%5B12.9081487%2C%2077.5553179%2C%20195.0%5D%2C%20%5B12.973936%2C%2077.6509982%2C%20194.0%5D%2C%20%5B12.9922983%2C%2077.5384739%2C%20191.0%5D%2C%20%5B13.2227%2C%2078.5541977%2C%20187.0%5D%2C%20%5B12.9931876%2C%2077.5753419%2C%20165.0%5D%2C%20%5B13.0258087%2C%2077.6305067%2C%20161.0%5D%2C%20%5B1.2847055%2C%20103.84320655721689%2C%20155.0%5D%2C%20%5B13.0358698%2C%2077.6323597%2C%20153.0%5D%2C%20%5B-34.0048654%2C%2022.4414125%2C%20151.0%5D%2C%20%5B1.3089343%2C%20103.8513177%2C%20139.0%5D%2C%20%5B39.76880625%2C%20-86.15345077251979%2C%20126.0%5D%2C%20%5B13.02383%2C%2077.5529215%2C%20119.0%5D%2C%20%5B12.9414662%2C%2077.7470942%2C%20117.0%5D%2C%20%5B12.9859966%2C%2077.7327435%2C%20113.0%5D%2C%20%5B13.0646907%2C%2077.49626895712257%2C%20107.0%5D%2C%20%5B12.7405867%2C%2077.8200481%2C%20102.0%5D%2C%20%5B12.9243509%2C%2077.6255562%2C%20102.0%5D%2C%20%5B12.9846713%2C%2077.6790908%2C%20101.0%5D%2C%20%5B17.2510682%2C%2080.1651978%2C%2090.0%5D%2C%20%5B13.0227204%2C%2077.595715%2C%2080.0%5D%2C%20%5B22.8359967%2C%2069.3405962%2C%2080.0%5D%2C%20%5B23.1485712%2C%2081.6048241%2C%2076.0%5D%2C%20%5B15.8782951%2C%2074.5084834%2C%2063.0%5D%2C%20%5B13.0621474%2C%2077.58006135480495%2C%2053.0%5D%2C%20%5B12.9340114%2C%2077.6222304%2C%2048.0%5D%2C%20%5B13.0215466%2C%2077.7640586%2C%2044.0%5D%2C%20%5B13.6285774%2C%2077.4642026%2C%2038.0%5D%2C%20%5B12.945048%2C%2077.263004%2C%2034.0%5D%2C%20%5B38.7801076%2C%20-121.5056438%2C%2027.0%5D%2C%20%5B12.957998%2C%2077.6037312%2C%2027.0%5D%2C%20%5B12.3872141%2C%2076.6669626%2C%2022.0%5D%2C%20%5B12.9970537%2C%2077.669804%2C%2022.0%5D%2C%20%5B12.5442176%2C%2077.4213833%2C%2019.0%5D%2C%20%5B13.007516%2C%2077.695935%2C%2018.0%5D%2C%20%5B12.9055682%2C%2077.5455438%2C%2017.0%5D%2C%20%5B13.0217151%2C%2077.7660547%2C%2014.0%5D%2C%20%5B13.0382184%2C%2077.5919%2C%2014.0%5D%2C%20%5B12.9176571%2C%2077.4837568%2C%209.0%5D%2C%20%5B12.9546741%2C%2077.5121724%2C%209.0%5D%2C%20%5B12.9900235%2C%2077.572073%2C%208.0%5D%2C%20%5B13.0011289%2C%2077.6325617%2C%206.0%5D%2C%20%5B13.1006982%2C%2077.5963454%2C%206.0%5D%2C%20%5B13.0784743%2C%2077.6068938%2C%203.0%5D%2C%20%5B12.9274413%2C%2077.5155224%2C%202.0%5D%2C%20%5B13.0329419%2C%2077.5273253%2C%201.0%5D%5D%2C%0A%20%20%20%20%20%20%20%20%20%20%20%20%20%20%20%20%7B%0A%20%20%20%20%20%20%20%20%20%20%20%20%20%20%20%20%20%20%20%20minOpacity%3A%200.5%2C%0A%20%20%20%20%20%20%20%20%20%20%20%20%20%20%20%20%20%20%20%20maxZoom%3A%2020%2C%0A%20%20%20%20%20%20%20%20%20%20%20%20%20%20%20%20%20%20%20%20max%3A%201.0%2C%0A%20%20%20%20%20%20%20%20%20%20%20%20%20%20%20%20%20%20%20%20radius%3A%2015%2C%0A%20%20%20%20%20%20%20%20%20%20%20%20%20%20%20%20%20%20%20%20blur%3A%2015%2C%0A%20%20%20%20%20%20%20%20%20%20%20%20%20%20%20%20%20%20%20%20gradient%3A%20null%0A%20%20%20%20%20%20%20%20%20%20%20%20%20%20%20%20%20%20%20%20%7D%29%0A%20%20%20%20%20%20%20%20%20%20%20%20%20%20%20%20.addTo%28map_f9b16763a00e4a61b527769aa2763a29%29%3B%0A%20%20%20%20%20%20%20%20%0A%20%20%20%20%0A%0A%20%20%20%20%20%20%20%20%20%20%20%20var%20fast_marker_cluster_ba2bdc3767e74dfca3b188b0458fa8d2%20%3D%20%28function%28%29%7B%0A%20%20%20%20%20%20%20%20%20%20%20%20%20%20%20%20%0A%20%20%20%20%20%20%20%20%20%20%20%20%20%20%20%20var%20callback%20%3D%20function%20%28row%29%20%7B%0A%20%20%20%20%20%20%20%20%20%20%20%20%20%20%20%20%20%20%20%20var%20icon%20%3D%20L.AwesomeMarkers.icon%28%29%3B%0A%20%20%20%20%20%20%20%20%20%20%20%20%20%20%20%20%20%20%20%20var%20marker%20%3D%20L.marker%28new%20L.LatLng%28row%5B0%5D%2C%20row%5B1%5D%29%29%3B%0A%20%20%20%20%20%20%20%20%20%20%20%20%20%20%20%20%20%20%20%20marker.setIcon%28icon%29%3B%0A%20%20%20%20%20%20%20%20%20%20%20%20%20%20%20%20%20%20%20%20return%20marker%3B%0A%20%20%20%20%20%20%20%20%20%20%20%20%20%20%20%20%7D%3B%0A%0A%20%20%20%20%20%20%20%20%20%20%20%20%20%20%20%20var%20data%20%3D%20%5B%5B45.95485055%2C%20-112.49659530324134%2C%205124.0%5D%2C%20%5B18.1475%2C%2041.538889%2C%202523.0%5D%2C%20%5B12.9343774%2C%2077.628415%2C%202504.0%5D%2C%20%5B12.2655944%2C%2076.6465404%2C%202235.0%5D%2C%20%5B44.3730577%2C%20-71.6118577%2C%202144.0%5D%2C%20%5B12.9732913%2C%2077.6404672%2C%202083.0%5D%2C%20%5B27.64392675%2C%2083.05280519687284%2C%201926.0%5D%2C%20%5B12.9552572%2C%2077.6984163%2C%201846.0%5D%2C%20%5B12.9059707%2C%2077.6017374%2C%201630.0%5D%2C%20%5B12.93577245%2C%2077.66676103753434%2C%201286.0%5D%2C%20%5B32.2934563%2C%20-64.78236307254568%2C%201258.0%5D%2C%20%5B12.933232%2C%2077.6254669%2C%201238.0%5D%2C%20%5B12.9750605%2C%2077.6080323%2C%201218.0%5D%2C%20%5B12.9302645%2C%2077.6332585%2C%201181.0%5D%2C%20%5B12.9400321%2C%2077.6203272%2C%201156.0%5D%2C%20%5B12.9244803%2C%2077.6502737%2C%201065.0%5D%2C%20%5B12.9778793%2C%2077.6246697%2C%201023.0%5D%2C%20%5B12.93433385%2C%2077.63040639553275%2C%201017.0%5D%2C%20%5B17.1452094%2C%2079.6218777%2C%20918.0%5D%2C%20%5B15.8876779%2C%2075.7046777%2C%20906.0%5D%2C%20%5B13.0221416%2C%2077.6403368%2C%20853.0%5D%2C%20%5B40.5758316%2C%20-74.1273021%2C%20812.0%5D%2C%20%5B12.996845%2C%2077.6130165%2C%20727.0%5D%2C%20%5B13.0027353%2C%2077.5703253%2C%20725.0%5D%2C%20%5B12.9417261%2C%2077.5755021%2C%20684.0%5D%2C%20%5B-28.5477541%2C%2029.788093%2C%20675.0%5D%2C%20%5B13.0141618%2C%2077.6518539%2C%20664.0%5D%2C%20%5B33.5935063%2C%20-79.0345627%2C%20658.0%5D%2C%20%5B13.0170347%2C%2077.5726006%2C%20649.0%5D%2C%20%5B13.0093455%2C%2077.6377094%2C%20648.0%5D%2C%20%5B12.9882338%2C%2077.554883%2C%20591.0%5D%2C%20%5B40.7133336%2C%20-74.0092085%2C%20569.0%5D%2C%20%5B40.7652844%2C%20-76.373824%2C%20529.0%5D%2C%20%5B17.5223139%2C%2078.5804307%2C%20511.0%5D%2C%20%5B18.5322493%2C%2073.8499601124847%2C%20499.0%5D%2C%20%5B12.9624669%2C%2077.6381958%2C%20496.0%5D%2C%20%5B31.89376%2C%20-88.066644%2C%20491.0%5D%2C%20%5B34.8457921%2C%20-82.338901%2C%20446.0%5D%2C%20%5B12.945245%2C%2077.6269144%2C%20439.0%5D%2C%20%5B51.519619%2C%20-0.0744749%2C%20370.0%5D%2C%20%5B51.5230784%2C%20-0.7374421%2C%20352.0%5D%2C%20%5B12.9417812%2C%2077.6160146%2C%20320.0%5D%2C%20%5B12.988721250000001%2C%2077.58516877601824%2C%20295.0%5D%2C%20%5B12.9678074%2C%2077.6568367%2C%20272.0%5D%2C%20%5B12.9489339%2C%2077.5968273%2C%20246.0%5D%2C%20%5B12.9089453%2C%2077.6239038%2C%20238.0%5D%2C%20%5B12.9271867%2C%2077.6266252%2C%20216.0%5D%2C%20%5B12.9081487%2C%2077.5553179%2C%20195.0%5D%2C%20%5B12.973936%2C%2077.6509982%2C%20194.0%5D%2C%20%5B12.9922983%2C%2077.5384739%2C%20191.0%5D%2C%20%5B13.2227%2C%2078.5541977%2C%20187.0%5D%2C%20%5B12.9931876%2C%2077.5753419%2C%20165.0%5D%2C%20%5B13.0258087%2C%2077.6305067%2C%20161.0%5D%2C%20%5B1.2847055%2C%20103.84320655721689%2C%20155.0%5D%2C%20%5B13.0358698%2C%2077.6323597%2C%20153.0%5D%2C%20%5B-34.0048654%2C%2022.4414125%2C%20151.0%5D%2C%20%5B1.3089343%2C%20103.8513177%2C%20139.0%5D%2C%20%5B39.76880625%2C%20-86.15345077251979%2C%20126.0%5D%2C%20%5B13.02383%2C%2077.5529215%2C%20119.0%5D%2C%20%5B12.9414662%2C%2077.7470942%2C%20117.0%5D%2C%20%5B12.9859966%2C%2077.7327435%2C%20113.0%5D%2C%20%5B13.0646907%2C%2077.49626895712257%2C%20107.0%5D%2C%20%5B12.7405867%2C%2077.8200481%2C%20102.0%5D%2C%20%5B12.9243509%2C%2077.6255562%2C%20102.0%5D%2C%20%5B12.9846713%2C%2077.6790908%2C%20101.0%5D%2C%20%5B17.2510682%2C%2080.1651978%2C%2090.0%5D%2C%20%5B13.0227204%2C%2077.595715%2C%2080.0%5D%2C%20%5B22.8359967%2C%2069.3405962%2C%2080.0%5D%2C%20%5B23.1485712%2C%2081.6048241%2C%2076.0%5D%2C%20%5B15.8782951%2C%2074.5084834%2C%2063.0%5D%2C%20%5B13.0621474%2C%2077.58006135480495%2C%2053.0%5D%2C%20%5B12.9340114%2C%2077.6222304%2C%2048.0%5D%2C%20%5B13.0215466%2C%2077.7640586%2C%2044.0%5D%2C%20%5B13.6285774%2C%2077.4642026%2C%2038.0%5D%2C%20%5B12.945048%2C%2077.263004%2C%2034.0%5D%2C%20%5B38.7801076%2C%20-121.5056438%2C%2027.0%5D%2C%20%5B12.957998%2C%2077.6037312%2C%2027.0%5D%2C%20%5B12.3872141%2C%2076.6669626%2C%2022.0%5D%2C%20%5B12.9970537%2C%2077.669804%2C%2022.0%5D%2C%20%5B12.5442176%2C%2077.4213833%2C%2019.0%5D%2C%20%5B13.007516%2C%2077.695935%2C%2018.0%5D%2C%20%5B12.9055682%2C%2077.5455438%2C%2017.0%5D%2C%20%5B13.0217151%2C%2077.7660547%2C%2014.0%5D%2C%20%5B13.0382184%2C%2077.5919%2C%2014.0%5D%2C%20%5B12.9176571%2C%2077.4837568%2C%209.0%5D%2C%20%5B12.9546741%2C%2077.5121724%2C%209.0%5D%2C%20%5B12.9900235%2C%2077.572073%2C%208.0%5D%2C%20%5B13.0011289%2C%2077.6325617%2C%206.0%5D%2C%20%5B13.1006982%2C%2077.5963454%2C%206.0%5D%2C%20%5B13.0784743%2C%2077.6068938%2C%203.0%5D%2C%20%5B12.9274413%2C%2077.5155224%2C%202.0%5D%2C%20%5B13.0329419%2C%2077.5273253%2C%201.0%5D%5D%3B%0A%20%20%20%20%20%20%20%20%20%20%20%20%20%20%20%20var%20cluster%20%3D%20L.markerClusterGroup%28%7B%7D%29%3B%0A%0A%20%20%20%20%20%20%20%20%20%20%20%20%20%20%20%20for%20%28var%20i%20%3D%200%3B%20i%20%3C%20data.length%3B%20i%2B%2B%29%20%7B%0A%20%20%20%20%20%20%20%20%20%20%20%20%20%20%20%20%20%20%20%20var%20row%20%3D%20data%5Bi%5D%3B%0A%20%20%20%20%20%20%20%20%20%20%20%20%20%20%20%20%20%20%20%20var%20marker%20%3D%20callback%28row%29%3B%0A%20%20%20%20%20%20%20%20%20%20%20%20%20%20%20%20%20%20%20%20marker.addTo%28cluster%29%3B%0A%20%20%20%20%20%20%20%20%20%20%20%20%20%20%20%20%7D%0A%0A%20%20%20%20%20%20%20%20%20%20%20%20%20%20%20%20cluster.addTo%28map_f9b16763a00e4a61b527769aa2763a29%29%3B%0A%20%20%20%20%20%20%20%20%20%20%20%20%20%20%20%20return%20cluster%3B%0A%20%20%20%20%20%20%20%20%20%20%20%20%7D%29%28%29%3B%0A%20%20%20%20%20%20%20%20%20%20%20%20%0A%20%20%20%20%0A%20%20%20%20%20%20%20%20%20%20%20%20var%20heat_map_4ce543ba791e4c009f61c65a646d4eed%20%3D%20L.heatLayer%28%0A%20%20%20%20%20%20%20%20%20%20%20%20%20%20%20%20%5B%5B38.7801076%2C%20-121.5056438%2C%202505.5555555555557%5D%2C%20%5B1.3089343%2C%20103.8513177%2C%201309.3525179856115%5D%2C%20%5B40.7652844%2C%20-76.373824%2C%201307.9349904397704%5D%2C%20%5B17.1452094%2C%2079.6218777%2C%201155.7046979865772%5D%2C%20%5B-34.0048654%2C%2022.4414125%2C%201062.2516556291391%5D%2C%20%5B-28.5477541%2C%2029.788093%2C%20966.3204747774481%5D%2C%20%5B12.957998%2C%2077.6037312%2C%20883.3333333333334%5D%2C%20%5B51.5230784%2C%20-0.7374421%2C%20871.3068181818181%5D%2C%20%5B31.89376%2C%20-88.066644%2C%20864.969450101833%5D%2C%20%5B40.7133336%2C%20-74.0092085%2C%20834.8857644991213%5D%2C%20%5B12.9271867%2C%2077.6266252%2C%20778.4722222222222%5D%2C%20%5B12.9778793%2C%2077.6246697%2C%20765.8308751229105%5D%2C%20%5B40.5758316%2C%20-74.1273021%2C%20756.2810945273632%5D%2C%20%5B12.9274413%2C%2077.5155224%2C%20725.0%5D%2C%20%5B15.8782951%2C%2074.5084834%2C%20717.4603174603175%5D%2C%20%5B12.93433385%2C%2077.63040639553275%2C%20696.3618485742379%5D%2C%20%5B12.9931876%2C%2077.5753419%2C%20684.8484848484849%5D%2C%20%5B34.8457921%2C%20-82.338901%2C%20666.1625282167043%5D%2C%20%5B12.9343774%2C%2077.628415%2C%20663.6638452237002%5D%2C%20%5B12.9732913%2C%2077.6404672%2C%20653.7880274779195%5D%2C%20%5B12.9750605%2C%2077.6080323%2C%20650.935960591133%5D%2C%20%5B12.9243509%2C%2077.6255562%2C%20622.5490196078431%5D%2C%20%5B12.9400321%2C%2077.6203272%2C%20616.3024475524476%5D%2C%20%5B12.9624669%2C%2077.6381958%2C%20605.1452282157676%5D%2C%20%5B44.3730577%2C%20-71.6118577%2C%20598.1528363806844%5D%2C%20%5B12.9302645%2C%2077.6332585%2C%20594.1326530612245%5D%2C%20%5B13.0221416%2C%2077.6403368%2C%20581.4588235294118%5D%2C%20%5B12.9244803%2C%2077.6502737%2C%20574.4549763033175%5D%2C%20%5B12.988721250000001%2C%2077.58516877601824%2C%20562.2866894197953%5D%2C%20%5B12.7405867%2C%2077.8200481%2C%20559.8039215686274%5D%2C%20%5B13.0027353%2C%2077.5703253%2C%20551.3674033149172%5D%2C%20%5B12.9546741%2C%2077.5121724%2C%20538.8888888888889%5D%2C%20%5B13.0382184%2C%2077.5919%2C%20535.7142857142857%5D%2C%20%5B12.93577245%2C%2077.66676103753434%2C%20527.5038880248834%5D%2C%20%5B12.5442176%2C%2077.4213833%2C%20523.6842105263158%5D%2C%20%5B12.2655944%2C%2076.6465404%2C%20522.7713004484305%5D%2C%20%5B12.9552572%2C%2077.6984163%2C%20513.7506834335702%5D%2C%20%5B12.9859966%2C%2077.7327435%2C%20501.7699115044248%5D%2C%20%5B12.9176571%2C%2077.4837568%2C%20500.0%5D%2C%20%5B32.2934563%2C%20-64.78236307254568%2C%20497.406523468576%5D%2C%20%5B12.9970537%2C%2077.669804%2C%20488.6363636363636%5D%2C%20%5B13.0170347%2C%2077.5726006%2C%20483.3075734157651%5D%2C%20%5B27.64392675%2C%2083.05280519687284%2C%20476.40771637122003%5D%2C%20%5B18.1475%2C%2041.538889%2C%20475.6100478468899%5D%2C%20%5B13.0093455%2C%2077.6377094%2C%20455.2093023255814%5D%2C%20%5B17.5223139%2C%2078.5804307%2C%20451.2720156555773%5D%2C%20%5B12.9059707%2C%2077.6017374%2C%20443.67965367965365%5D%2C%20%5B33.5935063%2C%20-79.0345627%2C%20439.6341463414634%5D%2C%20%5B13.0621474%2C%2077.58006135480495%2C%20439.62264150943395%5D%2C%20%5B12.9882338%2C%2077.554883%2C%20435.8714043993232%5D%2C%20%5B13.2227%2C%2078.5541977%2C%20432.88770053475935%5D%2C%20%5B12.933232%2C%2077.6254669%2C%20431.3257881972514%5D%2C%20%5B13.02383%2C%2077.5529215%2C%20430.672268907563%5D%2C%20%5B13.6285774%2C%2077.4642026%2C%20430.2631578947368%5D%2C%20%5B12.9922983%2C%2077.5384739%2C%20429.14438502673795%5D%2C%20%5B12.3872141%2C%2076.6669626%2C%20427.27272727272725%5D%2C%20%5B12.996845%2C%2077.6130165%2C%20426.80555555555554%5D%2C%20%5B13.0358698%2C%2077.6323597%2C%20421.5686274509804%5D%2C%20%5B15.8876779%2C%2075.7046777%2C%20421.2251655629139%5D%2C%20%5B12.9846713%2C%2077.6790908%2C%20415.34653465346537%5D%2C%20%5B12.9489339%2C%2077.5968273%2C%20413.2113821138211%5D%2C%20%5B12.9089453%2C%2077.6239038%2C%20403.68220338983053%5D%2C%20%5B12.9678074%2C%2077.6568367%2C%20401.54411764705884%5D%2C%20%5B13.0215466%2C%2077.7640586%2C%20401.16279069767444%5D%2C%20%5B13.0784743%2C%2077.6068938%2C%20400.0%5D%2C%20%5B12.9340114%2C%2077.6222304%2C%20398.9583333333333%5D%2C%20%5B13.0141618%2C%2077.6518539%2C%20397.01378254211335%5D%2C%20%5B45.95485055%2C%20-112.49659530324134%2C%20396.480972930561%5D%2C%20%5B13.0227204%2C%2077.595715%2C%20394.2307692307692%5D%2C%20%5B51.519619%2C%20-0.0744749%2C%20392.2972972972973%5D%2C%20%5B12.9900235%2C%2077.572073%2C%20387.5%5D%2C%20%5B1.2847055%2C%20103.84320655721689%2C%20387.4193548387097%5D%2C%20%5B13.0258087%2C%2077.6305067%2C%20383.9622641509434%5D%2C%20%5B12.9081487%2C%2077.5553179%2C%20372.3076923076923%5D%2C%20%5B23.1485712%2C%2081.6048241%2C%20371.7105263157895%5D%2C%20%5B22.8359967%2C%2069.3405962%2C%20368.97435897435895%5D%2C%20%5B12.9055682%2C%2077.5455438%2C%20361.7647058823529%5D%2C%20%5B12.9417261%2C%2077.5755021%2C%20360.9795321637427%5D%2C%20%5B12.9417812%2C%2077.6160146%2C%20359.7682119205298%5D%2C%20%5B12.973936%2C%2077.6509982%2C%20357.62886597938143%5D%2C%20%5B12.9414662%2C%2077.7470942%2C%20356.0869565217391%5D%2C%20%5B13.0011289%2C%2077.6325617%2C%20350.0%5D%2C%20%5B13.007516%2C%2077.695935%2C%20347.22222222222223%5D%2C%20%5B18.5322493%2C%2073.8499601124847%2C%20344.78957915831666%5D%2C%20%5B12.945048%2C%2077.263004%2C%20341.1764705882353%5D%2C%20%5B13.0217151%2C%2077.7660547%2C%20332.14285714285717%5D%2C%20%5B13.0646907%2C%2077.49626895712257%2C%20330.1869158878505%5D%2C%20%5B12.945245%2C%2077.6269144%2C%20320.5069124423963%5D%2C%20%5B17.2510682%2C%2080.1651978%2C%20311.1111111111111%5D%2C%20%5B13.1006982%2C%2077.5963454%2C%20310.0%5D%2C%20%5B39.76880625%2C%20-86.15345077251979%2C%20302.368%5D%2C%20%5B13.0329419%2C%2077.5273253%2C%20300.0%5D%5D%2C%0A%20%20%20%20%20%20%20%20%20%20%20%20%20%20%20%20%7B%0A%20%20%20%20%20%20%20%20%20%20%20%20%20%20%20%20%20%20%20%20minOpacity%3A%200.5%2C%0A%20%20%20%20%20%20%20%20%20%20%20%20%20%20%20%20%20%20%20%20maxZoom%3A%2018%2C%0A%20%20%20%20%20%20%20%20%20%20%20%20%20%20%20%20%20%20%20%20max%3A%201.0%2C%0A%20%20%20%20%20%20%20%20%20%20%20%20%20%20%20%20%20%20%20%20radius%3A%2025%2C%0A%20%20%20%20%20%20%20%20%20%20%20%20%20%20%20%20%20%20%20%20blur%3A%2015%2C%0A%20%20%20%20%20%20%20%20%20%20%20%20%20%20%20%20%20%20%20%20gradient%3A%20null%0A%20%20%20%20%20%20%20%20%20%20%20%20%20%20%20%20%20%20%20%20%7D%29%0A%20%20%20%20%20%20%20%20%20%20%20%20%20%20%20%20.addTo%28map_f9b16763a00e4a61b527769aa2763a29%29%3B%0A%20%20%20%20%20%20%20%20%0A%20%20%20%20%0A%20%20%20%20%20%20%20%20%20%20%20%20var%20heat_map_19c8871eb41d45a9a93c092c7aaa5e36%20%3D%20L.heatLayer%28%0A%20%20%20%20%20%20%20%20%20%20%20%20%20%20%20%20%5B%5B45.95485055%2C%20-112.49659530324134%2C%20328.0%5D%2C%20%5B15.8876779%2C%2075.7046777%2C%2036.0%5D%2C%20%5B13.0141618%2C%2077.6518539%2C%2012.0%5D%2C%20%5B12.9059707%2C%2077.6017374%2C%2075.0%5D%2C%20%5B12.9417261%2C%2077.5755021%2C%2021.0%5D%2C%20%5B12.9922983%2C%2077.5384739%2C%204.0%5D%2C%20%5B12.93577245%2C%2077.66676103753434%2C%20161.0%5D%2C%20%5B12.9089453%2C%2077.6239038%2C%2011.0%5D%2C%20%5B12.9750605%2C%2077.6080323%2C%2041.0%5D%2C%20%5B33.5935063%2C%20-79.0345627%2C%2050.0%5D%2C%20%5B17.2510682%2C%2080.1651978%2C%2010.0%5D%2C%20%5B40.7133336%2C%20-74.0092085%2C%2029.0%5D%2C%20%5B39.76880625%2C%20-86.15345077251979%2C%201.0%5D%2C%20%5B51.519619%2C%20-0.0744749%2C%2023.0%5D%2C%20%5B12.9624669%2C%2077.6381958%2C%2032.0%5D%2C%20%5B13.0215466%2C%2077.7640586%2C%202.0%5D%2C%20%5B12.945245%2C%2077.6269144%2C%2051.0%5D%2C%20%5B32.2934563%2C%20-64.78236307254568%2C%2067.0%5D%2C%20%5B12.996845%2C%2077.6130165%2C%2053.0%5D%2C%20%5B13.0358698%2C%2077.6323597%2C%204.0%5D%2C%20%5B18.1475%2C%2041.538889%2C%20159.0%5D%2C%20%5B13.0258087%2C%2077.6305067%2C%202.0%5D%2C%20%5B12.7405867%2C%2077.8200481%2C%208.0%5D%2C%20%5B12.9859966%2C%2077.7327435%2C%2022.0%5D%2C%20%5B12.9732913%2C%2077.6404672%2C%2083.0%5D%2C%20%5B12.2655944%2C%2076.6465404%2C%20157.0%5D%2C%20%5B13.6285774%2C%2077.4642026%2C%206.0%5D%2C%20%5B27.64392675%2C%2083.05280519687284%2C%2035.0%5D%2C%20%5B12.9678074%2C%2077.6568367%2C%2022.0%5D%2C%20%5B12.9846713%2C%2077.6790908%2C%207.0%5D%2C%20%5B13.0221416%2C%2077.6403368%2C%2040.0%5D%2C%20%5B13.0093455%2C%2077.6377094%2C%2012.0%5D%2C%20%5B12.933232%2C%2077.6254669%2C%20150.0%5D%2C%20%5B12.9243509%2C%2077.6255562%2C%2010.0%5D%2C%20%5B12.9271867%2C%2077.6266252%2C%206.0%5D%2C%20%5B12.93433385%2C%2077.63040639553275%2C%2075.0%5D%2C%20%5B12.9343774%2C%2077.628415%2C%2039.0%5D%2C%20%5B12.9400321%2C%2077.6203272%2C%2049.0%5D%2C%20%5B12.9302645%2C%2077.6332585%2C%2098.0%5D%2C%20%5B12.9081487%2C%2077.5553179%2C%2022.0%5D%2C%20%5B17.1452094%2C%2079.6218777%2C%2022.0%5D%2C%20%5B1.2847055%2C%20103.84320655721689%2C%206.0%5D%2C%20%5B13.0027353%2C%2077.5703253%2C%2020.0%5D%2C%20%5B12.9552572%2C%2077.6984163%2C%20155.0%5D%2C%20%5B13.2227%2C%2078.5541977%2C%209.0%5D%2C%20%5B13.0170347%2C%2077.5726006%2C%2030.0%5D%2C%20%5B13.0217151%2C%2077.7660547%2C%201.0%5D%2C%20%5B34.8457921%2C%20-82.338901%2C%2024.0%5D%2C%20%5B13.0227204%2C%2077.595715%2C%203.0%5D%2C%20%5B12.9882338%2C%2077.554883%2C%2020.0%5D%2C%20%5B-28.5477541%2C%2029.788093%2C%2029.0%5D%2C%20%5B40.5758316%2C%20-74.1273021%2C%2036.0%5D%2C%20%5B15.8782951%2C%2074.5084834%2C%205.0%5D%2C%20%5B23.1485712%2C%2081.6048241%2C%207.0%5D%2C%20%5B38.7801076%2C%20-121.5056438%2C%203.0%5D%2C%20%5B12.9244803%2C%2077.6502737%2C%2064.0%5D%2C%20%5B12.9931876%2C%2077.5753419%2C%206.0%5D%2C%20%5B17.5223139%2C%2078.5804307%2C%2034.0%5D%2C%20%5B18.5322493%2C%2073.8499601124847%2C%2042.0%5D%2C%20%5B13.0646907%2C%2077.49626895712257%2C%204.0%5D%2C%20%5B12.973936%2C%2077.6509982%2C%2017.0%5D%2C%20%5B12.9778793%2C%2077.6246697%2C%2058.0%5D%2C%20%5B12.9414662%2C%2077.7470942%2C%207.0%5D%2C%20%5B12.988721250000001%2C%2077.58516877601824%2C%2022.0%5D%2C%20%5B44.3730577%2C%20-71.6118577%2C%20185.0%5D%2C%20%5B12.9489339%2C%2077.5968273%2C%2047.0%5D%2C%20%5B13.02383%2C%2077.5529215%2C%203.0%5D%5D%2C%0A%20%20%20%20%20%20%20%20%20%20%20%20%20%20%20%20%7B%0A%20%20%20%20%20%20%20%20%20%20%20%20%20%20%20%20%20%20%20%20minOpacity%3A%200.5%2C%0A%20%20%20%20%20%20%20%20%20%20%20%20%20%20%20%20%20%20%20%20maxZoom%3A%2020%2C%0A%20%20%20%20%20%20%20%20%20%20%20%20%20%20%20%20%20%20%20%20max%3A%201.0%2C%0A%20%20%20%20%20%20%20%20%20%20%20%20%20%20%20%20%20%20%20%20radius%3A%2015%2C%0A%20%20%20%20%20%20%20%20%20%20%20%20%20%20%20%20%20%20%20%20blur%3A%2015%2C%0A%20%20%20%20%20%20%20%20%20%20%20%20%20%20%20%20%20%20%20%20gradient%3A%20null%0A%20%20%20%20%20%20%20%20%20%20%20%20%20%20%20%20%20%20%20%20%7D%29%0A%20%20%20%20%20%20%20%20%20%20%20%20%20%20%20%20.addTo%28map_f9b16763a00e4a61b527769aa2763a29%29%3B%0A%20%20%20%20%20%20%20%20%0A%3C/script%3E onload=\"this.contentDocument.open();this.contentDocument.write(    decodeURIComponent(this.getAttribute('data-html')));this.contentDocument.close();\" allowfullscreen webkitallowfullscreen mozallowfullscreen></iframe></div></div>"
            ],
            "text/plain": [
              "<folium.folium.Map at 0x7f5569a62410>"
            ]
          },
          "metadata": {},
          "execution_count": 52
        }
      ]
    },
    {
      "cell_type": "code",
      "metadata": {
        "id": "m2mCdyjGFMXk"
      },
      "source": [
        "#AUTOMATING THE HEATMAP ZONE CUISINE WISE"
      ],
      "execution_count": 53,
      "outputs": []
    },
    {
      "cell_type": "code",
      "metadata": {
        "id": "dUNgCfBnGIXh"
      },
      "source": [
        "def Heatmap_Zone(zone):\n",
        "    df3=df[df['cuisines']==zone]\n",
        "    df_zone=df3.groupby(['location'],as_index=False)['url'].agg('count')\n",
        "    df_zone.columns=['Name','count']\n",
        "    df_zone=df_zone.merge(locations,on=\"Name\",how='left').dropna()\n",
        "    baseMap=generatebasemap()\n",
        "    HeatMap(df_zone[['lat','lon','count']].to_numpy(),max_zoom=20,radius=15).add_to(baseMap)\n",
        "    return baseMap"
      ],
      "execution_count": 54,
      "outputs": []
    },
    {
      "cell_type": "code",
      "metadata": {
        "colab": {
          "base_uri": "https://localhost:8080/"
        },
        "id": "hrtyEpA2Gm2R",
        "outputId": "9a2fcf16-8154-458a-d910-86cbd84260b6"
      },
      "source": [
        "df['cuisines'].unique()"
      ],
      "execution_count": 55,
      "outputs": [
        {
          "output_type": "execute_result",
          "data": {
            "text/plain": [
              "array(['North Indian, Mughlai, Chinese', 'Chinese, North Indian, Thai',\n",
              "       'Cafe, Mexican, Italian', ...,\n",
              "       'North Indian, Street Food, Biryani', 'Chinese, Mughlai',\n",
              "       'North Indian, Chinese, Arabian, Momos'], dtype=object)"
            ]
          },
          "metadata": {},
          "execution_count": 55
        }
      ]
    },
    {
      "cell_type": "code",
      "metadata": {
        "colab": {
          "base_uri": "https://localhost:8080/",
          "height": 854
        },
        "id": "GNsb72dMGtLH",
        "outputId": "c1e7e348-72db-47f5-8ae7-5460081d7db3"
      },
      "source": [
        "Heatmap_Zone('Italian')"
      ],
      "execution_count": 56,
      "outputs": [
        {
          "output_type": "execute_result",
          "data": {
            "text/html": [
              "<div style=\"width:100%;\"><div style=\"position:relative;width:100%;height:0;padding-bottom:60%;\"><span style=\"color:#565656\">Make this Notebook Trusted to load map: File -> Trust Notebook</span><iframe src=\"about:blank\" style=\"position:absolute;width:100%;height:100%;left:0;top:0;border:none !important;\" data-html=%3C%21DOCTYPE%20html%3E%0A%3Chead%3E%20%20%20%20%0A%20%20%20%20%3Cmeta%20http-equiv%3D%22content-type%22%20content%3D%22text/html%3B%20charset%3DUTF-8%22%20/%3E%0A%20%20%20%20%3Cscript%3EL_PREFER_CANVAS%3Dfalse%3B%20L_NO_TOUCH%3Dfalse%3B%20L_DISABLE_3D%3Dfalse%3B%3C/script%3E%0A%20%20%20%20%3Cscript%20src%3D%22https%3A//cdn.jsdelivr.net/npm/leaflet%401.4.0/dist/leaflet.js%22%3E%3C/script%3E%0A%20%20%20%20%3Cscript%20src%3D%22https%3A//code.jquery.com/jquery-1.12.4.min.js%22%3E%3C/script%3E%0A%20%20%20%20%3Cscript%20src%3D%22https%3A//maxcdn.bootstrapcdn.com/bootstrap/3.2.0/js/bootstrap.min.js%22%3E%3C/script%3E%0A%20%20%20%20%3Cscript%20src%3D%22https%3A//cdnjs.cloudflare.com/ajax/libs/Leaflet.awesome-markers/2.0.2/leaflet.awesome-markers.js%22%3E%3C/script%3E%0A%20%20%20%20%3Clink%20rel%3D%22stylesheet%22%20href%3D%22https%3A//cdn.jsdelivr.net/npm/leaflet%401.4.0/dist/leaflet.css%22/%3E%0A%20%20%20%20%3Clink%20rel%3D%22stylesheet%22%20href%3D%22https%3A//maxcdn.bootstrapcdn.com/bootstrap/3.2.0/css/bootstrap.min.css%22/%3E%0A%20%20%20%20%3Clink%20rel%3D%22stylesheet%22%20href%3D%22https%3A//maxcdn.bootstrapcdn.com/bootstrap/3.2.0/css/bootstrap-theme.min.css%22/%3E%0A%20%20%20%20%3Clink%20rel%3D%22stylesheet%22%20href%3D%22https%3A//maxcdn.bootstrapcdn.com/font-awesome/4.6.3/css/font-awesome.min.css%22/%3E%0A%20%20%20%20%3Clink%20rel%3D%22stylesheet%22%20href%3D%22https%3A//cdnjs.cloudflare.com/ajax/libs/Leaflet.awesome-markers/2.0.2/leaflet.awesome-markers.css%22/%3E%0A%20%20%20%20%3Clink%20rel%3D%22stylesheet%22%20href%3D%22https%3A//rawcdn.githack.com/python-visualization/folium/master/folium/templates/leaflet.awesome.rotate.css%22/%3E%0A%20%20%20%20%3Cstyle%3Ehtml%2C%20body%20%7Bwidth%3A%20100%25%3Bheight%3A%20100%25%3Bmargin%3A%200%3Bpadding%3A%200%3B%7D%3C/style%3E%0A%20%20%20%20%3Cstyle%3E%23map%20%7Bposition%3Aabsolute%3Btop%3A0%3Bbottom%3A0%3Bright%3A0%3Bleft%3A0%3B%7D%3C/style%3E%0A%20%20%20%20%0A%20%20%20%20%3Cmeta%20name%3D%22viewport%22%20content%3D%22width%3Ddevice-width%2C%0A%20%20%20%20%20%20%20%20initial-scale%3D1.0%2C%20maximum-scale%3D1.0%2C%20user-scalable%3Dno%22%20/%3E%0A%20%20%20%20%3Cstyle%3E%23map_4ce34ebea1e547f9a72eb138c5fa8607%20%7B%0A%20%20%20%20%20%20%20%20position%3A%20relative%3B%0A%20%20%20%20%20%20%20%20width%3A%20100.0%25%3B%0A%20%20%20%20%20%20%20%20height%3A%20100.0%25%3B%0A%20%20%20%20%20%20%20%20left%3A%200.0%25%3B%0A%20%20%20%20%20%20%20%20top%3A%200.0%25%3B%0A%20%20%20%20%20%20%20%20%7D%0A%20%20%20%20%3C/style%3E%0A%20%20%20%20%3Cscript%20src%3D%22https%3A//leaflet.github.io/Leaflet.heat/dist/leaflet-heat.js%22%3E%3C/script%3E%0A%3C/head%3E%0A%3Cbody%3E%20%20%20%20%0A%20%20%20%20%0A%20%20%20%20%3Cdiv%20class%3D%22folium-map%22%20id%3D%22map_4ce34ebea1e547f9a72eb138c5fa8607%22%20%3E%3C/div%3E%0A%3C/body%3E%0A%3Cscript%3E%20%20%20%20%0A%20%20%20%20%0A%20%20%20%20%0A%20%20%20%20%20%20%20%20var%20bounds%20%3D%20null%3B%0A%20%20%20%20%0A%0A%20%20%20%20var%20map_4ce34ebea1e547f9a72eb138c5fa8607%20%3D%20L.map%28%0A%20%20%20%20%20%20%20%20%27map_4ce34ebea1e547f9a72eb138c5fa8607%27%2C%20%7B%0A%20%20%20%20%20%20%20%20center%3A%20%5B12.97%2C%2077.59%5D%2C%0A%20%20%20%20%20%20%20%20zoom%3A%2012%2C%0A%20%20%20%20%20%20%20%20maxBounds%3A%20bounds%2C%0A%20%20%20%20%20%20%20%20layers%3A%20%5B%5D%2C%0A%20%20%20%20%20%20%20%20worldCopyJump%3A%20false%2C%0A%20%20%20%20%20%20%20%20crs%3A%20L.CRS.EPSG3857%2C%0A%20%20%20%20%20%20%20%20zoomControl%3A%20true%2C%0A%20%20%20%20%20%20%20%20%7D%29%3B%0A%0A%0A%20%20%20%20%0A%20%20%20%20var%20tile_layer_1370d0b7dd044e73bfbb8dcb2b1c0ed4%20%3D%20L.tileLayer%28%0A%20%20%20%20%20%20%20%20%27https%3A//%7Bs%7D.tile.openstreetmap.org/%7Bz%7D/%7Bx%7D/%7By%7D.png%27%2C%0A%20%20%20%20%20%20%20%20%7B%0A%20%20%20%20%20%20%20%20%22attribution%22%3A%20null%2C%0A%20%20%20%20%20%20%20%20%22detectRetina%22%3A%20false%2C%0A%20%20%20%20%20%20%20%20%22maxNativeZoom%22%3A%2018%2C%0A%20%20%20%20%20%20%20%20%22maxZoom%22%3A%2018%2C%0A%20%20%20%20%20%20%20%20%22minZoom%22%3A%200%2C%0A%20%20%20%20%20%20%20%20%22noWrap%22%3A%20false%2C%0A%20%20%20%20%20%20%20%20%22opacity%22%3A%201%2C%0A%20%20%20%20%20%20%20%20%22subdomains%22%3A%20%22abc%22%2C%0A%20%20%20%20%20%20%20%20%22tms%22%3A%20false%0A%7D%29.addTo%28map_4ce34ebea1e547f9a72eb138c5fa8607%29%3B%0A%20%20%20%20%0A%20%20%20%20%20%20%20%20%20%20%20%20var%20heat_map_b2d96bfa85b944f6b495293baf18d8c4%20%3D%20L.heatLayer%28%0A%20%20%20%20%20%20%20%20%20%20%20%20%20%20%20%20%5B%5B45.95485055%2C%20-112.49659530324134%2C%208.0%5D%2C%20%5B12.9059707%2C%2077.6017374%2C%203.0%5D%2C%20%5B32.2934563%2C%20-64.78236307254568%2C%201.0%5D%2C%20%5B12.9859966%2C%2077.7327435%2C%201.0%5D%2C%20%5B12.9732913%2C%2077.6404672%2C%204.0%5D%2C%20%5B12.2655944%2C%2076.6465404%2C%202.0%5D%2C%20%5B13.0221416%2C%2077.6403368%2C%204.0%5D%2C%20%5B12.93433385%2C%2077.63040639553275%2C%204.0%5D%2C%20%5B12.9343774%2C%2077.628415%2C%205.0%5D%2C%20%5B12.9081487%2C%2077.5553179%2C%202.0%5D%2C%20%5B40.7652844%2C%20-76.373824%2C%204.0%5D%2C%20%5B17.1452094%2C%2079.6218777%2C%2012.0%5D%2C%20%5B12.9882338%2C%2077.554883%2C%203.0%5D%2C%20%5B13.0621474%2C%2077.58006135480495%2C%202.0%5D%2C%20%5B12.988721250000001%2C%2077.58516877601824%2C%201.0%5D%2C%20%5B44.3730577%2C%20-71.6118577%2C%204.0%5D%5D%2C%0A%20%20%20%20%20%20%20%20%20%20%20%20%20%20%20%20%7B%0A%20%20%20%20%20%20%20%20%20%20%20%20%20%20%20%20%20%20%20%20minOpacity%3A%200.5%2C%0A%20%20%20%20%20%20%20%20%20%20%20%20%20%20%20%20%20%20%20%20maxZoom%3A%2020%2C%0A%20%20%20%20%20%20%20%20%20%20%20%20%20%20%20%20%20%20%20%20max%3A%201.0%2C%0A%20%20%20%20%20%20%20%20%20%20%20%20%20%20%20%20%20%20%20%20radius%3A%2015%2C%0A%20%20%20%20%20%20%20%20%20%20%20%20%20%20%20%20%20%20%20%20blur%3A%2015%2C%0A%20%20%20%20%20%20%20%20%20%20%20%20%20%20%20%20%20%20%20%20gradient%3A%20null%0A%20%20%20%20%20%20%20%20%20%20%20%20%20%20%20%20%20%20%20%20%7D%29%0A%20%20%20%20%20%20%20%20%20%20%20%20%20%20%20%20.addTo%28map_4ce34ebea1e547f9a72eb138c5fa8607%29%3B%0A%20%20%20%20%20%20%20%20%0A%3C/script%3E onload=\"this.contentDocument.open();this.contentDocument.write(    decodeURIComponent(this.getAttribute('data-html')));this.contentDocument.close();\" allowfullscreen webkitallowfullscreen mozallowfullscreen></iframe></div></div>"
            ],
            "text/plain": [
              "<folium.folium.Map at 0x7f5553b3a550>"
            ]
          },
          "metadata": {},
          "execution_count": 56
        }
      ]
    },
    {
      "cell_type": "code",
      "metadata": {
        "id": "-zc1GAcLIUEF"
      },
      "source": [
        ""
      ],
      "execution_count": 56,
      "outputs": []
    }
  ]
}